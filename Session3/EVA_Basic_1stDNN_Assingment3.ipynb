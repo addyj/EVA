{
  "nbformat": 4,
  "nbformat_minor": 0,
  "metadata": {
    "colab": {
      "name": "EVA_Basic_1stDNN_Assingment3.ipynb",
      "version": "0.3.2",
      "provenance": [],
      "collapsed_sections": []
    },
    "kernelspec": {
      "name": "python3",
      "display_name": "Python 3"
    },
    "accelerator": "GPU"
  },
  "cells": [
    {
      "cell_type": "markdown",
      "metadata": {
        "id": "ApsQaomC59hf",
        "colab_type": "text"
      },
      "source": [
        "### Aditya Jindal\n",
        "### Batch M6\n",
        "### Assingment 3"
      ]
    },
    {
      "cell_type": "markdown",
      "metadata": {
        "id": "aNyZv-Ec52ot",
        "colab_type": "text"
      },
      "source": [
        "# **Import Libraries and modules**"
      ]
    },
    {
      "cell_type": "code",
      "metadata": {
        "id": "3m3w1Cw49Zkt",
        "colab_type": "code",
        "outputId": "a380ea79-dd0a-4c54-b0c2-61d0e99f2f79",
        "colab": {
          "base_uri": "https://localhost:8080/",
          "height": 34
        }
      },
      "source": [
        "# https://keras.io/\n",
        "# Installing Keras\n",
        "!pip install -q keras\n",
        "import keras"
      ],
      "execution_count": 1,
      "outputs": [
        {
          "output_type": "stream",
          "text": [
            "Using TensorFlow backend.\n"
          ],
          "name": "stderr"
        }
      ]
    },
    {
      "cell_type": "code",
      "metadata": {
        "id": "Eso6UHE080D4",
        "colab_type": "code",
        "colab": {}
      },
      "source": [
        "# Importing required libraries\n",
        "import numpy as np\n",
        "import math\n",
        "from keras.models import Model,Sequential\n",
        "from keras.layers import Activation, Flatten, Input, Dropout\n",
        "from keras.layers import Conv2D, MaxPooling2D, BatchNormalization\n",
        "from keras.utils import np_utils\n",
        "from keras.optimizers import Adam\n",
        "from keras.datasets import mnist"
      ],
      "execution_count": 0,
      "outputs": []
    },
    {
      "cell_type": "markdown",
      "metadata": {
        "id": "zByEi95J86RD",
        "colab_type": "text"
      },
      "source": [
        "### Load pre-shuffled MNIST data into train and test sets"
      ]
    },
    {
      "cell_type": "code",
      "metadata": {
        "id": "7eRM0QWN83PV",
        "colab_type": "code",
        "outputId": "5f7ccc97-dc0d-4ab9-9fa0-ef1ea0f50e0b",
        "colab": {
          "base_uri": "https://localhost:8080/",
          "height": 52
        }
      },
      "source": [
        "#Loading greyscale handwritten digit dataset images and labels to colab\n",
        "(X_train, y_train), (X_test, y_test) = mnist.load_data()"
      ],
      "execution_count": 3,
      "outputs": [
        {
          "output_type": "stream",
          "text": [
            "Downloading data from https://s3.amazonaws.com/img-datasets/mnist.npz\n",
            "11493376/11490434 [==============================] - 0s 0us/step\n"
          ],
          "name": "stdout"
        }
      ]
    },
    {
      "cell_type": "code",
      "metadata": {
        "id": "4a4Be72j8-ZC",
        "colab_type": "code",
        "outputId": "5d50e62f-6056-4447-8908-3bcf868f0222",
        "colab": {
          "base_uri": "https://localhost:8080/",
          "height": 304
        }
      },
      "source": [
        "# Printing the first image and shape of the image\n",
        "print (X_train.shape)\n",
        "from matplotlib import pyplot as plt\n",
        "%matplotlib inline\n",
        "plt.imshow(X_train[0])"
      ],
      "execution_count": 4,
      "outputs": [
        {
          "output_type": "stream",
          "text": [
            "(60000, 28, 28)\n"
          ],
          "name": "stdout"
        },
        {
          "output_type": "execute_result",
          "data": {
            "text/plain": [
              "<matplotlib.image.AxesImage at 0x7f0815971cc0>"
            ]
          },
          "metadata": {
            "tags": []
          },
          "execution_count": 4
        },
        {
          "output_type": "display_data",
          "data": {
            "image/png": "[encoded data removed]",
            "text/plain": [
              "<Figure size 432x288 with 1 Axes>"
            ]
          },
          "metadata": {
            "tags": []
          }
        }
      ]
    },
    {
      "cell_type": "code",
      "metadata": {
        "id": "dkmprriw9AnZ",
        "colab_type": "code",
        "colab": {}
      },
      "source": [
        "# reshaping images to get a single channel\n",
        "X_train = X_train.reshape(X_train.shape[0], 28, 28,1)\n",
        "X_test = X_test.reshape(X_test.shape[0], 28, 28,1)"
      ],
      "execution_count": 0,
      "outputs": []
    },
    {
      "cell_type": "code",
      "metadata": {
        "id": "X2m4YS4E9CRh",
        "colab_type": "code",
        "colab": {}
      },
      "source": [
        "# Converting to float and normalizing ixel value to be btw 0-1\n",
        "X_train = X_train.astype('float32')\n",
        "X_test = X_test.astype('float32')\n",
        "X_train /= 255\n",
        "X_test /= 255"
      ],
      "execution_count": 0,
      "outputs": []
    },
    {
      "cell_type": "code",
      "metadata": {
        "id": "0Mn0vAYD9DvB",
        "colab_type": "code",
        "outputId": "eb2eda69-b533-4fe9-fcb3-b35ec26f2859",
        "colab": {
          "base_uri": "https://localhost:8080/",
          "height": 34
        }
      },
      "source": [
        "y_train[:10]"
      ],
      "execution_count": 7,
      "outputs": [
        {
          "output_type": "execute_result",
          "data": {
            "text/plain": [
              "array([5, 0, 4, 1, 9, 2, 1, 3, 1, 4], dtype=uint8)"
            ]
          },
          "metadata": {
            "tags": []
          },
          "execution_count": 7
        }
      ]
    },
    {
      "cell_type": "code",
      "metadata": {
        "id": "ZG8JiXR39FHC",
        "colab_type": "code",
        "colab": {}
      },
      "source": [
        "# Convert 1-dimensional class arrays to 10-dimensional class matrices\n",
        "Y_train = np_utils.to_categorical(y_train, 10)\n",
        "Y_test = np_utils.to_categorical(y_test, 10)"
      ],
      "execution_count": 0,
      "outputs": []
    },
    {
      "cell_type": "code",
      "metadata": {
        "id": "fYlFRvKS9HMB",
        "colab_type": "code",
        "outputId": "e463380c-31a3-46c5-848c-40776f6d567a",
        "colab": {
          "base_uri": "https://localhost:8080/",
          "height": 191
        }
      },
      "source": [
        "Y_train[:10]\n"
      ],
      "execution_count": 9,
      "outputs": [
        {
          "output_type": "execute_result",
          "data": {
            "text/plain": [
              "array([[0., 0., 0., 0., 0., 1., 0., 0., 0., 0.],\n",
              "       [1., 0., 0., 0., 0., 0., 0., 0., 0., 0.],\n",
              "       [0., 0., 0., 0., 1., 0., 0., 0., 0., 0.],\n",
              "       [0., 1., 0., 0., 0., 0., 0., 0., 0., 0.],\n",
              "       [0., 0., 0., 0., 0., 0., 0., 0., 0., 1.],\n",
              "       [0., 0., 1., 0., 0., 0., 0., 0., 0., 0.],\n",
              "       [0., 1., 0., 0., 0., 0., 0., 0., 0., 0.],\n",
              "       [0., 0., 0., 1., 0., 0., 0., 0., 0., 0.],\n",
              "       [0., 1., 0., 0., 0., 0., 0., 0., 0., 0.],\n",
              "       [0., 0., 0., 0., 1., 0., 0., 0., 0., 0.]], dtype=float32)"
            ]
          },
          "metadata": {
            "tags": []
          },
          "execution_count": 9
        }
      ]
    },
    {
      "cell_type": "code",
      "metadata": {
        "id": "osKqT73Q9JJB",
        "colab_type": "code",
        "outputId": "ea26790b-54dd-4c46-b155-86dedc40acd2",
        "colab": {
          "base_uri": "https://localhost:8080/",
          "height": 141
        }
      },
      "source": [
        "# Declaring the sequential model\n",
        "model = Sequential() \n",
        "model.add(Conv2D(32, (3, 3), activation='relu', input_shape=(28,28,1)))\n",
        "model.add(BatchNormalization())\n",
        "model.add(Conv2D(8, (1, 1), activation='relu'))\n",
        "model.add(BatchNormalization())\n",
        "model.add(Conv2D(32, (3, 3), activation='relu'))\n",
        "model.add(Dropout(0.3))\n",
        "model.add(BatchNormalization())\n",
        "model.add(Conv2D(8, (1, 1), activation='relu'))\n",
        "model.add(BatchNormalization())\n",
        "model.add(Conv2D(32, (3, 3), activation='relu'))\n",
        "model.add(Dropout(0.3))\n",
        "model.add(MaxPooling2D(pool_size=(2,2)))\n",
        "model.add(BatchNormalization())\n",
        "model.add(Conv2D(8, (1, 1), activation='relu'))\n",
        "model.add(BatchNormalization())\n",
        "model.add(Conv2D(32, (3, 3), activation='relu'))\n",
        "model.add(Dropout(0.3))\n",
        "model.add(BatchNormalization())\n",
        "model.add(Conv2D(8, (1, 1), activation='relu'))\n",
        "model.add(BatchNormalization())\n",
        "model.add(Conv2D(32, (3, 3), activation='relu'))\n",
        "model.add(Dropout(0.4))\n",
        "model.add(BatchNormalization())\n",
        "model.add(Conv2D(8, (1, 1), activation='relu'))\n",
        "model.add(BatchNormalization())\n",
        "model.add(Conv2D(32, (3, 3), activation='relu'))\n",
        "model.add(Dropout(0.3))\n",
        "model.add(BatchNormalization())\n",
        "model.add(Conv2D(8, (1, 1), activation='relu'))\n",
        "model.add(BatchNormalization())\n",
        "model.add(Conv2D(32, (3, 3), activation='relu'))\n",
        "model.add(Dropout(0.3))\n",
        "model.add(BatchNormalization())\n",
        "model.add(Conv2D(8, (1, 1), activation='relu'))\n",
        "model.add(BatchNormalization())\n",
        "model.add(Conv2D(32, (3, 3), activation='relu'))\n",
        "model.add(Conv2D(10, (1, 1)))\n",
        "model.add(Flatten())\n",
        "model.add(Activation('softmax'))\n"
      ],
      "execution_count": 10,
      "outputs": [
        {
          "output_type": "stream",
          "text": [
            "WARNING:tensorflow:From /usr/local/lib/python3.6/dist-packages/tensorflow/python/framework/op_def_library.py:263: colocate_with (from tensorflow.python.framework.ops) is deprecated and will be removed in a future version.\n",
            "Instructions for updating:\n",
            "Colocations handled automatically by placer.\n",
            "WARNING:tensorflow:From /usr/local/lib/python3.6/dist-packages/keras/backend/tensorflow_backend.py:3445: calling dropout (from tensorflow.python.ops.nn_ops) with keep_prob is deprecated and will be removed in a future version.\n",
            "Instructions for updating:\n",
            "Please use `rate` instead of `keep_prob`. Rate should be set to `rate = 1 - keep_prob`.\n"
          ],
          "name": "stdout"
        }
      ]
    },
    {
      "cell_type": "code",
      "metadata": {
        "id": "TzdAYg1k9K7Z",
        "colab_type": "code",
        "outputId": "ad4dcfe3-30b2-4a8a-f6e3-b8f6e78838f9",
        "colab": {
          "base_uri": "https://localhost:8080/",
          "height": 1493
        }
      },
      "source": [
        "model.summary()"
      ],
      "execution_count": 11,
      "outputs": [
        {
          "output_type": "stream",
          "text": [
            "_________________________________________________________________\n",
            "Layer (type)                 Output Shape              Param #   \n",
            "=================================================================\n",
            "conv2d_1 (Conv2D)            (None, 26, 26, 32)        320       \n",
            "_________________________________________________________________\n",
            "batch_normalization_1 (Batch (None, 26, 26, 32)        128       \n",
            "_________________________________________________________________\n",
            "conv2d_2 (Conv2D)            (None, 26, 26, 8)         264       \n",
            "_________________________________________________________________\n",
            "batch_normalization_2 (Batch (None, 26, 26, 8)         32        \n",
            "_________________________________________________________________\n",
            "conv2d_3 (Conv2D)            (None, 24, 24, 32)        2336      \n",
            "_________________________________________________________________\n",
            "dropout_1 (Dropout)          (None, 24, 24, 32)        0         \n",
            "_________________________________________________________________\n",
            "batch_normalization_3 (Batch (None, 24, 24, 32)        128       \n",
            "_________________________________________________________________\n",
            "conv2d_4 (Conv2D)            (None, 24, 24, 8)         264       \n",
            "_________________________________________________________________\n",
            "batch_normalization_4 (Batch (None, 24, 24, 8)         32        \n",
            "_________________________________________________________________\n",
            "conv2d_5 (Conv2D)            (None, 22, 22, 32)        2336      \n",
            "_________________________________________________________________\n",
            "dropout_2 (Dropout)          (None, 22, 22, 32)        0         \n",
            "_________________________________________________________________\n",
            "max_pooling2d_1 (MaxPooling2 (None, 11, 11, 32)        0         \n",
            "_________________________________________________________________\n",
            "batch_normalization_5 (Batch (None, 11, 11, 32)        128       \n",
            "_________________________________________________________________\n",
            "conv2d_6 (Conv2D)            (None, 11, 11, 8)         264       \n",
            "_________________________________________________________________\n",
            "batch_normalization_6 (Batch (None, 11, 11, 8)         32        \n",
            "_________________________________________________________________\n",
            "conv2d_7 (Conv2D)            (None, 9, 9, 32)          2336      \n",
            "_________________________________________________________________\n",
            "dropout_3 (Dropout)          (None, 9, 9, 32)          0         \n",
            "_________________________________________________________________\n",
            "batch_normalization_7 (Batch (None, 9, 9, 32)          128       \n",
            "_________________________________________________________________\n",
            "conv2d_8 (Conv2D)            (None, 9, 9, 8)           264       \n",
            "_________________________________________________________________\n",
            "batch_normalization_8 (Batch (None, 9, 9, 8)           32        \n",
            "_________________________________________________________________\n",
            "conv2d_9 (Conv2D)            (None, 7, 7, 32)          2336      \n",
            "_________________________________________________________________\n",
            "dropout_4 (Dropout)          (None, 7, 7, 32)          0         \n",
            "_________________________________________________________________\n",
            "batch_normalization_9 (Batch (None, 7, 7, 32)          128       \n",
            "_________________________________________________________________\n",
            "conv2d_10 (Conv2D)           (None, 7, 7, 8)           264       \n",
            "_________________________________________________________________\n",
            "batch_normalization_10 (Batc (None, 7, 7, 8)           32        \n",
            "_________________________________________________________________\n",
            "conv2d_11 (Conv2D)           (None, 5, 5, 32)          2336      \n",
            "_________________________________________________________________\n",
            "dropout_5 (Dropout)          (None, 5, 5, 32)          0         \n",
            "_________________________________________________________________\n",
            "batch_normalization_11 (Batc (None, 5, 5, 32)          128       \n",
            "_________________________________________________________________\n",
            "conv2d_12 (Conv2D)           (None, 5, 5, 8)           264       \n",
            "_________________________________________________________________\n",
            "batch_normalization_12 (Batc (None, 5, 5, 8)           32        \n",
            "_________________________________________________________________\n",
            "conv2d_13 (Conv2D)           (None, 3, 3, 32)          2336      \n",
            "_________________________________________________________________\n",
            "dropout_6 (Dropout)          (None, 3, 3, 32)          0         \n",
            "_________________________________________________________________\n",
            "batch_normalization_13 (Batc (None, 3, 3, 32)          128       \n",
            "_________________________________________________________________\n",
            "conv2d_14 (Conv2D)           (None, 3, 3, 8)           264       \n",
            "_________________________________________________________________\n",
            "batch_normalization_14 (Batc (None, 3, 3, 8)           32        \n",
            "_________________________________________________________________\n",
            "conv2d_15 (Conv2D)           (None, 1, 1, 32)          2336      \n",
            "_________________________________________________________________\n",
            "conv2d_16 (Conv2D)           (None, 1, 1, 10)          330       \n",
            "_________________________________________________________________\n",
            "flatten_1 (Flatten)          (None, 10)                0         \n",
            "_________________________________________________________________\n",
            "activation_1 (Activation)    (None, 10)                0         \n",
            "=================================================================\n",
            "Total params: 19,970\n",
            "Trainable params: 19,410\n",
            "Non-trainable params: 560\n",
            "_________________________________________________________________\n"
          ],
          "name": "stdout"
        }
      ]
    },
    {
      "cell_type": "code",
      "metadata": {
        "id": "Zp6SuGrL9M3h",
        "colab_type": "code",
        "colab": {}
      },
      "source": [
        "# Defining the loss function and optimiser\n",
        "\n",
        "model.compile(loss='categorical_crossentropy',\n",
        "              optimizer='adam',\n",
        "              metrics=['accuracy'])"
      ],
      "execution_count": 0,
      "outputs": []
    },
    {
      "cell_type": "code",
      "metadata": {
        "id": "4xWoKhPY9Of5",
        "colab_type": "code",
        "outputId": "68a7dd67-d8fa-479d-f45a-8bd4b3d58f4b",
        "colab": {
          "base_uri": "https://localhost:8080/",
          "height": 992
        }
      },
      "source": [
        "# Training the model\n",
        "model.fit(X_train, Y_train, batch_size=128, epochs = 25, verbose=1, validation_data=(X_test, Y_test))\n"
      ],
      "execution_count": 13,
      "outputs": [
        {
          "output_type": "stream",
          "text": [
            "WARNING:tensorflow:From /usr/local/lib/python3.6/dist-packages/tensorflow/python/ops/math_ops.py:3066: to_int32 (from tensorflow.python.ops.math_ops) is deprecated and will be removed in a future version.\n",
            "Instructions for updating:\n",
            "Use tf.cast instead.\n",
            "Train on 60000 samples, validate on 10000 samples\n",
            "Epoch 1/25\n",
            "60000/60000 [==============================] - 17s 282us/step - loss: 1.1386 - acc: 0.5948 - val_loss: 0.3256 - val_acc: 0.8992\n",
            "Epoch 2/25\n",
            "60000/60000 [==============================] - 12s 196us/step - loss: 0.2403 - acc: 0.9269 - val_loss: 0.1566 - val_acc: 0.9558\n",
            "Epoch 3/25\n",
            "60000/60000 [==============================] - 13s 210us/step - loss: 0.1522 - acc: 0.9533 - val_loss: 0.2037 - val_acc: 0.9414\n",
            "Epoch 4/25\n",
            "60000/60000 [==============================] - 12s 196us/step - loss: 0.1185 - acc: 0.9634 - val_loss: 0.1067 - val_acc: 0.9682\n",
            "Epoch 5/25\n",
            "60000/60000 [==============================] - 12s 195us/step - loss: 0.0998 - acc: 0.9692 - val_loss: 0.0959 - val_acc: 0.9739\n",
            "Epoch 6/25\n",
            "60000/60000 [==============================] - 12s 195us/step - loss: 0.0876 - acc: 0.9727 - val_loss: 0.0954 - val_acc: 0.9735\n",
            "Epoch 7/25\n",
            "60000/60000 [==============================] - 12s 196us/step - loss: 0.0795 - acc: 0.9758 - val_loss: 0.0706 - val_acc: 0.9800\n",
            "Epoch 8/25\n",
            "60000/60000 [==============================] - 12s 200us/step - loss: 0.0727 - acc: 0.9775 - val_loss: 0.0615 - val_acc: 0.9822\n",
            "Epoch 9/25\n",
            "60000/60000 [==============================] - 12s 199us/step - loss: 0.0670 - acc: 0.9790 - val_loss: 0.0609 - val_acc: 0.9831\n",
            "Epoch 10/25\n",
            "60000/60000 [==============================] - 12s 205us/step - loss: 0.0622 - acc: 0.9805 - val_loss: 0.0417 - val_acc: 0.9879\n",
            "Epoch 11/25\n",
            "60000/60000 [==============================] - 12s 193us/step - loss: 0.0590 - acc: 0.9821 - val_loss: 0.0659 - val_acc: 0.9807\n",
            "Epoch 12/25\n",
            "60000/60000 [==============================] - 12s 197us/step - loss: 0.0589 - acc: 0.9814 - val_loss: 0.0505 - val_acc: 0.9858\n",
            "Epoch 13/25\n",
            "60000/60000 [==============================] - 12s 193us/step - loss: 0.0542 - acc: 0.9831 - val_loss: 0.0576 - val_acc: 0.9832\n",
            "Epoch 14/25\n",
            "60000/60000 [==============================] - 12s 194us/step - loss: 0.0526 - acc: 0.9838 - val_loss: 0.0580 - val_acc: 0.9847\n",
            "Epoch 15/25\n",
            "60000/60000 [==============================] - 12s 193us/step - loss: 0.0512 - acc: 0.9836 - val_loss: 0.0401 - val_acc: 0.9878\n",
            "Epoch 16/25\n",
            "60000/60000 [==============================] - 12s 199us/step - loss: 0.0505 - acc: 0.9839 - val_loss: 0.0387 - val_acc: 0.9891\n",
            "Epoch 17/25\n",
            "60000/60000 [==============================] - 12s 203us/step - loss: 0.0497 - acc: 0.9849 - val_loss: 0.0576 - val_acc: 0.9851\n",
            "Epoch 18/25\n",
            "60000/60000 [==============================] - 12s 195us/step - loss: 0.0473 - acc: 0.9857 - val_loss: 0.0428 - val_acc: 0.9872\n",
            "Epoch 19/25\n",
            "60000/60000 [==============================] - 13s 211us/step - loss: 0.0472 - acc: 0.9856 - val_loss: 0.0358 - val_acc: 0.9902\n",
            "Epoch 20/25\n",
            "60000/60000 [==============================] - 12s 192us/step - loss: 0.0461 - acc: 0.9854 - val_loss: 0.0631 - val_acc: 0.9826\n",
            "Epoch 21/25\n",
            "60000/60000 [==============================] - 11s 191us/step - loss: 0.0448 - acc: 0.9865 - val_loss: 0.0515 - val_acc: 0.9863\n",
            "Epoch 22/25\n",
            "60000/60000 [==============================] - 12s 192us/step - loss: 0.0445 - acc: 0.9865 - val_loss: 0.0423 - val_acc: 0.9888\n",
            "Epoch 23/25\n",
            "60000/60000 [==============================] - 12s 204us/step - loss: 0.0433 - acc: 0.9865 - val_loss: 0.0495 - val_acc: 0.9850\n",
            "Epoch 24/25\n",
            "60000/60000 [==============================] - 12s 197us/step - loss: 0.0425 - acc: 0.9867 - val_loss: 0.0362 - val_acc: 0.9906\n",
            "Epoch 25/25\n",
            "60000/60000 [==============================] - 12s 202us/step - loss: 0.0416 - acc: 0.9871 - val_loss: 0.0454 - val_acc: 0.9874\n"
          ],
          "name": "stdout"
        },
        {
          "output_type": "execute_result",
          "data": {
            "text/plain": [
              "<keras.callbacks.History at 0x7f07e5797898>"
            ]
          },
          "metadata": {
            "tags": []
          },
          "execution_count": 13
        }
      ]
    },
    {
      "cell_type": "code",
      "metadata": {
        "id": "AtsH-lLk-eLb",
        "colab_type": "code",
        "colab": {}
      },
      "source": [
        "# evaluating the model on test data\n",
        "score = model.evaluate(X_test, Y_test, verbose=0)"
      ],
      "execution_count": 0,
      "outputs": []
    },
    {
      "cell_type": "code",
      "metadata": {
        "id": "mkX8JMv79q9r",
        "colab_type": "code",
        "outputId": "a92afabd-dd2f-48a4-dbd1-468b89e65a98",
        "colab": {
          "base_uri": "https://localhost:8080/",
          "height": 34
        }
      },
      "source": [
        "print(score)"
      ],
      "execution_count": 15,
      "outputs": [
        {
          "output_type": "stream",
          "text": [
            "[0.0454450829257723, 0.9874]\n"
          ],
          "name": "stdout"
        }
      ]
    },
    {
      "cell_type": "code",
      "metadata": {
        "id": "OCWoJkwE9suh",
        "colab_type": "code",
        "colab": {}
      },
      "source": [
        "# Printing the prediction of label and the actual labels\n",
        "y_pred = model.predict(X_test)"
      ],
      "execution_count": 0,
      "outputs": []
    },
    {
      "cell_type": "code",
      "metadata": {
        "id": "Ym7iCFBm9uBs",
        "colab_type": "code",
        "outputId": "54063a0a-c62c-4894-b127-297cbef6dcb9",
        "colab": {
          "base_uri": "https://localhost:8080/",
          "height": 503
        }
      },
      "source": [
        "print(y_pred[:9])\n",
        "print(y_test[:9])"
      ],
      "execution_count": 17,
      "outputs": [
        {
          "output_type": "stream",
          "text": [
            "[[2.67650735e-10 2.16052115e-07 6.31382454e-06 3.12999447e-07\n",
            "  7.16088550e-07 8.99008246e-09 4.65631173e-10 9.99992132e-01\n",
            "  4.21344879e-08 2.99737337e-07]\n",
            " [4.35941026e-08 4.53464396e-04 9.99528408e-01 1.84786245e-07\n",
            "  3.91367507e-07 5.29206409e-06 1.71727584e-06 1.04262244e-05\n",
            "  1.19670309e-08 1.62547309e-08]\n",
            " [7.09057757e-10 9.99985933e-01 3.35162099e-06 9.16679799e-09\n",
            "  4.73130149e-06 9.32059336e-08 8.03608060e-08 5.58045213e-06\n",
            "  1.44199674e-08 2.39502697e-07]\n",
            " [9.99962568e-01 1.83670309e-07 9.38640241e-08 1.85768283e-06\n",
            "  1.92295474e-07 3.57586515e-07 3.16417900e-05 3.92919276e-07\n",
            "  1.25437373e-06 1.46803961e-06]\n",
            " [6.90898116e-10 4.09933782e-05 8.26553560e-07 2.81766555e-10\n",
            "  9.99849677e-01 1.00934558e-08 4.76313033e-07 1.24173257e-05\n",
            "  5.51387927e-07 9.50972753e-05]\n",
            " [1.14779530e-09 9.99971032e-01 7.22052118e-06 1.28270523e-08\n",
            "  5.38612858e-06 8.42931129e-08 1.85516953e-07 1.51097765e-05\n",
            "  9.25280972e-08 8.19785214e-07]\n",
            " [1.36601693e-06 9.95430513e-04 2.18244342e-04 5.72173531e-06\n",
            "  9.90840375e-01 4.03590320e-06 1.93411302e-06 2.93837185e-03\n",
            "  9.84211001e-05 4.89622867e-03]\n",
            " [9.18596665e-09 2.86371755e-06 1.94346239e-06 2.92841960e-05\n",
            "  3.93860182e-03 1.01063961e-04 1.56960827e-08 1.30386092e-04\n",
            "  1.77369475e-05 9.95778084e-01]\n",
            " [2.88467631e-02 8.68137249e-06 3.74297269e-05 1.40297300e-06\n",
            "  3.63054960e-06 4.98675108e-01 4.71882463e-01 1.80534080e-05\n",
            "  3.08949791e-04 2.17465902e-04]]\n",
            "[7 2 1 0 4 1 4 9 5]\n"
          ],
          "name": "stdout"
        }
      ]
    },
    {
      "cell_type": "code",
      "metadata": {
        "id": "CT--y98_dr2T",
        "colab_type": "code",
        "colab": {}
      },
      "source": [
        "layer_dict = dict([(layer.name, layer) for layer in model.layers])"
      ],
      "execution_count": 0,
      "outputs": []
    },
    {
      "cell_type": "code",
      "metadata": {
        "id": "2GY4Upv4dsUR",
        "colab_type": "code",
        "outputId": "eb8bb36a-cbe6-4511-e39a-1856f068c003",
        "colab": {
          "base_uri": "https://localhost:8080/",
          "height": 837
        }
      },
      "source": [
        "# Visualising kernel at a convolutional layer\n",
        "\n",
        "import numpy as np\n",
        "from matplotlib import pyplot as plt\n",
        "from keras import backend as K\n",
        "%matplotlib inline\n",
        "# util function to convert a tensor into a valid image\n",
        "def deprocess_image(x):\n",
        "    # normalize tensor: center on 0., ensure std is 0.1\n",
        "    x -= x.mean()\n",
        "    x /= (x.std() + 1e-5)\n",
        "    x *= 0.1\n",
        "\n",
        "    # clip to [0, 1]\n",
        "    x += 0.5\n",
        "    x = np.clip(x, 0, 1)\n",
        "\n",
        "    # convert to RGB array\n",
        "    x *= 255\n",
        "    #x = x.transpose((1, 2, 0))\n",
        "    x = np.clip(x, 0, 255).astype('uint8')\n",
        "    return x\n",
        "\n",
        "def vis_img_in_filter(img = np.array(X_train[2]).reshape((1, 28, 28, 1)).astype(np.float64), \n",
        "                      layer_name = 'conv2d_5'):\n",
        "    layer_output = layer_dict[layer_name].output\n",
        "    img_ascs = list()\n",
        "    for filter_index in range(layer_output.shape[3]):\n",
        "        # build a loss function that maximizes the activation\n",
        "        # of the nth filter of the layer considered\n",
        "        loss = K.mean(layer_output[:, :, :, filter_index])\n",
        "\n",
        "        # compute the gradient of the input picture wrt this loss\n",
        "        grads = K.gradients(loss, model.input)[0]\n",
        "\n",
        "        # normalization trick: we normalize the gradient\n",
        "        grads /= (K.sqrt(K.mean(K.square(grads))) + 1e-5)\n",
        "\n",
        "        # this function returns the loss and grads given the input picture\n",
        "        iterate = K.function([model.input], [loss, grads])\n",
        "\n",
        "        # step size for gradient ascent\n",
        "        step = 5.\n",
        "\n",
        "        img_asc = np.array(img)\n",
        "        # run gradient ascent for 20 steps\n",
        "        for i in range(20):\n",
        "            loss_value, grads_value = iterate([img_asc])\n",
        "            img_asc += grads_value * step\n",
        "\n",
        "        img_asc = img_asc[0]\n",
        "        img_ascs.append(deprocess_image(img_asc).reshape((28, 28)))\n",
        "        \n",
        "    if layer_output.shape[3] >= 35:\n",
        "        plot_x, plot_y = 6, 6\n",
        "    elif layer_output.shape[3] >= 23:\n",
        "        plot_x, plot_y = 4, 6\n",
        "    elif layer_output.shape[3] >= 11:\n",
        "        plot_x, plot_y = 2, 6\n",
        "    else:\n",
        "        plot_x, plot_y = 1, 2\n",
        "    fig, ax = plt.subplots(plot_x, plot_y, figsize = (12, 12))\n",
        "    ax[0, 0].imshow(img.reshape((28, 28)), cmap = 'gray')\n",
        "    ax[0, 0].set_title('Input image')\n",
        "    fig.suptitle('Input image and %s filters' % (layer_name,))\n",
        "    fig.tight_layout(pad = 0.3, rect = [0, 0, 0.9, 0.9])\n",
        "    for (x, y) in [(i, j) for i in range(plot_x) for j in range(plot_y)]:\n",
        "        if x == 0 and y == 0:\n",
        "            continue\n",
        "        ax[x, y].imshow(img_ascs[x * plot_y + y - 1], cmap = 'gray')\n",
        "        ax[x, y].set_title('filter %d' % (x * plot_y + y - 1))\n",
        "\n",
        "vis_img_in_filter()"
      ],
      "execution_count": 20,
      "outputs": [
        {
          "output_type": "display_data",
          "data": {
            "image/png": "[encoded data removed]",
            "text/plain": [
              "<Figure size 864x864 with 24 Axes>"
            ]
          },
          "metadata": {
            "tags": []
          }
        }
      ]
    },
    {
      "cell_type": "code",
      "metadata": {
        "id": "9tvptcn8dxvp",
        "colab_type": "code",
        "colab": {}
      },
      "source": [
        ""
      ],
      "execution_count": 0,
      "outputs": []
    }
  ]
}