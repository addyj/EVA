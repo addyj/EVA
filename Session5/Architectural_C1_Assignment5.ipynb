{
  "nbformat": 4,
  "nbformat_minor": 0,
  "metadata": {
    "colab": {
      "name": "Architectural_C1_Assignment5.ipynb",
      "version": "0.3.2",
      "provenance": [],
      "collapsed_sections": []
    },
    "kernelspec": {
      "name": "python3",
      "display_name": "Python 3"
    },
    "accelerator": "GPU"
  },
  "cells": [
    {
      "cell_type": "markdown",
      "metadata": {
        "id": "h9pJ9DRbddAt",
        "colab_type": "text"
      },
      "source": [
        "## Aditya Jindal\n",
        "## Batch M6\n",
        "## Assignment 5\n",
        "## Network with Change 1\n",
        "## Architectural Basics 5\n",
        "---\n",
        "### Note: The rescpective code hopefully will be an improvement over our last attempted improved neural network.\n",
        "### Continuing with the old network with\n",
        "- 3x3 Conv2D Layers \n",
        "- Activation Layers\n",
        "- Max Pooling2D Layers\n",
        "- 1x1 Conv2D Layers\n",
        "- SoftMax Layer\n",
        "- BatchNormalization\n",
        "- Inc. Batch\n",
        "- Inc. Epochs\n",
        "- Dropouts\n",
        "- Tweaked LR\n",
        "\n",
        "### Additional Changes:\n",
        "\n",
        "- Image Normalization\n",
        "- Adding L2 regularization\n",
        "- Adding Relu after BN\n",
        "\n"
      ]
    },
    {
      "cell_type": "markdown",
      "metadata": {
        "id": "aNyZv-Ec52ot",
        "colab_type": "text"
      },
      "source": [
        "# **Import Libraries and modules**"
      ]
    },
    {
      "cell_type": "code",
      "metadata": {
        "id": "3m3w1Cw49Zkt",
        "colab_type": "code",
        "outputId": "0dfdd875-330a-45b1-f53f-281ded03018a",
        "colab": {
          "base_uri": "https://localhost:8080/",
          "height": 35
        }
      },
      "source": [
        "#Importing Keras to colab file\n",
        "# https://keras.io/\n",
        "!pip install -q keras\n",
        "import keras"
      ],
      "execution_count": 1,
      "outputs": [
        {
          "output_type": "stream",
          "text": [
            "Using TensorFlow backend.\n"
          ],
          "name": "stderr"
        }
      ]
    },
    {
      "cell_type": "code",
      "metadata": {
        "id": "Eso6UHE080D4",
        "colab_type": "code",
        "colab": {}
      },
      "source": [
        "# Importing all the required libraries from the modules\n",
        "\n",
        "import numpy as np\n",
        "import math\n",
        "from keras.models import Sequential\n",
        "from keras.layers import Activation, Flatten, Input, Dropout\n",
        "from keras.layers import Conv2D, MaxPooling2D, BatchNormalization\n",
        "from keras.preprocessing.image import ImageDataGenerator\n",
        "from keras.regularizers import l2\n",
        "from keras.utils import np_utils\n",
        "from keras.optimizers import Adam\n",
        "from keras.datasets import mnist\n",
        "from keras.callbacks import *"
      ],
      "execution_count": 0,
      "outputs": []
    },
    {
      "cell_type": "markdown",
      "metadata": {
        "id": "zByEi95J86RD",
        "colab_type": "text"
      },
      "source": [
        "### Load pre-shuffled MNIST data into train and test sets"
      ]
    },
    {
      "cell_type": "code",
      "metadata": {
        "id": "7eRM0QWN83PV",
        "colab_type": "code",
        "outputId": "fb76072e-933e-4fe8-97e5-ce6d0bc06161",
        "colab": {
          "base_uri": "https://localhost:8080/",
          "height": 54
        }
      },
      "source": [
        "# Loading a database of handwritten digits\n",
        "# we get X_train and X_test as array of the grey scale images of the digits with shape\n",
        "# and y_train and y_test as array of the digits labels (i.e. 0-9) with sample number\n",
        "\n",
        "(X_train, y_train), (X_test, y_test) = mnist.load_data()"
      ],
      "execution_count": 3,
      "outputs": [
        {
          "output_type": "stream",
          "text": [
            "Downloading data from https://s3.amazonaws.com/img-datasets/mnist.npz\n",
            "11493376/11490434 [==============================] - 0s 0us/step\n"
          ],
          "name": "stdout"
        }
      ]
    },
    {
      "cell_type": "code",
      "metadata": {
        "id": "4a4Be72j8-ZC",
        "colab_type": "code",
        "outputId": "bbaaa128-5b91-41c0-cf7d-49957c172883",
        "colab": {
          "base_uri": "https://localhost:8080/",
          "height": 306
        }
      },
      "source": [
        "# We print the shape of our dataset array\n",
        "# Also print the first handwritten digit image\n",
        "\n",
        "print (X_train.shape)\n",
        "from matplotlib import pyplot as plt\n",
        "%matplotlib inline\n",
        "plt.imshow(X_train[0])"
      ],
      "execution_count": 4,
      "outputs": [
        {
          "output_type": "stream",
          "text": [
            "(60000, 28, 28)\n"
          ],
          "name": "stdout"
        },
        {
          "output_type": "execute_result",
          "data": {
            "text/plain": [
              "<matplotlib.image.AxesImage at 0x7fe184980898>"
            ]
          },
          "metadata": {
            "tags": []
          },
          "execution_count": 4
        },
        {
          "output_type": "display_data",
          "data": {
            "image/png": "[encoded data removed]",
            "text/plain": [
              "<Figure size 432x288 with 1 Axes>"
            ]
          },
          "metadata": {
            "tags": []
          }
        }
      ]
    },
    {
      "cell_type": "code",
      "metadata": {
        "id": "dkmprriw9AnZ",
        "colab_type": "code",
        "colab": {}
      },
      "source": [
        "# Reshaping the dataset to have one channel for each image present\n",
        "# As images are on greyscale we will have 1 channel instead of 3\n",
        "# For both test and train\n",
        "\n",
        "X_train = X_train.reshape(X_train.shape[0], 28, 28,1)\n",
        "X_test = X_test.reshape(X_test.shape[0], 28, 28,1)"
      ],
      "execution_count": 0,
      "outputs": []
    },
    {
      "cell_type": "code",
      "metadata": {
        "id": "X2m4YS4E9CRh",
        "colab_type": "code",
        "colab": {}
      },
      "source": [
        "# Set/Convert all the pixel values to float data type \n",
        "# Normalizing all pixel values by dividing with 255 so that every value lies btw 0-1\n",
        "\n",
        "X_train = X_train.astype('float32')\n",
        "X_test = X_test.astype('float32')\n",
        "X_train /= 255\n",
        "X_test /= 255"
      ],
      "execution_count": 0,
      "outputs": []
    },
    {
      "cell_type": "code",
      "metadata": {
        "id": "jOri78R9ROwH",
        "colab_type": "code",
        "outputId": "aaab7468-3c83-4ebf-ff11-107d42c83fd3",
        "colab": {
          "base_uri": "https://localhost:8080/",
          "height": 35
        }
      },
      "source": [
        "# Calculating pixel means and standard deviations\n",
        "print('Statistics train_mean = %.3f, train_std = %.3f, test_mean = %.3f, test_std = %.3f' % (X_train.mean(), X_train.std(), X_test.mean(), X_test.std()))"
      ],
      "execution_count": 7,
      "outputs": [
        {
          "output_type": "stream",
          "text": [
            "Statistics train_mean = 0.131, train_std = 0.308, test_mean = 0.133, test_std = 0.310\n"
          ],
          "name": "stdout"
        }
      ]
    },
    {
      "cell_type": "code",
      "metadata": {
        "id": "0Mn0vAYD9DvB",
        "colab_type": "code",
        "outputId": "54ba7cc4-64a1-4786-8baa-335bf3a08b8b",
        "colab": {
          "base_uri": "https://localhost:8080/",
          "height": 35
        }
      },
      "source": [
        "# This shows first 10 train sample labels\n",
        "\n",
        "y_train[:10]"
      ],
      "execution_count": 8,
      "outputs": [
        {
          "output_type": "execute_result",
          "data": {
            "text/plain": [
              "array([5, 0, 4, 1, 9, 2, 1, 3, 1, 4], dtype=uint8)"
            ]
          },
          "metadata": {
            "tags": []
          },
          "execution_count": 8
        }
      ]
    },
    {
      "cell_type": "code",
      "metadata": {
        "id": "ZG8JiXR39FHC",
        "colab_type": "code",
        "colab": {}
      },
      "source": [
        "# Converted the above 1-dimensional class label arrays to 10-dimensional class matrices\n",
        "# As the test and train labels are not splitted into 10 distinct labels\n",
        "\n",
        "Y_train = np_utils.to_categorical(y_train, 10)\n",
        "Y_test = np_utils.to_categorical(y_test, 10)"
      ],
      "execution_count": 0,
      "outputs": []
    },
    {
      "cell_type": "code",
      "metadata": {
        "id": "fYlFRvKS9HMB",
        "colab_type": "code",
        "outputId": "002f8f71-3695-4029-e738-43fea9a7ab38",
        "colab": {
          "base_uri": "https://localhost:8080/",
          "height": 201
        }
      },
      "source": [
        "# Looking at 10-dimensional class matrice\n",
        "# Where the index [ranging from 0-9] of 1 tells the label\n",
        "\n",
        "Y_train[:10]\n"
      ],
      "execution_count": 10,
      "outputs": [
        {
          "output_type": "execute_result",
          "data": {
            "text/plain": [
              "array([[0., 0., 0., 0., 0., 1., 0., 0., 0., 0.],\n",
              "       [1., 0., 0., 0., 0., 0., 0., 0., 0., 0.],\n",
              "       [0., 0., 0., 0., 1., 0., 0., 0., 0., 0.],\n",
              "       [0., 1., 0., 0., 0., 0., 0., 0., 0., 0.],\n",
              "       [0., 0., 0., 0., 0., 0., 0., 0., 0., 1.],\n",
              "       [0., 0., 1., 0., 0., 0., 0., 0., 0., 0.],\n",
              "       [0., 1., 0., 0., 0., 0., 0., 0., 0., 0.],\n",
              "       [0., 0., 0., 1., 0., 0., 0., 0., 0., 0.],\n",
              "       [0., 1., 0., 0., 0., 0., 0., 0., 0., 0.],\n",
              "       [0., 0., 0., 0., 1., 0., 0., 0., 0., 0.]], dtype=float32)"
            ]
          },
          "metadata": {
            "tags": []
          },
          "execution_count": 10
        }
      ]
    },
    {
      "cell_type": "code",
      "metadata": {
        "id": "KDEolFntb9Nd",
        "colab_type": "code",
        "colab": {}
      },
      "source": [
        "# Image Normalization\n",
        "datagen_train = ImageDataGenerator(featurewise_center=True, featurewise_std_normalization=True)\n",
        "datagen_train.fit(X_train)\n",
        "\n",
        "datagen_test = ImageDataGenerator(featurewise_center=True, featurewise_std_normalization=True)\n",
        "datagen_test.fit(X_test)"
      ],
      "execution_count": 0,
      "outputs": []
    },
    {
      "cell_type": "code",
      "metadata": {
        "id": "5HpRao_zQGw8",
        "colab_type": "code",
        "colab": {}
      },
      "source": [
        "# Defining L2 regularizer parameter\n",
        "kernel_l2 = 1e-5\n",
        "bais_l2 = 1e-5"
      ],
      "execution_count": 0,
      "outputs": []
    },
    {
      "cell_type": "code",
      "metadata": {
        "id": "osKqT73Q9JJB",
        "colab_type": "code",
        "outputId": "ab193486-3f74-4af3-c2ef-7d52a632de06",
        "colab": {
          "base_uri": "https://localhost:8080/",
          "height": 147
        }
      },
      "source": [
        "# Declaring a sequential model and its layers \n",
        "# Using Relu activation and 2D convolution with 3x3 kernel\n",
        "# We flatten the last layer output to get 10 activations respective to 10 class labels we want to predict\n",
        "# Using softmax to get a probability like value , so that we cant have a disticnt difference btw predictions\n",
        "# Calling summary to see rendered model info\n",
        "\n",
        "model = Sequential() \n",
        "\n",
        "model.add(Conv2D(10,(3, 3), kernel_regularizer=l2(kernel_l2), bias_regularizer=l2(bais_l2), input_shape=(28,28,1)))\n",
        "model.add(Dropout(0.1))         \n",
        "# Input Channel Dim = (28x28x1)\n",
        "# RF = 3\n",
        "\n",
        "model.add(BatchNormalization())     ### Using Relu after BN\n",
        "model.add(Activation('relu')) \n",
        "\n",
        "model.add(Conv2D(16,(3, 3), kernel_regularizer=l2(kernel_l2), bias_regularizer=l2(bais_l2)))\n",
        "model.add(Dropout(0.1))         \n",
        "# Input Channel Dim = (26x26x10)\n",
        "# RF = 5\n",
        "\n",
        "model.add(BatchNormalization()) \n",
        "model.add(Activation('relu')) \n",
        "\n",
        "model.add(Conv2D(24,(3, 3), kernel_regularizer=l2(kernel_l2), bias_regularizer=l2(bais_l2))) \n",
        "model.add(Dropout(0.1))         \n",
        "# Input Channel Dim = (24x24x16)\n",
        "# RF = 7\n",
        "\n",
        "model.add(BatchNormalization()) \n",
        "model.add(Activation('relu')) \n",
        "\n",
        "model.add(MaxPooling2D(pool_size=(2, 2))) \n",
        "# Input Channel Dim = (22x22x24)\n",
        "# RF = 14\n",
        "\n",
        "model.add(Conv2D(10,(1, 1), kernel_regularizer=l2(kernel_l2), bias_regularizer=l2(bais_l2))) \n",
        "# Input Channel Dim = (11x11x24)\n",
        "# RF = 14\n",
        "\n",
        "model.add(BatchNormalization()) \n",
        "model.add(Activation('relu')) \n",
        "\n",
        "model.add(Conv2D(10,(3, 3), kernel_regularizer=l2(kernel_l2), bias_regularizer=l2(bais_l2))) \n",
        "model.add(Dropout(0.1))         \n",
        "# Input Channel Dim = (11x11x10)\n",
        "# RF = 16\n",
        "\n",
        "model.add(BatchNormalization())\n",
        "model.add(Activation('relu')) \n",
        "\n",
        "model.add(Conv2D(16,(3, 3), kernel_regularizer=l2(kernel_l2), bias_regularizer=l2(bais_l2))) \n",
        "model.add(Dropout(0.1))         \n",
        "# Input Channel Dim = (9x9x10)\n",
        "# RF = 18\n",
        "\n",
        "model.add(BatchNormalization())\n",
        "model.add(Activation('relu')) \n",
        "\n",
        "model.add(Conv2D(16,(3, 3), kernel_regularizer=l2(kernel_l2), bias_regularizer=l2(bais_l2))) \n",
        "model.add(Dropout(0.1))         \n",
        "# Input Channel Dim = (7x7x16)\n",
        "# RF = 20\n",
        "\n",
        "model.add(Conv2D(10,(5, 5), kernel_regularizer=l2(kernel_l2), bias_regularizer=l2(bais_l2)))\n",
        "# Input Channel Dim = (5x5x16)\n",
        "# RF = 24\n",
        "\n",
        "model.add(Flatten())\n",
        "# Input Channel Dim = (1x1x10)\n",
        "\n",
        "model.add(Activation('softmax'))\n",
        "# Input Channel Dim = (,10)\n"
      ],
      "execution_count": 13,
      "outputs": [
        {
          "output_type": "stream",
          "text": [
            "WARNING:tensorflow:From /usr/local/lib/python3.6/dist-packages/tensorflow/python/framework/op_def_library.py:263: colocate_with (from tensorflow.python.framework.ops) is deprecated and will be removed in a future version.\n",
            "Instructions for updating:\n",
            "Colocations handled automatically by placer.\n",
            "WARNING:tensorflow:From /usr/local/lib/python3.6/dist-packages/keras/backend/tensorflow_backend.py:3445: calling dropout (from tensorflow.python.ops.nn_ops) with keep_prob is deprecated and will be removed in a future version.\n",
            "Instructions for updating:\n",
            "Please use `rate` instead of `keep_prob`. Rate should be set to `rate = 1 - keep_prob`.\n"
          ],
          "name": "stdout"
        }
      ]
    },
    {
      "cell_type": "code",
      "metadata": {
        "id": "TzdAYg1k9K7Z",
        "colab_type": "code",
        "outputId": "daa00d3c-9640-4acd-d12e-7779ccd5ddd3",
        "colab": {
          "base_uri": "https://localhost:8080/",
          "height": 1211
        }
      },
      "source": [
        "model.summary()"
      ],
      "execution_count": 14,
      "outputs": [
        {
          "output_type": "stream",
          "text": [
            "_________________________________________________________________\n",
            "Layer (type)                 Output Shape              Param #   \n",
            "=================================================================\n",
            "conv2d_1 (Conv2D)            (None, 26, 26, 10)        100       \n",
            "_________________________________________________________________\n",
            "dropout_1 (Dropout)          (None, 26, 26, 10)        0         \n",
            "_________________________________________________________________\n",
            "batch_normalization_1 (Batch (None, 26, 26, 10)        40        \n",
            "_________________________________________________________________\n",
            "activation_1 (Activation)    (None, 26, 26, 10)        0         \n",
            "_________________________________________________________________\n",
            "conv2d_2 (Conv2D)            (None, 24, 24, 16)        1456      \n",
            "_________________________________________________________________\n",
            "dropout_2 (Dropout)          (None, 24, 24, 16)        0         \n",
            "_________________________________________________________________\n",
            "batch_normalization_2 (Batch (None, 24, 24, 16)        64        \n",
            "_________________________________________________________________\n",
            "activation_2 (Activation)    (None, 24, 24, 16)        0         \n",
            "_________________________________________________________________\n",
            "conv2d_3 (Conv2D)            (None, 22, 22, 24)        3480      \n",
            "_________________________________________________________________\n",
            "dropout_3 (Dropout)          (None, 22, 22, 24)        0         \n",
            "_________________________________________________________________\n",
            "batch_normalization_3 (Batch (None, 22, 22, 24)        96        \n",
            "_________________________________________________________________\n",
            "activation_3 (Activation)    (None, 22, 22, 24)        0         \n",
            "_________________________________________________________________\n",
            "max_pooling2d_1 (MaxPooling2 (None, 11, 11, 24)        0         \n",
            "_________________________________________________________________\n",
            "conv2d_4 (Conv2D)            (None, 11, 11, 10)        250       \n",
            "_________________________________________________________________\n",
            "batch_normalization_4 (Batch (None, 11, 11, 10)        40        \n",
            "_________________________________________________________________\n",
            "activation_4 (Activation)    (None, 11, 11, 10)        0         \n",
            "_________________________________________________________________\n",
            "conv2d_5 (Conv2D)            (None, 9, 9, 10)          910       \n",
            "_________________________________________________________________\n",
            "dropout_4 (Dropout)          (None, 9, 9, 10)          0         \n",
            "_________________________________________________________________\n",
            "batch_normalization_5 (Batch (None, 9, 9, 10)          40        \n",
            "_________________________________________________________________\n",
            "activation_5 (Activation)    (None, 9, 9, 10)          0         \n",
            "_________________________________________________________________\n",
            "conv2d_6 (Conv2D)            (None, 7, 7, 16)          1456      \n",
            "_________________________________________________________________\n",
            "dropout_5 (Dropout)          (None, 7, 7, 16)          0         \n",
            "_________________________________________________________________\n",
            "batch_normalization_6 (Batch (None, 7, 7, 16)          64        \n",
            "_________________________________________________________________\n",
            "activation_6 (Activation)    (None, 7, 7, 16)          0         \n",
            "_________________________________________________________________\n",
            "conv2d_7 (Conv2D)            (None, 5, 5, 16)          2320      \n",
            "_________________________________________________________________\n",
            "dropout_6 (Dropout)          (None, 5, 5, 16)          0         \n",
            "_________________________________________________________________\n",
            "conv2d_8 (Conv2D)            (None, 1, 1, 10)          4010      \n",
            "_________________________________________________________________\n",
            "flatten_1 (Flatten)          (None, 10)                0         \n",
            "_________________________________________________________________\n",
            "activation_7 (Activation)    (None, 10)                0         \n",
            "=================================================================\n",
            "Total params: 14,326\n",
            "Trainable params: 14,154\n",
            "Non-trainable params: 172\n",
            "_________________________________________________________________\n"
          ],
          "name": "stdout"
        }
      ]
    },
    {
      "cell_type": "code",
      "metadata": {
        "id": "Zp6SuGrL9M3h",
        "colab_type": "code",
        "colab": {}
      },
      "source": [
        "# Compiling the model with particular loss function, optimiser\n",
        "\n",
        "model.compile(loss='categorical_crossentropy',\n",
        "              optimizer=Adam(lr=0.01),\n",
        "              metrics=['accuracy'])\n",
        "\n",
        "# Changing Learning rate based on monitored quantity\n",
        "reduce_lr = ReduceLROnPlateau(monitor='val_acc', factor=0.01, patience=3, verbose=1, \n",
        "             mode='max', min_delta=0.0001, min_lr=0.0001)"
      ],
      "execution_count": 0,
      "outputs": []
    },
    {
      "cell_type": "code",
      "metadata": {
        "id": "4xWoKhPY9Of5",
        "colab_type": "code",
        "outputId": "90317065-a509-448e-e167-827b94a9905f",
        "colab": {
          "base_uri": "https://localhost:8080/",
          "height": 1617
        }
      },
      "source": [
        "# Train the model with a batch size and epoch number on train data\n",
        "\n",
        "model.fit_generator(datagen_train.flow(X_train, Y_train, batch_size = 128),\n",
        "                    epochs = 40, steps_per_epoch = 2*(X_train.shape[0] / 128),\n",
        "                    verbose = 1, validation_data = datagen_test.flow(X_test, Y_test, batch_size = 128),\n",
        "                    validation_steps = 2*(X_test.shape[0] / 128), callbacks = [reduce_lr])"
      ],
      "execution_count": 16,
      "outputs": [
        {
          "output_type": "stream",
          "text": [
            "WARNING:tensorflow:From /usr/local/lib/python3.6/dist-packages/tensorflow/python/ops/math_ops.py:3066: to_int32 (from tensorflow.python.ops.math_ops) is deprecated and will be removed in a future version.\n",
            "Instructions for updating:\n",
            "Use tf.cast instead.\n",
            "Epoch 1/40\n",
            "938/937 [==============================] - 20s 21ms/step - loss: 0.1247 - acc: 0.9618 - val_loss: 0.0755 - val_acc: 0.9773\n",
            "Epoch 2/40\n",
            "938/937 [==============================] - 16s 17ms/step - loss: 0.0684 - acc: 0.9806 - val_loss: 0.0535 - val_acc: 0.9865\n",
            "Epoch 3/40\n",
            "938/937 [==============================] - 16s 17ms/step - loss: 0.0645 - acc: 0.9827 - val_loss: 0.0618 - val_acc: 0.9826\n",
            "Epoch 4/40\n",
            "938/937 [==============================] - 15s 16ms/step - loss: 0.0671 - acc: 0.9833 - val_loss: 0.0586 - val_acc: 0.9874\n",
            "Epoch 5/40\n",
            "938/937 [==============================] - 15s 16ms/step - loss: 0.0667 - acc: 0.9840 - val_loss: 0.0566 - val_acc: 0.9867\n",
            "Epoch 6/40\n",
            "938/937 [==============================] - 15s 16ms/step - loss: 0.0683 - acc: 0.9846 - val_loss: 0.0502 - val_acc: 0.9908\n",
            "Epoch 7/40\n",
            "938/937 [==============================] - 16s 17ms/step - loss: 0.0679 - acc: 0.9849 - val_loss: 0.0653 - val_acc: 0.9873\n",
            "Epoch 8/40\n",
            "938/937 [==============================] - 16s 17ms/step - loss: 0.0695 - acc: 0.9848 - val_loss: 0.0578 - val_acc: 0.9885\n",
            "Epoch 9/40\n",
            "938/937 [==============================] - 15s 16ms/step - loss: 0.0698 - acc: 0.9854 - val_loss: 0.0499 - val_acc: 0.9903\n",
            "\n",
            "Epoch 00009: ReduceLROnPlateau reducing learning rate to 0.0001.\n",
            "Epoch 10/40\n",
            "938/937 [==============================] - 15s 16ms/step - loss: 0.0504 - acc: 0.9910 - val_loss: 0.0431 - val_acc: 0.9927\n",
            "Epoch 11/40\n",
            "938/937 [==============================] - 15s 16ms/step - loss: 0.0465 - acc: 0.9921 - val_loss: 0.0409 - val_acc: 0.9935\n",
            "Epoch 12/40\n",
            "938/937 [==============================] - 15s 16ms/step - loss: 0.0442 - acc: 0.9927 - val_loss: 0.0408 - val_acc: 0.9937\n",
            "Epoch 13/40\n",
            "938/937 [==============================] - 16s 17ms/step - loss: 0.0426 - acc: 0.9933 - val_loss: 0.0393 - val_acc: 0.9940\n",
            "Epoch 14/40\n",
            "938/937 [==============================] - 15s 16ms/step - loss: 0.0407 - acc: 0.9939 - val_loss: 0.0406 - val_acc: 0.9943\n",
            "Epoch 15/40\n",
            "938/937 [==============================] - 15s 16ms/step - loss: 0.0403 - acc: 0.9936 - val_loss: 0.0384 - val_acc: 0.9944\n",
            "Epoch 16/40\n",
            "938/937 [==============================] - 15s 16ms/step - loss: 0.0404 - acc: 0.9936 - val_loss: 0.0375 - val_acc: 0.9945\n",
            "Epoch 17/40\n",
            "938/937 [==============================] - 15s 16ms/step - loss: 0.0394 - acc: 0.9941 - val_loss: 0.0384 - val_acc: 0.9944\n",
            "Epoch 18/40\n",
            "938/937 [==============================] - 16s 18ms/step - loss: 0.0391 - acc: 0.9939 - val_loss: 0.0383 - val_acc: 0.9942\n",
            "Epoch 19/40\n",
            "938/937 [==============================] - 17s 18ms/step - loss: 0.0384 - acc: 0.9942 - val_loss: 0.0376 - val_acc: 0.9945\n",
            "Epoch 20/40\n",
            "938/937 [==============================] - 15s 16ms/step - loss: 0.0381 - acc: 0.9943 - val_loss: 0.0366 - val_acc: 0.9946\n",
            "Epoch 21/40\n",
            "938/937 [==============================] - 15s 16ms/step - loss: 0.0370 - acc: 0.9943 - val_loss: 0.0379 - val_acc: 0.9944\n",
            "Epoch 22/40\n",
            "938/937 [==============================] - 15s 16ms/step - loss: 0.0365 - acc: 0.9947 - val_loss: 0.0369 - val_acc: 0.9948\n",
            "Epoch 23/40\n",
            "938/937 [==============================] - 16s 17ms/step - loss: 0.0366 - acc: 0.9947 - val_loss: 0.0359 - val_acc: 0.9950\n",
            "Epoch 24/40\n",
            "938/937 [==============================] - 15s 16ms/step - loss: 0.0362 - acc: 0.9947 - val_loss: 0.0370 - val_acc: 0.9948\n",
            "Epoch 25/40\n",
            "938/937 [==============================] - 15s 16ms/step - loss: 0.0359 - acc: 0.9947 - val_loss: 0.0354 - val_acc: 0.9950\n",
            "Epoch 26/40\n",
            "938/937 [==============================] - 15s 16ms/step - loss: 0.0359 - acc: 0.9947 - val_loss: 0.0380 - val_acc: 0.9947\n",
            "Epoch 27/40\n",
            "938/937 [==============================] - 15s 16ms/step - loss: 0.0345 - acc: 0.9950 - val_loss: 0.0348 - val_acc: 0.9951\n",
            "Epoch 28/40\n",
            "938/937 [==============================] - 16s 17ms/step - loss: 0.0347 - acc: 0.9951 - val_loss: 0.0353 - val_acc: 0.9950\n",
            "Epoch 29/40\n",
            "938/937 [==============================] - 15s 16ms/step - loss: 0.0344 - acc: 0.9949 - val_loss: 0.0358 - val_acc: 0.9949\n",
            "Epoch 30/40\n",
            "938/937 [==============================] - 15s 16ms/step - loss: 0.0341 - acc: 0.9951 - val_loss: 0.0362 - val_acc: 0.9950\n",
            "Epoch 31/40\n",
            "938/937 [==============================] - 15s 16ms/step - loss: 0.0337 - acc: 0.9952 - val_loss: 0.0343 - val_acc: 0.9951\n",
            "Epoch 32/40\n",
            "938/937 [==============================] - 15s 16ms/step - loss: 0.0335 - acc: 0.9953 - val_loss: 0.0365 - val_acc: 0.9947\n",
            "Epoch 33/40\n",
            "938/937 [==============================] - 16s 17ms/step - loss: 0.0336 - acc: 0.9951 - val_loss: 0.0338 - val_acc: 0.9956\n",
            "Epoch 34/40\n",
            "938/937 [==============================] - 16s 17ms/step - loss: 0.0331 - acc: 0.9954 - val_loss: 0.0353 - val_acc: 0.9952\n",
            "Epoch 35/40\n",
            "938/937 [==============================] - 15s 16ms/step - loss: 0.0330 - acc: 0.9953 - val_loss: 0.0351 - val_acc: 0.9949\n",
            "Epoch 36/40\n",
            "938/937 [==============================] - 15s 16ms/step - loss: 0.0322 - acc: 0.9955 - val_loss: 0.0356 - val_acc: 0.9952\n",
            "Epoch 37/40\n",
            "938/937 [==============================] - 15s 16ms/step - loss: 0.0328 - acc: 0.9954 - val_loss: 0.0351 - val_acc: 0.9949\n",
            "Epoch 38/40\n",
            "938/937 [==============================] - 16s 17ms/step - loss: 0.0324 - acc: 0.9951 - val_loss: 0.0337 - val_acc: 0.9955\n",
            "Epoch 39/40\n",
            "938/937 [==============================] - 17s 18ms/step - loss: 0.0327 - acc: 0.9955 - val_loss: 0.0346 - val_acc: 0.9953\n",
            "Epoch 40/40\n",
            "938/937 [==============================] - 15s 16ms/step - loss: 0.0316 - acc: 0.9955 - val_loss: 0.0332 - val_acc: 0.9952\n"
          ],
          "name": "stdout"
        },
        {
          "output_type": "execute_result",
          "data": {
            "text/plain": [
              "<keras.callbacks.History at 0x7fe170f97e10>"
            ]
          },
          "metadata": {
            "tags": []
          },
          "execution_count": 16
        }
      ]
    },
    {
      "cell_type": "code",
      "metadata": {
        "id": "AtsH-lLk-eLb",
        "colab_type": "code",
        "colab": {}
      },
      "source": [
        "# Evaluating the same model on test data to see how well it performs\n",
        "\n",
        "print(X_test.shape)\n",
        "score = model.evaluate_generator(datagen_test.flow(X_test, Y_test, batch_size = 128),\n",
        "                                  steps = (X_test.shape[0] / 128), verbose=0)"
      ],
      "execution_count": 0,
      "outputs": []
    },
    {
      "cell_type": "code",
      "metadata": {
        "id": "mkX8JMv79q9r",
        "colab_type": "code",
        "outputId": "638f8d7c-cedf-4eec-9ab0-d6f205a984bf",
        "colab": {
          "base_uri": "https://localhost:8080/",
          "height": 35
        }
      },
      "source": [
        "print(score)"
      ],
      "execution_count": 18,
      "outputs": [
        {
          "output_type": "stream",
          "text": [
            "[0.03395448224544525, 0.9952]\n"
          ],
          "name": "stdout"
        }
      ]
    },
    {
      "cell_type": "code",
      "metadata": {
        "id": "OCWoJkwE9suh",
        "colab_type": "code",
        "outputId": "ece89678-93f6-47f2-871a-29d1c179b89a",
        "colab": {
          "base_uri": "https://localhost:8080/",
          "height": 35
        }
      },
      "source": [
        "# Calculating the 10-dimensional class matrix for lables wrt. test data\n",
        "Y_pred = model.predict_generator(datagen_test.flow(X_test, Y_test, batch_size = 128),\n",
        "                                  steps = (X_test.shape[0] / 128))\n",
        "print(Y_pred.shape)\n",
        "\n",
        "y_pred = model.predict(X_test)\n",
        "\n",
        "print(y_pred.shape)\n"
      ],
      "execution_count": 19,
      "outputs": [
        {
          "output_type": "stream",
          "text": [
            "(10000, 10)\n"
          ],
          "name": "stdout"
        }
      ]
    },
    {
      "cell_type": "code",
      "metadata": {
        "id": "Ym7iCFBm9uBs",
        "colab_type": "code",
        "outputId": "916b9de1-ce46-40e9-99ae-4a315dd1e440",
        "colab": {
          "base_uri": "https://localhost:8080/",
          "height": 1082
        }
      },
      "source": [
        "# Showing the Predicted labels and the Expected labels\n",
        "\n",
        "print(Y_pred[:9])\n",
        "print(y_test[:9])\n",
        "print()\n",
        "print()\n",
        "print(y_pred[:9])\n",
        "print(y_test[:9])\n"
      ],
      "execution_count": 20,
      "outputs": [
        {
          "output_type": "stream",
          "text": [
            "[[7.66297359e-10 9.99999642e-01 4.67768624e-09 3.69339802e-11\n",
            "  8.52052864e-08 5.86613993e-08 9.44547374e-09 1.61148407e-07\n",
            "  1.50944004e-08 1.05181863e-09]\n",
            " [1.11374321e-09 9.99996543e-01 5.92454441e-09 1.58145532e-08\n",
            "  1.43874286e-06 3.14449800e-09 1.59674034e-08 1.89895400e-06\n",
            "  4.14963921e-08 1.24990777e-07]\n",
            " [2.82376622e-10 9.82806441e-08 9.99979258e-01 3.28396665e-09\n",
            "  1.15729353e-11 1.31542753e-13 1.68291704e-12 2.06302848e-05\n",
            "  2.95208802e-10 7.85191478e-14]\n",
            " [1.59547451e-12 3.24124386e-12 1.01331492e-10 7.28984095e-11\n",
            "  9.50047649e-07 4.57137730e-11 1.30724175e-17 4.69416648e-08\n",
            "  1.23329357e-07 9.99998927e-01]\n",
            " [4.57866994e-10 4.58564870e-12 3.07844594e-09 4.70327599e-08\n",
            "  5.57052675e-14 8.00421684e-09 3.46489060e-08 1.91415872e-12\n",
            "  9.99999881e-01 1.17159749e-09]\n",
            " [1.32159362e-11 4.01562410e-08 7.12301385e-10 1.26176144e-11\n",
            "  9.99854088e-01 6.49331744e-09 8.33698414e-06 3.03064601e-10\n",
            "  3.10889838e-08 1.37476003e-04]\n",
            " [2.06504391e-09 1.94498580e-06 9.99991655e-01 4.73670916e-08\n",
            "  5.88995988e-07 1.97972820e-08 6.88839125e-11 6.11232394e-07\n",
            "  5.15732972e-06 6.14920808e-08]\n",
            " [5.26065440e-15 1.67495958e-15 1.64383784e-12 5.20834406e-13\n",
            "  1.30376305e-08 1.95396627e-14 1.63306843e-20 1.49775603e-09\n",
            "  2.36934472e-08 1.00000000e+00]\n",
            " [1.28077215e-09 9.99924421e-01 9.93874778e-07 9.38551570e-10\n",
            "  3.58547441e-05 2.31091279e-09 2.18670171e-09 3.83689221e-05\n",
            "  2.93547970e-07 1.44179797e-08]]\n",
            "[7 2 1 0 4 1 4 9 5]\n",
            "\n",
            "\n",
            "[[1.47019466e-06 7.59132672e-05 4.72720922e-06 1.19401922e-03\n",
            "  1.39912981e-06 1.17048592e-06 9.07718345e-09 9.98484790e-01\n",
            "  1.43522641e-07 2.36388296e-04]\n",
            " [2.96438001e-02 2.42972970e-02 9.40114498e-01 4.11114102e-04\n",
            "  1.01985701e-04 1.01403413e-04 3.90349678e-03 4.98354748e-05\n",
            "  1.36452168e-03 1.21245348e-05]\n",
            " [1.95543535e-07 9.98651803e-01 7.05988896e-07 2.76784467e-05\n",
            "  3.13934288e-04 5.43075847e-04 2.71620502e-05 4.31142951e-04\n",
            "  3.03316847e-06 1.29143814e-06]\n",
            " [9.99434412e-01 2.39079043e-07 4.49140600e-07 4.73692182e-07\n",
            "  3.78812474e-05 6.90901516e-07 5.16334665e-04 1.84940131e-06\n",
            "  3.75611717e-06 3.83153701e-06]\n",
            " [1.29549271e-05 7.17293515e-05 1.76052720e-06 1.72277879e-07\n",
            "  9.96344268e-01 4.42592594e-08 9.79875767e-06 7.64727156e-06\n",
            "  2.71051843e-03 8.41139758e-04]\n",
            " [1.83145659e-08 9.99456346e-01 1.44875514e-07 3.58691614e-06\n",
            "  1.88244201e-04 5.00981369e-05 1.50926621e-06 2.99343286e-04\n",
            "  4.95973268e-07 2.77533132e-07]\n",
            " [2.56436805e-09 4.62102980e-05 1.31670063e-07 3.67131947e-09\n",
            "  9.99761164e-01 1.95888212e-08 5.65151037e-09 4.62072330e-06\n",
            "  7.86075616e-05 1.09206587e-04]\n",
            " [3.75829259e-04 3.64552788e-03 2.59686983e-03 1.97304689e-04\n",
            "  5.28117776e-01 4.34642152e-06 1.37364705e-05 6.08946488e-04\n",
            "  8.78034439e-03 4.55659300e-01]\n",
            " [6.38930779e-03 3.27463204e-06 7.99380118e-08 1.39824397e-06\n",
            "  4.49131257e-05 6.30501658e-02 9.20470238e-01 1.97337030e-07\n",
            "  9.22849122e-03 8.11915554e-04]]\n",
            "[7 2 1 0 4 1 4 9 5]\n"
          ],
          "name": "stdout"
        }
      ]
    },
    {
      "cell_type": "code",
      "metadata": {
        "id": "CT--y98_dr2T",
        "colab_type": "code",
        "colab": {}
      },
      "source": [
        "layer_dict = dict([(layer.name, layer) for layer in model.layers])"
      ],
      "execution_count": 0,
      "outputs": []
    },
    {
      "cell_type": "code",
      "metadata": {
        "id": "2GY4Upv4dsUR",
        "colab_type": "code",
        "outputId": "cfcf0965-9424-4a05-bd8e-a0af988bce2f",
        "colab": {
          "base_uri": "https://localhost:8080/",
          "height": 741
        }
      },
      "source": [
        "# Visualising kernel at a convolutional layer\n",
        "\n",
        "import numpy as np\n",
        "from matplotlib import pyplot as plt\n",
        "from keras import backend as K\n",
        "%matplotlib inline\n",
        "# util function to convert a tensor into a valid image\n",
        "def deprocess_image(x):\n",
        "    # normalize tensor: center on 0., ensure std is 0.1\n",
        "    x -= x.mean()\n",
        "    x /= (x.std() + 1e-5)\n",
        "    x *= 0.1\n",
        "\n",
        "    # clip to [0, 1]\n",
        "    x += 0.5\n",
        "    x = np.clip(x, 0, 1)\n",
        "\n",
        "    # convert to RGB array\n",
        "    x *= 255\n",
        "    #x = x.transpose((1, 2, 0))\n",
        "    x = np.clip(x, 0, 255).astype('uint8')\n",
        "    return x\n",
        "\n",
        "def vis_img_in_filter(img = np.array(X_train[2]).reshape((1, 28, 28, 1)).astype(np.float64), \n",
        "                      layer_name = 'conv2d_5'):\n",
        "    layer_output = layer_dict[layer_name].output\n",
        "    img_ascs = list()\n",
        "    for filter_index in range(layer_output.shape[3]):\n",
        "        # build a loss function that maximizes the activation\n",
        "        # of the nth filter of the layer considered\n",
        "        loss = K.mean(layer_output[:, :, :, filter_index])\n",
        "\n",
        "        # compute the gradient of the input picture wrt this loss\n",
        "        grads = K.gradients(loss, model.input)[0]\n",
        "\n",
        "        # normalization trick: we normalize the gradient\n",
        "        grads /= (K.sqrt(K.mean(K.square(grads))) + 1e-5)\n",
        "\n",
        "        # this function returns the loss and grads given the input picture\n",
        "        iterate = K.function([model.input], [loss, grads])\n",
        "\n",
        "        # step size for gradient ascent\n",
        "        step = 5.\n",
        "\n",
        "        img_asc = np.array(img)\n",
        "        # run gradient ascent for 20 steps\n",
        "        for i in range(20):\n",
        "            loss_value, grads_value = iterate([img_asc])\n",
        "            img_asc += grads_value * step\n",
        "\n",
        "        img_asc = img_asc[0]\n",
        "        img_ascs.append(deprocess_image(img_asc).reshape((28, 28)))\n",
        "        \n",
        "    if layer_output.shape[3] >= 35:\n",
        "        plot_x, plot_y = 6, 6\n",
        "    elif layer_output.shape[3] >= 23:\n",
        "        plot_x, plot_y = 4, 6\n",
        "    elif layer_output.shape[3] >= 11:\n",
        "        plot_x, plot_y = 2, 6\n",
        "    else:\n",
        "        plot_x, plot_y = 1, 2\n",
        "    fig, ax = plt.subplots(plot_x, plot_y, figsize = (12, 12))\n",
        "    ax[0, 0].imshow(img.reshape((28, 28)), cmap = 'gray')\n",
        "    ax[0, 0].set_title('Input image')\n",
        "    fig.suptitle('Input image and %s filters' % (layer_name,))\n",
        "    fig.tight_layout(pad = 0.3, rect = [0, 0, 0.9, 0.9])\n",
        "    for (x, y) in [(i, j) for i in range(plot_x) for j in range(plot_y)]:\n",
        "        if x == 0 and y == 0:\n",
        "            continue\n",
        "        ax[x, y].imshow(img_ascs[x * plot_y + y - 1], cmap = 'gray')\n",
        "        ax[x, y].set_title('filter %d' % (x * plot_y + y - 1))\n",
        "\n",
        "vis_img_in_filter()"
      ],
      "execution_count": 22,
      "outputs": [
        {
          "output_type": "display_data",
          "data": {
            "image/png": "[encoded data removed]",
            "text/plain": [
              "<Figure size 864x864 with 12 Axes>"
            ]
          },
          "metadata": {
            "tags": []
          }
        }
      ]
    },
    {
      "cell_type": "code",
      "metadata": {
        "id": "3XqfgN0Y1HJL",
        "colab_type": "code",
        "outputId": "d61909c7-eaa6-468e-9078-5ba20bb0ddea",
        "colab": {
          "base_uri": "https://localhost:8080/",
          "height": 1464
        }
      },
      "source": [
        "# Classification of Top 25 misclassified classes and displaying them\n",
        "\n",
        "x_batch, y_batch = next(datagen_test.flow(X_test, Y_test, batch_size = 128))\n",
        "\n",
        "pred_classes = model.predict_classes(X_test)\n",
        "\n",
        "# getting incorrect indices\n",
        "incorrect_indices = np.nonzero(pred_classes != y_test)[0]\n",
        "print(len(incorrect_indices),\" incorrect classification\")\n",
        "\n",
        "plt.rcParams['figure.figsize'] = (10,25)\n",
        "\n",
        "\n",
        "# plotting incorrect predictions\n",
        "for i, incorrect in enumerate(incorrect_indices[:25]):\n",
        "    plt.subplot(9,3,i+1)\n",
        "    plt.imshow(X_test[incorrect].reshape(28,28), cmap='gray', interpolation='none')\n",
        "    plt.title(\n",
        "      \"Predicted {}, Correct: {}\".format(pred_classes[incorrect], \n",
        "                                       y_test[incorrect]))\n",
        "    plt.xticks([])\n",
        "    plt.yticks([])\n",
        "\n",
        "plt.figure() \n"
      ],
      "execution_count": 26,
      "outputs": [
        {
          "output_type": "stream",
          "text": [
            "592  incorrect classification\n"
          ],
          "name": "stdout"
        },
        {
          "output_type": "execute_result",
          "data": {
            "text/plain": [
              "<Figure size 720x1800 with 0 Axes>"
            ]
          },
          "metadata": {
            "tags": []
          },
          "execution_count": 26
        },
        {
          "output_type": "display_data",
          "data": {
            "image/png": "[encoded data removed]",
            "text/plain": [
              "<Figure size 720x1800 with 25 Axes>"
            ]
          },
          "metadata": {
            "tags": []
          }
        },
        {
          "output_type": "display_data",
          "data": {
            "text/plain": [
              "<Figure size 720x1800 with 0 Axes>"
            ]
          },
          "metadata": {
            "tags": []
          }
        }
      ]
    },
    {
      "cell_type": "markdown",
      "metadata": {
        "id": "7GzkdvLG2eKE",
        "colab_type": "text"
      },
      "source": [
        "## Observation:\n",
        "\n",
        "To conclude this networks:\n",
        "- With batch size of 128 in epochs 40, we have achieved 99.52 percent validation accuracy, with vall accuracy of 99.56 at 33th epoch.\n",
        "- Dropout  and regularization has helped us in reducing the overfitting gap.\n",
        "- By seeing the prediction results we can again tweak our networks to perform better."
      ]
    }
  ]
}
