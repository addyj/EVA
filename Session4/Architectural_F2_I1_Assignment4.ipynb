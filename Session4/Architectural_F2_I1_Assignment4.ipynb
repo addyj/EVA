{
  "nbformat": 4,
  "nbformat_minor": 0,
  "metadata": {
    "colab": {
      "name": "Architectural_F2_I1_Assignment4.ipynb",
      "version": "0.3.2",
      "provenance": [],
      "collapsed_sections": []
    },
    "kernelspec": {
      "name": "python3",
      "display_name": "Python 3"
    },
    "accelerator": "GPU"
  },
  "cells": [
    {
      "cell_type": "markdown",
      "metadata": {
        "id": "h9pJ9DRbddAt",
        "colab_type": "text"
      },
      "source": [
        "## Aditya Jindal\n",
        "## Batch M6\n",
        "## Assignment 4\n",
        "## Network with Improvement 1\n",
        "## Architectural Basics 2\n",
        "---\n",
        "### Note: The rescpective code hopefully will be an improvement over our vanilla neural network.\n",
        "### Continuing with the old network with\n",
        "- 3x3 Conv2D Layers \n",
        "- Activation Layers\n",
        "- Max Pooling2D Layers\n",
        "- 1x1 Conv2D Layers\n",
        "- SoftMax Layer\n",
        "\n",
        "### As our final target is with 15k parameter of model. We have to make improvements in such a way that we will be within that range or near it.\n",
        "\n",
        "### Improvements:\n",
        "\n",
        "- Changing number of channels or Kernel size\n",
        "\n",
        "- BatchNormalisation\n",
        "\n",
        "- Adding/ Removal/Changing positions of Conv2D layers \n",
        "\n",
        "\n"
      ]
    },
    {
      "cell_type": "markdown",
      "metadata": {
        "id": "aNyZv-Ec52ot",
        "colab_type": "text"
      },
      "source": [
        "# **Import Libraries and modules**"
      ]
    },
    {
      "cell_type": "code",
      "metadata": {
        "id": "3m3w1Cw49Zkt",
        "colab_type": "code",
        "outputId": "7dd21c4c-64d9-439a-9e58-fe25e049b5f3",
        "colab": {
          "base_uri": "https://localhost:8080/",
          "height": 34
        }
      },
      "source": [
        "#Importing Keras to colab file\n",
        "# https://keras.io/\n",
        "!pip install -q keras\n",
        "import keras"
      ],
      "execution_count": 1,
      "outputs": [
        {
          "output_type": "stream",
          "text": [
            "Using TensorFlow backend.\n"
          ],
          "name": "stderr"
        }
      ]
    },
    {
      "cell_type": "code",
      "metadata": {
        "id": "Eso6UHE080D4",
        "colab_type": "code",
        "colab": {}
      },
      "source": [
        "# Importing all the required libraries from the modules\n",
        "\n",
        "import numpy as np\n",
        "import math\n",
        "from keras.models import Sequential\n",
        "from keras.layers import Activation, Flatten, Input\n",
        "from keras.layers import Conv2D, MaxPooling2D, BatchNormalization\n",
        "from keras.utils import np_utils\n",
        "from keras.optimizers import Adam\n",
        "from keras.datasets import mnist\n",
        "from keras.callbacks import *"
      ],
      "execution_count": 0,
      "outputs": []
    },
    {
      "cell_type": "markdown",
      "metadata": {
        "id": "zByEi95J86RD",
        "colab_type": "text"
      },
      "source": [
        "### Load pre-shuffled MNIST data into train and test sets"
      ]
    },
    {
      "cell_type": "code",
      "metadata": {
        "id": "7eRM0QWN83PV",
        "colab_type": "code",
        "outputId": "12aa79a8-b64d-4bfd-ac10-9fe5a6d09601",
        "colab": {
          "base_uri": "https://localhost:8080/",
          "height": 52
        }
      },
      "source": [
        "# Loading a database of handwritten digits\n",
        "# we get X_train and X_test as array of the grey scale images of the digits with shape\n",
        "# and y_train and y_test as array of the digits labels (i.e. 0-9) with sample number\n",
        "\n",
        "(X_train, y_train), (X_test, y_test) = mnist.load_data()"
      ],
      "execution_count": 3,
      "outputs": [
        {
          "output_type": "stream",
          "text": [
            "Downloading data from https://s3.amazonaws.com/img-datasets/mnist.npz\n",
            "11493376/11490434 [==============================] - 1s 0us/step\n"
          ],
          "name": "stdout"
        }
      ]
    },
    {
      "cell_type": "code",
      "metadata": {
        "id": "4a4Be72j8-ZC",
        "colab_type": "code",
        "outputId": "5ddb05b8-a530-4fdc-fa54-ce492359dfec",
        "colab": {
          "base_uri": "https://localhost:8080/",
          "height": 304
        }
      },
      "source": [
        "# We print the shape of our dataset array\n",
        "# Also print the first handwritten digit image\n",
        "\n",
        "print (X_train.shape)\n",
        "from matplotlib import pyplot as plt\n",
        "%matplotlib inline\n",
        "plt.imshow(X_train[0])"
      ],
      "execution_count": 4,
      "outputs": [
        {
          "output_type": "stream",
          "text": [
            "(60000, 28, 28)\n"
          ],
          "name": "stdout"
        },
        {
          "output_type": "execute_result",
          "data": {
            "text/plain": [
              "<matplotlib.image.AxesImage at 0x7f6a79199048>"
            ]
          },
          "metadata": {
            "tags": []
          },
          "execution_count": 4
        },
        {
          "output_type": "display_data",
          "data": {
            "image/png": "[encoded data removed]",
            "text/plain": [
              "<Figure size 432x288 with 1 Axes>"
            ]
          },
          "metadata": {
            "tags": []
          }
        }
      ]
    },
    {
      "cell_type": "code",
      "metadata": {
        "id": "dkmprriw9AnZ",
        "colab_type": "code",
        "colab": {}
      },
      "source": [
        "# Reshaping the dataset to have one channel for each image present\n",
        "# As images are on greyscale we will have 1 channel instead of 3\n",
        "# For both test and train\n",
        "\n",
        "X_train = X_train.reshape(X_train.shape[0], 28, 28,1)\n",
        "X_test = X_test.reshape(X_test.shape[0], 28, 28,1)"
      ],
      "execution_count": 0,
      "outputs": []
    },
    {
      "cell_type": "code",
      "metadata": {
        "id": "X2m4YS4E9CRh",
        "colab_type": "code",
        "colab": {}
      },
      "source": [
        "# Set/Convert all the pixel values to float data type \n",
        "# Normalizing all pixel values by dividing with 255 so that every value lies btw 0-1\n",
        "\n",
        "X_train = X_train.astype('float32')\n",
        "X_test = X_test.astype('float32')\n",
        "X_train /= 255\n",
        "X_test /= 255"
      ],
      "execution_count": 0,
      "outputs": []
    },
    {
      "cell_type": "code",
      "metadata": {
        "id": "0Mn0vAYD9DvB",
        "colab_type": "code",
        "outputId": "9ba156ff-1011-49b8-c715-9df246ea173f",
        "colab": {
          "base_uri": "https://localhost:8080/",
          "height": 34
        }
      },
      "source": [
        "# This shows first 10 train sample labels\n",
        "\n",
        "y_train[:10]"
      ],
      "execution_count": 7,
      "outputs": [
        {
          "output_type": "execute_result",
          "data": {
            "text/plain": [
              "array([5, 0, 4, 1, 9, 2, 1, 3, 1, 4], dtype=uint8)"
            ]
          },
          "metadata": {
            "tags": []
          },
          "execution_count": 7
        }
      ]
    },
    {
      "cell_type": "code",
      "metadata": {
        "id": "ZG8JiXR39FHC",
        "colab_type": "code",
        "colab": {}
      },
      "source": [
        "# Converted the above 1-dimensional class label arrays to 10-dimensional class matrices\n",
        "# As the test and train labels are not splitted into 10 distinct labels\n",
        "\n",
        "Y_train = np_utils.to_categorical(y_train, 10)\n",
        "Y_test = np_utils.to_categorical(y_test, 10)"
      ],
      "execution_count": 0,
      "outputs": []
    },
    {
      "cell_type": "code",
      "metadata": {
        "id": "fYlFRvKS9HMB",
        "colab_type": "code",
        "outputId": "9c871cbb-961b-4989-8774-3ef1214a2637",
        "colab": {
          "base_uri": "https://localhost:8080/",
          "height": 191
        }
      },
      "source": [
        "# Looking at 10-dimensional class matrice\n",
        "# Where the index [ranging from 0-9] of 1 tells the label\n",
        "\n",
        "Y_train[:10]\n"
      ],
      "execution_count": 9,
      "outputs": [
        {
          "output_type": "execute_result",
          "data": {
            "text/plain": [
              "array([[0., 0., 0., 0., 0., 1., 0., 0., 0., 0.],\n",
              "       [1., 0., 0., 0., 0., 0., 0., 0., 0., 0.],\n",
              "       [0., 0., 0., 0., 1., 0., 0., 0., 0., 0.],\n",
              "       [0., 1., 0., 0., 0., 0., 0., 0., 0., 0.],\n",
              "       [0., 0., 0., 0., 0., 0., 0., 0., 0., 1.],\n",
              "       [0., 0., 1., 0., 0., 0., 0., 0., 0., 0.],\n",
              "       [0., 1., 0., 0., 0., 0., 0., 0., 0., 0.],\n",
              "       [0., 0., 0., 1., 0., 0., 0., 0., 0., 0.],\n",
              "       [0., 1., 0., 0., 0., 0., 0., 0., 0., 0.],\n",
              "       [0., 0., 0., 0., 1., 0., 0., 0., 0., 0.]], dtype=float32)"
            ]
          },
          "metadata": {
            "tags": []
          },
          "execution_count": 9
        }
      ]
    },
    {
      "cell_type": "code",
      "metadata": {
        "id": "osKqT73Q9JJB",
        "colab_type": "code",
        "colab": {}
      },
      "source": [
        "# Declaring a sequential model and its layers \n",
        "# Using Relu activation and 2D convolution with 3x3 kernel\n",
        "# We flatten the last layer output to get 10 activations respective to 10 class labels we want to predict\n",
        "# Using softmax to get a probability like value , so that we cant have a disticnt difference btw predictions\n",
        "# Calling summary to see rendered model info\n",
        "\n",
        "model = Sequential() \n",
        "model.add(Conv2D(16,(3, 3), activation='relu', input_shape=(28,28,1)))\n",
        "# Input Channel Dim = (28x28x1)\n",
        "# RF = 3\n",
        "\n",
        "model.add(BatchNormalization()) #IMPV\n",
        "model.add(Conv2D(16,(3, 3), activation='relu')) \n",
        "# Input Channel Dim = (26x26x16)\n",
        "# RF = 5\n",
        "\n",
        "model.add(BatchNormalization()) #IMPV\n",
        "model.add(Conv2D(32,(3, 3), activation='relu')) \n",
        "# Input Channel Dim = (24x24x16)\n",
        "# RF = 7\n",
        "\n",
        "model.add(BatchNormalization()) #IMPV\n",
        "model.add(MaxPooling2D(pool_size=(2, 2))) \n",
        "# Input Channel Dim = (22x22x32)\n",
        "# RF = 14\n",
        "\n",
        "model.add(Conv2D(10,(1, 1), activation='relu')) \n",
        "# Input Channel Dim = (11x11x32)\n",
        "# RF = 14\n",
        "\n",
        "model.add(BatchNormalization()) #IMPV\n",
        "model.add(Conv2D(10,(3, 3), activation='relu')) \n",
        "# Input Channel Dim = (11x11x10)\n",
        "# RF = 16\n",
        "\n",
        "model.add(BatchNormalization()) #IMPV\n",
        "model.add(Conv2D(16,(3, 3), activation='relu')) \n",
        "# Input Channel Dim = (9x9x10)\n",
        "# RF = 18\n",
        "\n",
        "model.add(BatchNormalization()) #IMPV\n",
        "model.add(Conv2D(32,(3, 3), activation='relu')) \n",
        "# Input Channel Dim = (7x7x16)\n",
        "# RF = 20\n",
        "\n",
        "model.add(Conv2D(10,(5, 5)))\n",
        "# Input Channel Dim = (5x5x32)\n",
        "# RF = 24\n",
        "\n",
        "model.add(Flatten())\n",
        "# Input Channel Dim = (1x1x10)\n",
        "\n",
        "model.add(Activation('softmax'))\n",
        "# Input Channel Dim = (,10)\n"
      ],
      "execution_count": 0,
      "outputs": []
    },
    {
      "cell_type": "code",
      "metadata": {
        "id": "TzdAYg1k9K7Z",
        "colab_type": "code",
        "outputId": "2b9da1cf-a737-4b3a-f1e2-4c1e918aff36",
        "colab": {
          "base_uri": "https://localhost:8080/",
          "height": 729
        }
      },
      "source": [
        "model.summary()"
      ],
      "execution_count": 33,
      "outputs": [
        {
          "output_type": "stream",
          "text": [
            "_________________________________________________________________\n",
            "Layer (type)                 Output Shape              Param #   \n",
            "=================================================================\n",
            "conv2d_51 (Conv2D)           (None, 26, 26, 16)        160       \n",
            "_________________________________________________________________\n",
            "batch_normalization_39 (Batc (None, 26, 26, 16)        64        \n",
            "_________________________________________________________________\n",
            "conv2d_52 (Conv2D)           (None, 24, 24, 16)        2320      \n",
            "_________________________________________________________________\n",
            "batch_normalization_40 (Batc (None, 24, 24, 16)        64        \n",
            "_________________________________________________________________\n",
            "conv2d_53 (Conv2D)           (None, 22, 22, 32)        4640      \n",
            "_________________________________________________________________\n",
            "batch_normalization_41 (Batc (None, 22, 22, 32)        128       \n",
            "_________________________________________________________________\n",
            "max_pooling2d_7 (MaxPooling2 (None, 11, 11, 32)        0         \n",
            "_________________________________________________________________\n",
            "conv2d_54 (Conv2D)           (None, 11, 11, 10)        330       \n",
            "_________________________________________________________________\n",
            "batch_normalization_42 (Batc (None, 11, 11, 10)        40        \n",
            "_________________________________________________________________\n",
            "conv2d_55 (Conv2D)           (None, 9, 9, 10)          910       \n",
            "_________________________________________________________________\n",
            "batch_normalization_43 (Batc (None, 9, 9, 10)          40        \n",
            "_________________________________________________________________\n",
            "conv2d_56 (Conv2D)           (None, 7, 7, 16)          1456      \n",
            "_________________________________________________________________\n",
            "batch_normalization_44 (Batc (None, 7, 7, 16)          64        \n",
            "_________________________________________________________________\n",
            "conv2d_57 (Conv2D)           (None, 5, 5, 32)          4640      \n",
            "_________________________________________________________________\n",
            "conv2d_58 (Conv2D)           (None, 1, 1, 10)          8010      \n",
            "_________________________________________________________________\n",
            "flatten_7 (Flatten)          (None, 10)                0         \n",
            "_________________________________________________________________\n",
            "activation_7 (Activation)    (None, 10)                0         \n",
            "=================================================================\n",
            "Total params: 22,866\n",
            "Trainable params: 22,666\n",
            "Non-trainable params: 200\n",
            "_________________________________________________________________\n"
          ],
          "name": "stdout"
        }
      ]
    },
    {
      "cell_type": "code",
      "metadata": {
        "id": "Zp6SuGrL9M3h",
        "colab_type": "code",
        "colab": {}
      },
      "source": [
        "# Compiling the model with particular loss function, optimiser\n",
        "\n",
        "model.compile(loss='categorical_crossentropy',\n",
        "              optimizer='adam',\n",
        "              metrics=['accuracy'])\n",
        "\n",
        "# Early Stopping callback which help us terminate the training once we reach\n",
        "# our mark based on conditionsof trai\n",
        "early_stop_train = EarlyStopping(monitor='val_acc', patience=10, verbose=1, mode='max', restore_best_weights=True)"
      ],
      "execution_count": 0,
      "outputs": []
    },
    {
      "cell_type": "code",
      "metadata": {
        "id": "4xWoKhPY9Of5",
        "colab_type": "code",
        "outputId": "ec66e6ba-8b69-4ee4-8daf-94e801e58ed3",
        "colab": {
          "base_uri": "https://localhost:8080/",
          "height": 471
        }
      },
      "source": [
        "# Train the model with a batch size and epoch number on train data\n",
        "\n",
        "model.fit(X_train, Y_train, batch_size=32, epochs = 10, verbose=1, validation_data=(X_test, Y_test), callbacks = [early_stop_train])\n"
      ],
      "execution_count": 24,
      "outputs": [
        {
          "output_type": "stream",
          "text": [
            "WARNING:tensorflow:From /usr/local/lib/python3.6/dist-packages/tensorflow/python/ops/math_ops.py:3066: to_int32 (from tensorflow.python.ops.math_ops) is deprecated and will be removed in a future version.\n",
            "Instructions for updating:\n",
            "Use tf.cast instead.\n",
            "Train on 60000 samples, validate on 10000 samples\n",
            "Epoch 1/10\n",
            "60000/60000 [==============================] - 27s 455us/step - loss: 0.1285 - acc: 0.9601 - val_loss: 0.0559 - val_acc: 0.9823\n",
            "Epoch 2/10\n",
            "60000/60000 [==============================] - 23s 378us/step - loss: 0.0487 - acc: 0.9848 - val_loss: 0.0424 - val_acc: 0.9870\n",
            "Epoch 3/10\n",
            "60000/60000 [==============================] - 21s 356us/step - loss: 0.0380 - acc: 0.9881 - val_loss: 0.0347 - val_acc: 0.9882\n",
            "Epoch 4/10\n",
            "60000/60000 [==============================] - 21s 356us/step - loss: 0.0330 - acc: 0.9899 - val_loss: 0.0362 - val_acc: 0.9882\n",
            "Epoch 5/10\n",
            "60000/60000 [==============================] - 22s 375us/step - loss: 0.0260 - acc: 0.9915 - val_loss: 0.0282 - val_acc: 0.9923\n",
            "Epoch 6/10\n",
            "60000/60000 [==============================] - 22s 364us/step - loss: 0.0228 - acc: 0.9925 - val_loss: 0.0701 - val_acc: 0.9785\n",
            "Epoch 7/10\n",
            "60000/60000 [==============================] - 22s 367us/step - loss: 0.0189 - acc: 0.9936 - val_loss: 0.0316 - val_acc: 0.9905\n",
            "Epoch 8/10\n",
            "60000/60000 [==============================] - 23s 376us/step - loss: 0.0182 - acc: 0.9940 - val_loss: 0.0359 - val_acc: 0.9902\n",
            "Epoch 9/10\n",
            "60000/60000 [==============================] - 24s 404us/step - loss: 0.0154 - acc: 0.9949 - val_loss: 0.0293 - val_acc: 0.9918\n",
            "Epoch 10/10\n",
            "60000/60000 [==============================] - 23s 376us/step - loss: 0.0143 - acc: 0.9954 - val_loss: 0.0260 - val_acc: 0.9924\n"
          ],
          "name": "stdout"
        },
        {
          "output_type": "execute_result",
          "data": {
            "text/plain": [
              "<keras.callbacks.History at 0x7f6a76968e80>"
            ]
          },
          "metadata": {
            "tags": []
          },
          "execution_count": 24
        }
      ]
    },
    {
      "cell_type": "code",
      "metadata": {
        "id": "AtsH-lLk-eLb",
        "colab_type": "code",
        "colab": {}
      },
      "source": [
        "# Evaluating the same model on test data to see how well it performs\n",
        "\n",
        "score = model.evaluate(X_test, Y_test, verbose=0)"
      ],
      "execution_count": 0,
      "outputs": []
    },
    {
      "cell_type": "code",
      "metadata": {
        "id": "mkX8JMv79q9r",
        "colab_type": "code",
        "outputId": "6903d443-cb96-46c0-c4da-83bf6d746e16",
        "colab": {
          "base_uri": "https://localhost:8080/",
          "height": 34
        }
      },
      "source": [
        "print(score)"
      ],
      "execution_count": 26,
      "outputs": [
        {
          "output_type": "stream",
          "text": [
            "[0.025954495002804744, 0.9924]\n"
          ],
          "name": "stdout"
        }
      ]
    },
    {
      "cell_type": "code",
      "metadata": {
        "id": "OCWoJkwE9suh",
        "colab_type": "code",
        "colab": {}
      },
      "source": [
        "# Calculating the 10-dimensional class matrix for lables wrt. test data\n",
        "\n",
        "y_pred = model.predict(X_test)"
      ],
      "execution_count": 0,
      "outputs": []
    },
    {
      "cell_type": "code",
      "metadata": {
        "id": "Ym7iCFBm9uBs",
        "colab_type": "code",
        "outputId": "4dab407f-55bd-4267-b62c-183e39680550",
        "colab": {
          "base_uri": "https://localhost:8080/",
          "height": 503
        }
      },
      "source": [
        "# Showing the Predicted labels and the Expected labels\n",
        "\n",
        "print(y_pred[:9])\n",
        "print(y_test[:9])"
      ],
      "execution_count": 28,
      "outputs": [
        {
          "output_type": "stream",
          "text": [
            "[[9.18636478e-13 2.86793181e-07 2.51333432e-07 3.18593919e-07\n",
            "  7.46875933e-17 1.16524507e-13 1.17800864e-22 9.99999166e-01\n",
            "  5.75306133e-15 2.76156853e-09]\n",
            " [6.03462105e-13 2.27412067e-09 1.00000000e+00 2.64886359e-11\n",
            "  8.78359677e-11 1.27838820e-18 5.20645940e-12 3.50644253e-12\n",
            "  1.53308495e-08 1.60146249e-14]\n",
            " [2.81374867e-07 9.99996305e-01 1.07509706e-07 2.76010748e-09\n",
            "  3.81189892e-07 1.95761229e-09 7.75718600e-09 2.03069999e-06\n",
            "  9.11950281e-07 2.08818851e-09]\n",
            " [9.99991775e-01 1.02147527e-10 1.04167279e-08 5.19473931e-09\n",
            "  7.18027970e-10 1.56545998e-09 8.06261869e-06 1.01653370e-08\n",
            "  6.29231645e-09 5.97679701e-08]\n",
            " [3.49421837e-12 2.26867691e-11 5.45701982e-12 5.96070242e-12\n",
            "  1.00000000e+00 1.60811175e-09 2.56378477e-11 4.98259034e-14\n",
            "  2.57342286e-10 3.73571609e-08]\n",
            " [3.52873201e-07 9.99997854e-01 9.30838873e-09 4.50499950e-11\n",
            "  1.26686047e-07 5.76323878e-10 1.21159989e-08 1.66918153e-06\n",
            "  8.42898640e-09 1.76681836e-09]\n",
            " [4.93054653e-18 1.36744116e-10 4.79125118e-15 1.22885714e-16\n",
            "  1.00000000e+00 1.58069842e-11 7.07219468e-19 1.39404235e-13\n",
            "  9.73864132e-12 1.18436905e-08]\n",
            " [1.48679333e-15 5.75674100e-12 3.30958971e-09 5.90045435e-09\n",
            "  9.34176322e-04 4.10870123e-11 1.90685116e-17 1.26640698e-10\n",
            "  7.20717305e-11 9.99065816e-01]\n",
            " [2.11687981e-13 3.38580639e-12 3.72447455e-11 7.83954810e-14\n",
            "  6.79989183e-17 9.94274795e-01 5.72252646e-03 2.97480320e-17\n",
            "  2.68966664e-06 1.77371434e-11]]\n",
            "[7 2 1 0 4 1 4 9 5]\n"
          ],
          "name": "stdout"
        }
      ]
    },
    {
      "cell_type": "code",
      "metadata": {
        "id": "CT--y98_dr2T",
        "colab_type": "code",
        "colab": {}
      },
      "source": [
        "layer_dict = dict([(layer.name, layer) for layer in model.layers])"
      ],
      "execution_count": 0,
      "outputs": []
    },
    {
      "cell_type": "code",
      "metadata": {
        "id": "2GY4Upv4dsUR",
        "colab_type": "code",
        "outputId": "e57abdb4-b2e0-46ac-9412-9a14a9b5fe8f",
        "colab": {
          "base_uri": "https://localhost:8080/",
          "height": 761
        }
      },
      "source": [
        "# Visualising kernel at a convolutional layer\n",
        "\n",
        "import numpy as np\n",
        "from matplotlib import pyplot as plt\n",
        "from keras import backend as K\n",
        "%matplotlib inline\n",
        "# util function to convert a tensor into a valid image\n",
        "def deprocess_image(x):\n",
        "    # normalize tensor: center on 0., ensure std is 0.1\n",
        "    x -= x.mean()\n",
        "    x /= (x.std() + 1e-5)\n",
        "    x *= 0.1\n",
        "\n",
        "    # clip to [0, 1]\n",
        "    x += 0.5\n",
        "    x = np.clip(x, 0, 1)\n",
        "\n",
        "    # convert to RGB array\n",
        "    x *= 255\n",
        "    #x = x.transpose((1, 2, 0))\n",
        "    x = np.clip(x, 0, 255).astype('uint8')\n",
        "    return x\n",
        "\n",
        "def vis_img_in_filter(img = np.array(X_train[2]).reshape((1, 28, 28, 1)).astype(np.float64), \n",
        "                      layer_name = 'conv2d_52'):\n",
        "    layer_output = layer_dict[layer_name].output\n",
        "    img_ascs = list()\n",
        "    for filter_index in range(layer_output.shape[3]):\n",
        "        # build a loss function that maximizes the activation\n",
        "        # of the nth filter of the layer considered\n",
        "        loss = K.mean(layer_output[:, :, :, filter_index])\n",
        "\n",
        "        # compute the gradient of the input picture wrt this loss\n",
        "        grads = K.gradients(loss, model.input)[0]\n",
        "\n",
        "        # normalization trick: we normalize the gradient\n",
        "        grads /= (K.sqrt(K.mean(K.square(grads))) + 1e-5)\n",
        "\n",
        "        # this function returns the loss and grads given the input picture\n",
        "        iterate = K.function([model.input], [loss, grads])\n",
        "\n",
        "        # step size for gradient ascent\n",
        "        step = 5.\n",
        "\n",
        "        img_asc = np.array(img)\n",
        "        # run gradient ascent for 20 steps\n",
        "        for i in range(20):\n",
        "            loss_value, grads_value = iterate([img_asc])\n",
        "            img_asc += grads_value * step\n",
        "\n",
        "        img_asc = img_asc[0]\n",
        "        img_ascs.append(deprocess_image(img_asc).reshape((28, 28)))\n",
        "        \n",
        "    if layer_output.shape[3] >= 35:\n",
        "        plot_x, plot_y = 6, 6\n",
        "    elif layer_output.shape[3] >= 23:\n",
        "        plot_x, plot_y = 4, 6\n",
        "    elif layer_output.shape[3] >= 11:\n",
        "        plot_x, plot_y = 2, 6\n",
        "    else:\n",
        "        plot_x, plot_y = 1, 2\n",
        "    fig, ax = plt.subplots(plot_x, plot_y, figsize = (12, 12))\n",
        "    ax[0, 0].imshow(img.reshape((28, 28)), cmap = 'gray')\n",
        "    ax[0, 0].set_title('Input image')\n",
        "    fig.suptitle('Input image and %s filters' % (layer_name,))\n",
        "    fig.tight_layout(pad = 0.3, rect = [0, 0, 0.9, 0.9])\n",
        "    for (x, y) in [(i, j) for i in range(plot_x) for j in range(plot_y)]:\n",
        "        if x == 0 and y == 0:\n",
        "            continue\n",
        "        ax[x, y].imshow(img_ascs[x * plot_y + y - 1], cmap = 'gray')\n",
        "        ax[x, y].set_title('filter %d' % (x * plot_y + y - 1))\n",
        "\n",
        "vis_img_in_filter()"
      ],
      "execution_count": 34,
      "outputs": [
        {
          "output_type": "display_data",
          "data": {
            "image/png": "[encoded data removed]",
            "text/plain": [
              "<Figure size 864x864 with 12 Axes>"
            ]
          },
          "metadata": {
            "tags": []
          }
        }
      ]
    },
    {
      "cell_type": "markdown",
      "metadata": {
        "id": "7GzkdvLG2eKE",
        "colab_type": "text"
      },
      "source": [
        "## Observation:\n",
        "\n",
        "To conclude this networks:\n",
        "- With batch size of 32 in epochs 10, we have achieved 99.24 percent validation accuracy, which is also the maximum among all 10.\n",
        "- Towards ending epochs of the model shows hints of overfitting. \n",
        "- Even though the number of parameters were cut by half wrt the previous model, the epoch time has increased as the non trainable parameters are introduced due to Batch Normalization.\n",
        "- These parameters are responsible for storing the normalized range of the batch of images, which just increases the context switching between CPU and GPU.\n",
        "- With improvements we can do better. "
      ]
    }
  ]
}