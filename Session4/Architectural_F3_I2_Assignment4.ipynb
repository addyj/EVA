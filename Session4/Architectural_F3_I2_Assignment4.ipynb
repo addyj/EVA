{
  "nbformat": 4,
  "nbformat_minor": 0,
  "metadata": {
    "colab": {
      "name": "Architectural_F3_I2_Assignment4.ipynb",
      "version": "0.3.2",
      "provenance": [],
      "collapsed_sections": []
    },
    "kernelspec": {
      "name": "python3",
      "display_name": "Python 3"
    },
    "accelerator": "GPU"
  },
  "cells": [
    {
      "cell_type": "markdown",
      "metadata": {
        "id": "h9pJ9DRbddAt",
        "colab_type": "text"
      },
      "source": [
        "## Aditya Jindal\n",
        "## Batch M6\n",
        "## Assignment 4\n",
        "## Network with Improvement 2\n",
        "## Architectural Basics 3\n",
        "---\n",
        "### Note: The rescpective code hopefully will be an improvement over our first attempted improved neural network.\n",
        "### Continuing with the old network with\n",
        "- 3x3 Conv2D Layers \n",
        "- Activation Layers\n",
        "- Max Pooling2D Layers\n",
        "- 1x1 Conv2D Layers\n",
        "- SoftMax Layer\n",
        "- BatchNormalization\n",
        "\n",
        "### As our final target is with 15k parameter of model and 99.4 validation accuracy. We have to make improvements in such a way that we will be able to achieve it.\n",
        "\n",
        "### Improvements:\n",
        "\n",
        "- Increasing Epoch to train\n",
        "\n",
        "- Increasing Batch Size\n",
        "\n",
        "- Changing channel numbers\n",
        "\n",
        "\n"
      ]
    },
    {
      "cell_type": "markdown",
      "metadata": {
        "id": "aNyZv-Ec52ot",
        "colab_type": "text"
      },
      "source": [
        "# **Import Libraries and modules**"
      ]
    },
    {
      "cell_type": "code",
      "metadata": {
        "id": "3m3w1Cw49Zkt",
        "colab_type": "code",
        "outputId": "da78db29-406d-40f5-e10c-9d3d37d76383",
        "colab": {
          "base_uri": "https://localhost:8080/",
          "height": 34
        }
      },
      "source": [
        "#Importing Keras to colab file\n",
        "# https://keras.io/\n",
        "!pip install -q keras\n",
        "import keras"
      ],
      "execution_count": 1,
      "outputs": [
        {
          "output_type": "stream",
          "text": [
            "Using TensorFlow backend.\n"
          ],
          "name": "stderr"
        }
      ]
    },
    {
      "cell_type": "code",
      "metadata": {
        "id": "Eso6UHE080D4",
        "colab_type": "code",
        "colab": {}
      },
      "source": [
        "# Importing all the required libraries from the modules\n",
        "\n",
        "import numpy as np\n",
        "import math\n",
        "from keras.models import Sequential\n",
        "from keras.layers import Activation, Flatten, Input, Dropout\n",
        "from keras.layers import Conv2D, MaxPooling2D, BatchNormalization\n",
        "from keras.utils import np_utils\n",
        "from keras.optimizers import Adam\n",
        "from keras.datasets import mnist\n",
        "from keras.callbacks import *"
      ],
      "execution_count": 0,
      "outputs": []
    },
    {
      "cell_type": "markdown",
      "metadata": {
        "id": "zByEi95J86RD",
        "colab_type": "text"
      },
      "source": [
        "### Load pre-shuffled MNIST data into train and test sets"
      ]
    },
    {
      "cell_type": "code",
      "metadata": {
        "id": "7eRM0QWN83PV",
        "colab_type": "code",
        "outputId": "c559b37a-a1ad-4aa5-cf89-554084d78dfb",
        "colab": {
          "base_uri": "https://localhost:8080/",
          "height": 52
        }
      },
      "source": [
        "# Loading a database of handwritten digits\n",
        "# we get X_train and X_test as array of the grey scale images of the digits with shape\n",
        "# and y_train and y_test as array of the digits labels (i.e. 0-9) with sample number\n",
        "\n",
        "(X_train, y_train), (X_test, y_test) = mnist.load_data()"
      ],
      "execution_count": 3,
      "outputs": [
        {
          "output_type": "stream",
          "text": [
            "Downloading data from https://s3.amazonaws.com/img-datasets/mnist.npz\n",
            "11493376/11490434 [==============================] - 1s 0us/step\n"
          ],
          "name": "stdout"
        }
      ]
    },
    {
      "cell_type": "code",
      "metadata": {
        "id": "4a4Be72j8-ZC",
        "colab_type": "code",
        "outputId": "7726f0c3-5352-445e-e6c9-e3fa68f01f07",
        "colab": {
          "base_uri": "https://localhost:8080/",
          "height": 304
        }
      },
      "source": [
        "# We print the shape of our dataset array\n",
        "# Also print the first handwritten digit image\n",
        "\n",
        "print (X_train.shape)\n",
        "from matplotlib import pyplot as plt\n",
        "%matplotlib inline\n",
        "plt.imshow(X_train[0])"
      ],
      "execution_count": 4,
      "outputs": [
        {
          "output_type": "stream",
          "text": [
            "(60000, 28, 28)\n"
          ],
          "name": "stdout"
        },
        {
          "output_type": "execute_result",
          "data": {
            "text/plain": [
              "<matplotlib.image.AxesImage at 0x7fcbc823a048>"
            ]
          },
          "metadata": {
            "tags": []
          },
          "execution_count": 4
        },
        {
          "output_type": "display_data",
          "data": {
            "image/png": "[encoded data removed]",
            "text/plain": [
              "<Figure size 432x288 with 1 Axes>"
            ]
          },
          "metadata": {
            "tags": []
          }
        }
      ]
    },
    {
      "cell_type": "code",
      "metadata": {
        "id": "dkmprriw9AnZ",
        "colab_type": "code",
        "colab": {}
      },
      "source": [
        "# Reshaping the dataset to have one channel for each image present\n",
        "# As images are on greyscale we will have 1 channel instead of 3\n",
        "# For both test and train\n",
        "\n",
        "X_train = X_train.reshape(X_train.shape[0], 28, 28,1)\n",
        "X_test = X_test.reshape(X_test.shape[0], 28, 28,1)"
      ],
      "execution_count": 0,
      "outputs": []
    },
    {
      "cell_type": "code",
      "metadata": {
        "id": "X2m4YS4E9CRh",
        "colab_type": "code",
        "colab": {}
      },
      "source": [
        "# Set/Convert all the pixel values to float data type \n",
        "# Normalizing all pixel values by dividing with 255 so that every value lies btw 0-1\n",
        "\n",
        "X_train = X_train.astype('float32')\n",
        "X_test = X_test.astype('float32')\n",
        "X_train /= 255\n",
        "X_test /= 255"
      ],
      "execution_count": 0,
      "outputs": []
    },
    {
      "cell_type": "code",
      "metadata": {
        "id": "0Mn0vAYD9DvB",
        "colab_type": "code",
        "outputId": "c7bea369-bc9c-4c52-d398-7fcf13bc2dcc",
        "colab": {
          "base_uri": "https://localhost:8080/",
          "height": 34
        }
      },
      "source": [
        "# This shows first 10 train sample labels\n",
        "\n",
        "y_train[:10]"
      ],
      "execution_count": 7,
      "outputs": [
        {
          "output_type": "execute_result",
          "data": {
            "text/plain": [
              "array([5, 0, 4, 1, 9, 2, 1, 3, 1, 4], dtype=uint8)"
            ]
          },
          "metadata": {
            "tags": []
          },
          "execution_count": 7
        }
      ]
    },
    {
      "cell_type": "code",
      "metadata": {
        "id": "ZG8JiXR39FHC",
        "colab_type": "code",
        "colab": {}
      },
      "source": [
        "# Converted the above 1-dimensional class label arrays to 10-dimensional class matrices\n",
        "# As the test and train labels are not splitted into 10 distinct labels\n",
        "\n",
        "Y_train = np_utils.to_categorical(y_train, 10)\n",
        "Y_test = np_utils.to_categorical(y_test, 10)"
      ],
      "execution_count": 0,
      "outputs": []
    },
    {
      "cell_type": "code",
      "metadata": {
        "id": "fYlFRvKS9HMB",
        "colab_type": "code",
        "outputId": "e68a7a74-7bf2-48d5-beb0-7b9bce2fe0cb",
        "colab": {
          "base_uri": "https://localhost:8080/",
          "height": 191
        }
      },
      "source": [
        "# Looking at 10-dimensional class matrice\n",
        "# Where the index [ranging from 0-9] of 1 tells the label\n",
        "\n",
        "Y_train[:10]\n"
      ],
      "execution_count": 9,
      "outputs": [
        {
          "output_type": "execute_result",
          "data": {
            "text/plain": [
              "array([[0., 0., 0., 0., 0., 1., 0., 0., 0., 0.],\n",
              "       [1., 0., 0., 0., 0., 0., 0., 0., 0., 0.],\n",
              "       [0., 0., 0., 0., 1., 0., 0., 0., 0., 0.],\n",
              "       [0., 1., 0., 0., 0., 0., 0., 0., 0., 0.],\n",
              "       [0., 0., 0., 0., 0., 0., 0., 0., 0., 1.],\n",
              "       [0., 0., 1., 0., 0., 0., 0., 0., 0., 0.],\n",
              "       [0., 1., 0., 0., 0., 0., 0., 0., 0., 0.],\n",
              "       [0., 0., 0., 1., 0., 0., 0., 0., 0., 0.],\n",
              "       [0., 1., 0., 0., 0., 0., 0., 0., 0., 0.],\n",
              "       [0., 0., 0., 0., 1., 0., 0., 0., 0., 0.]], dtype=float32)"
            ]
          },
          "metadata": {
            "tags": []
          },
          "execution_count": 9
        }
      ]
    },
    {
      "cell_type": "code",
      "metadata": {
        "id": "osKqT73Q9JJB",
        "colab_type": "code",
        "colab": {
          "base_uri": "https://localhost:8080/",
          "height": 89
        },
        "outputId": "a8f9fbc5-2c47-4ba4-db1d-a034a36ceea7"
      },
      "source": [
        "# Declaring a sequential model and its layers \n",
        "# Using Relu activation and 2D convolution with 3x3 kernel\n",
        "# We flatten the last layer output to get 10 activations respective to 10 class labels we want to predict\n",
        "# Using softmax to get a probability like value , so that we cant have a disticnt difference btw predictions\n",
        "# Calling summary to see rendered model info\n",
        "\n",
        "model = Sequential() \n",
        "\n",
        "#Channel Numbers Changed as an improvement\n",
        "\n",
        "model.add(Conv2D(10,(3, 3), activation='relu', input_shape=(28,28,1)))\n",
        "# Input Channel Dim = (28x28x1)\n",
        "# RF = 3\n",
        "\n",
        "model.add(BatchNormalization()) \n",
        "model.add(Conv2D(16,(3, 3), activation='relu'))\n",
        "# Input Channel Dim = (26x26x10)\n",
        "# RF = 5\n",
        "\n",
        "model.add(BatchNormalization()) \n",
        "model.add(Conv2D(24,(3, 3), activation='relu')) \n",
        "# Input Channel Dim = (24x24x16)\n",
        "# RF = 7\n",
        "\n",
        "model.add(BatchNormalization()) \n",
        "model.add(MaxPooling2D(pool_size=(2, 2))) \n",
        "# Input Channel Dim = (22x22x24)\n",
        "# RF = 14\n",
        "\n",
        "model.add(Conv2D(10,(1, 1), activation='relu')) \n",
        "# Input Channel Dim = (11x11x24)\n",
        "# RF = 14\n",
        "\n",
        "model.add(BatchNormalization()) \n",
        "model.add(Conv2D(10,(3, 3), activation='relu')) \n",
        "# Input Channel Dim = (11x11x10)\n",
        "# RF = 16\n",
        "\n",
        "model.add(BatchNormalization())\n",
        "model.add(Conv2D(16,(3, 3), activation='relu')) \n",
        "# Input Channel Dim = (9x9x10)\n",
        "# RF = 18\n",
        "\n",
        "model.add(BatchNormalization())\n",
        "model.add(Conv2D(16,(3, 3), activation='relu')) \n",
        "# Input Channel Dim = (7x7x16)\n",
        "# RF = 20\n",
        "\n",
        "model.add(Conv2D(10,(5, 5)))\n",
        "# Input Channel Dim = (5x5x16)\n",
        "# RF = 24\n",
        "\n",
        "model.add(Flatten())\n",
        "# Input Channel Dim = (1x1x10)\n",
        "\n",
        "model.add(Activation('softmax'))\n",
        "# Input Channel Dim = (,10)\n"
      ],
      "execution_count": 10,
      "outputs": [
        {
          "output_type": "stream",
          "text": [
            "WARNING:tensorflow:From /usr/local/lib/python3.6/dist-packages/tensorflow/python/framework/op_def_library.py:263: colocate_with (from tensorflow.python.framework.ops) is deprecated and will be removed in a future version.\n",
            "Instructions for updating:\n",
            "Colocations handled automatically by placer.\n"
          ],
          "name": "stdout"
        }
      ]
    },
    {
      "cell_type": "code",
      "metadata": {
        "id": "TzdAYg1k9K7Z",
        "colab_type": "code",
        "outputId": "b4f721a2-dbed-4960-a859-dd856af493c5",
        "colab": {
          "base_uri": "https://localhost:8080/",
          "height": 729
        }
      },
      "source": [
        "model.summary()"
      ],
      "execution_count": 22,
      "outputs": [
        {
          "output_type": "stream",
          "text": [
            "_________________________________________________________________\n",
            "Layer (type)                 Output Shape              Param #   \n",
            "=================================================================\n",
            "conv2d_1 (Conv2D)            (None, 26, 26, 10)        100       \n",
            "_________________________________________________________________\n",
            "batch_normalization_1 (Batch (None, 26, 26, 10)        40        \n",
            "_________________________________________________________________\n",
            "conv2d_2 (Conv2D)            (None, 24, 24, 16)        1456      \n",
            "_________________________________________________________________\n",
            "batch_normalization_2 (Batch (None, 24, 24, 16)        64        \n",
            "_________________________________________________________________\n",
            "conv2d_3 (Conv2D)            (None, 22, 22, 24)        3480      \n",
            "_________________________________________________________________\n",
            "batch_normalization_3 (Batch (None, 22, 22, 24)        96        \n",
            "_________________________________________________________________\n",
            "max_pooling2d_1 (MaxPooling2 (None, 11, 11, 24)        0         \n",
            "_________________________________________________________________\n",
            "conv2d_4 (Conv2D)            (None, 11, 11, 10)        250       \n",
            "_________________________________________________________________\n",
            "batch_normalization_4 (Batch (None, 11, 11, 10)        40        \n",
            "_________________________________________________________________\n",
            "conv2d_5 (Conv2D)            (None, 9, 9, 10)          910       \n",
            "_________________________________________________________________\n",
            "batch_normalization_5 (Batch (None, 9, 9, 10)          40        \n",
            "_________________________________________________________________\n",
            "conv2d_6 (Conv2D)            (None, 7, 7, 16)          1456      \n",
            "_________________________________________________________________\n",
            "batch_normalization_6 (Batch (None, 7, 7, 16)          64        \n",
            "_________________________________________________________________\n",
            "conv2d_7 (Conv2D)            (None, 5, 5, 16)          2320      \n",
            "_________________________________________________________________\n",
            "conv2d_8 (Conv2D)            (None, 1, 1, 10)          4010      \n",
            "_________________________________________________________________\n",
            "flatten_1 (Flatten)          (None, 10)                0         \n",
            "_________________________________________________________________\n",
            "activation_1 (Activation)    (None, 10)                0         \n",
            "=================================================================\n",
            "Total params: 14,326\n",
            "Trainable params: 14,154\n",
            "Non-trainable params: 172\n",
            "_________________________________________________________________\n"
          ],
          "name": "stdout"
        }
      ]
    },
    {
      "cell_type": "code",
      "metadata": {
        "id": "Zp6SuGrL9M3h",
        "colab_type": "code",
        "colab": {}
      },
      "source": [
        "# Compiling the model with particular loss function, optimiser\n",
        "\n",
        "model.compile(loss='categorical_crossentropy',\n",
        "              optimizer='adam',\n",
        "              metrics=['accuracy'])"
      ],
      "execution_count": 0,
      "outputs": []
    },
    {
      "cell_type": "code",
      "metadata": {
        "id": "4xWoKhPY9Of5",
        "colab_type": "code",
        "outputId": "8b0c0537-9e33-4f26-ed52-938ec39ee0bc",
        "colab": {
          "base_uri": "https://localhost:8080/",
          "height": 819
        }
      },
      "source": [
        "# Train the model with a batch size and epoch number on train data\n",
        "\n",
        "model.fit(X_train, Y_train, batch_size=128, epochs = 20, verbose=1, validation_data=(X_test, Y_test))\n"
      ],
      "execution_count": 15,
      "outputs": [
        {
          "output_type": "stream",
          "text": [
            "WARNING:tensorflow:From /usr/local/lib/python3.6/dist-packages/tensorflow/python/ops/math_ops.py:3066: to_int32 (from tensorflow.python.ops.math_ops) is deprecated and will be removed in a future version.\n",
            "Instructions for updating:\n",
            "Use tf.cast instead.\n",
            "Train on 60000 samples, validate on 10000 samples\n",
            "Epoch 1/20\n",
            "60000/60000 [==============================] - 9s 149us/step - loss: 0.2595 - acc: 0.9194 - val_loss: 0.0743 - val_acc: 0.9773\n",
            "Epoch 2/20\n",
            "60000/60000 [==============================] - 5s 89us/step - loss: 0.0587 - acc: 0.9821 - val_loss: 0.0511 - val_acc: 0.9840\n",
            "Epoch 3/20\n",
            "60000/60000 [==============================] - 5s 89us/step - loss: 0.0415 - acc: 0.9872 - val_loss: 0.0474 - val_acc: 0.9854\n",
            "Epoch 4/20\n",
            "60000/60000 [==============================] - 5s 89us/step - loss: 0.0348 - acc: 0.9895 - val_loss: 0.0404 - val_acc: 0.9877\n",
            "Epoch 5/20\n",
            "60000/60000 [==============================] - 5s 89us/step - loss: 0.0277 - acc: 0.9911 - val_loss: 0.0510 - val_acc: 0.9842\n",
            "Epoch 6/20\n",
            "60000/60000 [==============================] - 5s 89us/step - loss: 0.0230 - acc: 0.9929 - val_loss: 0.0347 - val_acc: 0.9890\n",
            "Epoch 7/20\n",
            "60000/60000 [==============================] - 6s 96us/step - loss: 0.0202 - acc: 0.9935 - val_loss: 0.0339 - val_acc: 0.9898\n",
            "Epoch 8/20\n",
            "60000/60000 [==============================] - 6s 97us/step - loss: 0.0189 - acc: 0.9938 - val_loss: 0.0369 - val_acc: 0.9889\n",
            "Epoch 9/20\n",
            "60000/60000 [==============================] - 5s 89us/step - loss: 0.0181 - acc: 0.9940 - val_loss: 0.0361 - val_acc: 0.9881\n",
            "Epoch 10/20\n",
            "60000/60000 [==============================] - 5s 89us/step - loss: 0.0157 - acc: 0.9949 - val_loss: 0.0388 - val_acc: 0.9884\n",
            "Epoch 11/20\n",
            "60000/60000 [==============================] - 5s 91us/step - loss: 0.0151 - acc: 0.9950 - val_loss: 0.0468 - val_acc: 0.9873\n",
            "Epoch 12/20\n",
            "60000/60000 [==============================] - 6s 101us/step - loss: 0.0115 - acc: 0.9963 - val_loss: 0.0368 - val_acc: 0.9901\n",
            "Epoch 13/20\n",
            "60000/60000 [==============================] - 6s 95us/step - loss: 0.0093 - acc: 0.9969 - val_loss: 0.0384 - val_acc: 0.9902\n",
            "Epoch 14/20\n",
            "60000/60000 [==============================] - 5s 89us/step - loss: 0.0116 - acc: 0.9962 - val_loss: 0.0524 - val_acc: 0.9861\n",
            "Epoch 15/20\n",
            "60000/60000 [==============================] - 5s 89us/step - loss: 0.0116 - acc: 0.9958 - val_loss: 0.0376 - val_acc: 0.9900\n",
            "Epoch 16/20\n",
            "60000/60000 [==============================] - 5s 89us/step - loss: 0.0081 - acc: 0.9975 - val_loss: 0.0403 - val_acc: 0.9906\n",
            "Epoch 17/20\n",
            "60000/60000 [==============================] - 5s 88us/step - loss: 0.0094 - acc: 0.9969 - val_loss: 0.0444 - val_acc: 0.9878\n",
            "Epoch 18/20\n",
            "60000/60000 [==============================] - 5s 89us/step - loss: 0.0092 - acc: 0.9968 - val_loss: 0.0384 - val_acc: 0.9906\n",
            "Epoch 19/20\n",
            "60000/60000 [==============================] - 5s 89us/step - loss: 0.0061 - acc: 0.9978 - val_loss: 0.0544 - val_acc: 0.9869\n",
            "Epoch 20/20\n",
            "60000/60000 [==============================] - 5s 89us/step - loss: 0.0093 - acc: 0.9968 - val_loss: 0.0405 - val_acc: 0.9909\n"
          ],
          "name": "stdout"
        },
        {
          "output_type": "execute_result",
          "data": {
            "text/plain": [
              "<keras.callbacks.History at 0x7fcbb0a2b630>"
            ]
          },
          "metadata": {
            "tags": []
          },
          "execution_count": 15
        }
      ]
    },
    {
      "cell_type": "code",
      "metadata": {
        "id": "AtsH-lLk-eLb",
        "colab_type": "code",
        "colab": {}
      },
      "source": [
        "# Evaluating the same model on test data to see how well it performs\n",
        "\n",
        "score = model.evaluate(X_test, Y_test, verbose=0)"
      ],
      "execution_count": 0,
      "outputs": []
    },
    {
      "cell_type": "code",
      "metadata": {
        "id": "mkX8JMv79q9r",
        "colab_type": "code",
        "outputId": "d65ebc21-9179-48d7-ae32-5d89207c31d5",
        "colab": {
          "base_uri": "https://localhost:8080/",
          "height": 34
        }
      },
      "source": [
        "print(score)"
      ],
      "execution_count": 17,
      "outputs": [
        {
          "output_type": "stream",
          "text": [
            "[0.040529927124920415, 0.9909]\n"
          ],
          "name": "stdout"
        }
      ]
    },
    {
      "cell_type": "code",
      "metadata": {
        "id": "OCWoJkwE9suh",
        "colab_type": "code",
        "colab": {}
      },
      "source": [
        "# Calculating the 10-dimensional class matrix for lables wrt. test data\n",
        "\n",
        "y_pred = model.predict(X_test)"
      ],
      "execution_count": 0,
      "outputs": []
    },
    {
      "cell_type": "code",
      "metadata": {
        "id": "Ym7iCFBm9uBs",
        "colab_type": "code",
        "outputId": "2131533c-39ee-43c8-d244-57c8443dd46b",
        "colab": {
          "base_uri": "https://localhost:8080/",
          "height": 503
        }
      },
      "source": [
        "# Showing the Predicted labels and the Expected labels\n",
        "\n",
        "print(y_pred[:9])\n",
        "print(y_test[:9])"
      ],
      "execution_count": 19,
      "outputs": [
        {
          "output_type": "stream",
          "text": [
            "[[1.05953702e-20 3.96870774e-12 6.21239036e-15 1.64619582e-10\n",
            "  3.35857332e-17 1.57422578e-12 3.80099839e-27 1.00000000e+00\n",
            "  1.62936846e-17 7.47729396e-12]\n",
            " [1.41029819e-08 3.99107442e-10 1.00000000e+00 6.09408759e-16\n",
            "  8.28117783e-11 1.57043535e-19 2.64794285e-12 6.20861651e-17\n",
            "  4.02140987e-14 4.85306824e-18]\n",
            " [3.87067843e-11 9.99999881e-01 1.17802559e-10 2.32455873e-12\n",
            "  3.29943717e-08 5.61477709e-09 9.92999411e-13 1.14063191e-07\n",
            "  1.39344897e-10 1.19606679e-12]\n",
            " [1.00000000e+00 2.04327841e-19 4.12848600e-09 3.66819002e-14\n",
            "  5.89775299e-13 3.08337210e-12 1.97340349e-08 4.38701094e-17\n",
            "  1.15353812e-11 3.40889621e-12]\n",
            " [1.58921116e-15 1.33995027e-16 2.80893351e-18 2.79390798e-18\n",
            "  1.00000000e+00 1.16884591e-16 5.15548086e-15 1.70499891e-17\n",
            "  2.45122146e-13 2.97405954e-11]\n",
            " [9.49767088e-12 9.99999881e-01 3.83392589e-11 6.59995550e-13\n",
            "  1.00938946e-08 8.92287078e-11 5.35284368e-14 1.16562724e-07\n",
            "  1.68063029e-11 8.02335715e-12]\n",
            " [2.46326735e-19 6.39954895e-11 1.81443608e-12 7.02280311e-16\n",
            "  9.99974728e-01 1.02202108e-10 4.53318550e-18 1.28845033e-06\n",
            "  2.16116671e-08 2.39303918e-05]\n",
            " [4.76474471e-10 1.79318993e-15 8.00166322e-11 3.65998667e-14\n",
            "  3.29759882e-06 1.15907159e-08 2.02319613e-14 4.63953043e-11\n",
            "  8.97351029e-08 9.99996543e-01]\n",
            " [2.59915112e-09 4.50641306e-15 4.58073487e-14 6.59417573e-12\n",
            "  9.80903987e-12 9.70606565e-01 2.50288937e-02 4.45597465e-12\n",
            "  4.36446909e-03 1.99288936e-11]]\n",
            "[7 2 1 0 4 1 4 9 5]\n"
          ],
          "name": "stdout"
        }
      ]
    },
    {
      "cell_type": "code",
      "metadata": {
        "id": "CT--y98_dr2T",
        "colab_type": "code",
        "colab": {}
      },
      "source": [
        "layer_dict = dict([(layer.name, layer) for layer in model.layers])"
      ],
      "execution_count": 0,
      "outputs": []
    },
    {
      "cell_type": "code",
      "metadata": {
        "id": "2GY4Upv4dsUR",
        "colab_type": "code",
        "outputId": "b6a2a2dc-9f87-4104-aac8-f1616c38e112",
        "colab": {
          "base_uri": "https://localhost:8080/",
          "height": 761
        }
      },
      "source": [
        "# Visualising kernel at a convolutional layer\n",
        "\n",
        "import numpy as np\n",
        "from matplotlib import pyplot as plt\n",
        "from keras import backend as K\n",
        "%matplotlib inline\n",
        "# util function to convert a tensor into a valid image\n",
        "def deprocess_image(x):\n",
        "    # normalize tensor: center on 0., ensure std is 0.1\n",
        "    x -= x.mean()\n",
        "    x /= (x.std() + 1e-5)\n",
        "    x *= 0.1\n",
        "\n",
        "    # clip to [0, 1]\n",
        "    x += 0.5\n",
        "    x = np.clip(x, 0, 1)\n",
        "\n",
        "    # convert to RGB array\n",
        "    x *= 255\n",
        "    #x = x.transpose((1, 2, 0))\n",
        "    x = np.clip(x, 0, 255).astype('uint8')\n",
        "    return x\n",
        "\n",
        "def vis_img_in_filter(img = np.array(X_train[2]).reshape((1, 28, 28, 1)).astype(np.float64), \n",
        "                      layer_name = 'conv2d_2'):\n",
        "    layer_output = layer_dict[layer_name].output\n",
        "    img_ascs = list()\n",
        "    for filter_index in range(layer_output.shape[3]):\n",
        "        # build a loss function that maximizes the activation\n",
        "        # of the nth filter of the layer considered\n",
        "        loss = K.mean(layer_output[:, :, :, filter_index])\n",
        "\n",
        "        # compute the gradient of the input picture wrt this loss\n",
        "        grads = K.gradients(loss, model.input)[0]\n",
        "\n",
        "        # normalization trick: we normalize the gradient\n",
        "        grads /= (K.sqrt(K.mean(K.square(grads))) + 1e-5)\n",
        "\n",
        "        # this function returns the loss and grads given the input picture\n",
        "        iterate = K.function([model.input], [loss, grads])\n",
        "\n",
        "        # step size for gradient ascent\n",
        "        step = 5.\n",
        "\n",
        "        img_asc = np.array(img)\n",
        "        # run gradient ascent for 20 steps\n",
        "        for i in range(20):\n",
        "            loss_value, grads_value = iterate([img_asc])\n",
        "            img_asc += grads_value * step\n",
        "\n",
        "        img_asc = img_asc[0]\n",
        "        img_ascs.append(deprocess_image(img_asc).reshape((28, 28)))\n",
        "        \n",
        "    if layer_output.shape[3] >= 35:\n",
        "        plot_x, plot_y = 6, 6\n",
        "    elif layer_output.shape[3] >= 23:\n",
        "        plot_x, plot_y = 4, 6\n",
        "    elif layer_output.shape[3] >= 11:\n",
        "        plot_x, plot_y = 2, 6\n",
        "    else:\n",
        "        plot_x, plot_y = 1, 2\n",
        "    fig, ax = plt.subplots(plot_x, plot_y, figsize = (12, 12))\n",
        "    ax[0, 0].imshow(img.reshape((28, 28)), cmap = 'gray')\n",
        "    ax[0, 0].set_title('Input image')\n",
        "    fig.suptitle('Input image and %s filters' % (layer_name,))\n",
        "    fig.tight_layout(pad = 0.3, rect = [0, 0, 0.9, 0.9])\n",
        "    for (x, y) in [(i, j) for i in range(plot_x) for j in range(plot_y)]:\n",
        "        if x == 0 and y == 0:\n",
        "            continue\n",
        "        ax[x, y].imshow(img_ascs[x * plot_y + y - 1], cmap = 'gray')\n",
        "        ax[x, y].set_title('filter %d' % (x * plot_y + y - 1))\n",
        "\n",
        "vis_img_in_filter()"
      ],
      "execution_count": 23,
      "outputs": [
        {
          "output_type": "display_data",
          "data": {
            "image/png": "[encoded data removed]",
            "text/plain": [
              "<Figure size 864x864 with 12 Axes>"
            ]
          },
          "metadata": {
            "tags": []
          }
        }
      ]
    },
    {
      "cell_type": "markdown",
      "metadata": {
        "id": "7GzkdvLG2eKE",
        "colab_type": "text"
      },
      "source": [
        "## Observation:\n",
        "\n",
        "To conclude this networks:\n",
        "- Using layers and tweaking channel numbers we have brought our params count under 15k.\n",
        "- With batch size of 128 in epochs 20, we have achieved 99.09 percent validation accuracy, which is also the maximum among all 20.\n",
        "- This is a set back for us as our validation accuracy has decreased wrt earlier network.\n",
        "- Our epoch time has drastically reduced due to the increase in batch size as the model is looking at more images in a single iteration.\n",
        "- Looking at the difference between the training acc. and the validation acc. we can definitely say that the model is overfitting.\n",
        "- To remedy this we have to again add improvements to our network."
      ]
    }
  ]
}