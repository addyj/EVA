{
  "nbformat": 4,
  "nbformat_minor": 0,
  "metadata": {
    "colab": {
      "name": "Architectural_F4_I3_Assignment4.ipynb",
      "version": "0.3.2",
      "provenance": [],
      "collapsed_sections": []
    },
    "kernelspec": {
      "name": "python3",
      "display_name": "Python 3"
    },
    "accelerator": "GPU"
  },
  "cells": [
    {
      "cell_type": "markdown",
      "metadata": {
        "id": "h9pJ9DRbddAt",
        "colab_type": "text"
      },
      "source": [
        "## Aditya Jindal\n",
        "## Batch M6\n",
        "## Assignment 4\n",
        "## Network with Improvement 3\n",
        "## Architectural Basics 4\n",
        "---\n",
        "### Note: The rescpective code hopefully will be an improvement over our second attempted improved neural network.\n",
        "### Continuing with the old network with\n",
        "- 3x3 Conv2D Layers \n",
        "- Activation Layers\n",
        "- Max Pooling2D Layers\n",
        "- 1x1 Conv2D Layers\n",
        "- SoftMax Layer\n",
        "- BatchNormalization\n",
        "- Inc. Batch\n",
        "- Inc. Epochs\n",
        "\n",
        "### As our final target is with 15k parameter of model and 99.4 validation accuracy. We have to make improvements in such a way that we will be able to achieve it.\n",
        "\n",
        "### Improvements:\n",
        "\n",
        "- Adding Dropouts\n",
        "\n",
        "- Changing Learning rate\n",
        "\n",
        "- Changing optimiser\n",
        "\n",
        "\n"
      ]
    },
    {
      "cell_type": "markdown",
      "metadata": {
        "id": "aNyZv-Ec52ot",
        "colab_type": "text"
      },
      "source": [
        "# **Import Libraries and modules**"
      ]
    },
    {
      "cell_type": "code",
      "metadata": {
        "id": "3m3w1Cw49Zkt",
        "colab_type": "code",
        "outputId": "791ab8e0-1b02-47c7-a520-295310fa1372",
        "colab": {
          "base_uri": "https://localhost:8080/",
          "height": 34
        }
      },
      "source": [
        "#Importing Keras to colab file\n",
        "# https://keras.io/\n",
        "!pip install -q keras\n",
        "import keras"
      ],
      "execution_count": 1,
      "outputs": [
        {
          "output_type": "stream",
          "text": [
            "Using TensorFlow backend.\n"
          ],
          "name": "stderr"
        }
      ]
    },
    {
      "cell_type": "code",
      "metadata": {
        "id": "Eso6UHE080D4",
        "colab_type": "code",
        "colab": {}
      },
      "source": [
        "# Importing all the required libraries from the modules\n",
        "\n",
        "import numpy as np\n",
        "import math\n",
        "from keras.models import Sequential\n",
        "from keras.layers import Activation, Flatten, Input, Dropout\n",
        "from keras.layers import Conv2D, MaxPooling2D, BatchNormalization\n",
        "from keras.utils import np_utils\n",
        "from keras.optimizers import Adam\n",
        "from keras.datasets import mnist\n",
        "from keras.callbacks import *"
      ],
      "execution_count": 0,
      "outputs": []
    },
    {
      "cell_type": "markdown",
      "metadata": {
        "id": "zByEi95J86RD",
        "colab_type": "text"
      },
      "source": [
        "### Load pre-shuffled MNIST data into train and test sets"
      ]
    },
    {
      "cell_type": "code",
      "metadata": {
        "id": "7eRM0QWN83PV",
        "colab_type": "code",
        "outputId": "fe08ad3d-5b9f-4ec4-f1a8-f69875f1e799",
        "colab": {
          "base_uri": "https://localhost:8080/",
          "height": 52
        }
      },
      "source": [
        "# Loading a database of handwritten digits\n",
        "# we get X_train and X_test as array of the grey scale images of the digits with shape\n",
        "# and y_train and y_test as array of the digits labels (i.e. 0-9) with sample number\n",
        "\n",
        "(X_train, y_train), (X_test, y_test) = mnist.load_data()"
      ],
      "execution_count": 3,
      "outputs": [
        {
          "output_type": "stream",
          "text": [
            "Downloading data from https://s3.amazonaws.com/img-datasets/mnist.npz\n",
            "11493376/11490434 [==============================] - 0s 0us/step\n"
          ],
          "name": "stdout"
        }
      ]
    },
    {
      "cell_type": "code",
      "metadata": {
        "id": "4a4Be72j8-ZC",
        "colab_type": "code",
        "outputId": "3e71b2ed-f6af-435c-e3e0-d94d7a747d53",
        "colab": {
          "base_uri": "https://localhost:8080/",
          "height": 304
        }
      },
      "source": [
        "# We print the shape of our dataset array\n",
        "# Also print the first handwritten digit image\n",
        "\n",
        "print (X_train.shape)\n",
        "from matplotlib import pyplot as plt\n",
        "%matplotlib inline\n",
        "plt.imshow(X_train[0])"
      ],
      "execution_count": 4,
      "outputs": [
        {
          "output_type": "stream",
          "text": [
            "(60000, 28, 28)\n"
          ],
          "name": "stdout"
        },
        {
          "output_type": "execute_result",
          "data": {
            "text/plain": [
              "<matplotlib.image.AxesImage at 0x7f206a314080>"
            ]
          },
          "metadata": {
            "tags": []
          },
          "execution_count": 4
        },
        {
          "output_type": "display_data",
          "data": {
            "image/png": "[encoded data removed]",
            "text/plain": [
              "<Figure size 432x288 with 1 Axes>"
            ]
          },
          "metadata": {
            "tags": []
          }
        }
      ]
    },
    {
      "cell_type": "code",
      "metadata": {
        "id": "dkmprriw9AnZ",
        "colab_type": "code",
        "colab": {}
      },
      "source": [
        "# Reshaping the dataset to have one channel for each image present\n",
        "# As images are on greyscale we will have 1 channel instead of 3\n",
        "# For both test and train\n",
        "\n",
        "X_train = X_train.reshape(X_train.shape[0], 28, 28,1)\n",
        "X_test = X_test.reshape(X_test.shape[0], 28, 28,1)"
      ],
      "execution_count": 0,
      "outputs": []
    },
    {
      "cell_type": "code",
      "metadata": {
        "id": "X2m4YS4E9CRh",
        "colab_type": "code",
        "colab": {}
      },
      "source": [
        "# Set/Convert all the pixel values to float data type \n",
        "# Normalizing all pixel values by dividing with 255 so that every value lies btw 0-1\n",
        "\n",
        "X_train = X_train.astype('float32')\n",
        "X_test = X_test.astype('float32')\n",
        "X_train /= 255\n",
        "X_test /= 255"
      ],
      "execution_count": 0,
      "outputs": []
    },
    {
      "cell_type": "code",
      "metadata": {
        "id": "0Mn0vAYD9DvB",
        "colab_type": "code",
        "outputId": "52d19e92-223b-47a9-befa-6d49bc7fbc9c",
        "colab": {
          "base_uri": "https://localhost:8080/",
          "height": 34
        }
      },
      "source": [
        "# This shows first 10 train sample labels\n",
        "\n",
        "y_train[:10]"
      ],
      "execution_count": 7,
      "outputs": [
        {
          "output_type": "execute_result",
          "data": {
            "text/plain": [
              "array([5, 0, 4, 1, 9, 2, 1, 3, 1, 4], dtype=uint8)"
            ]
          },
          "metadata": {
            "tags": []
          },
          "execution_count": 7
        }
      ]
    },
    {
      "cell_type": "code",
      "metadata": {
        "id": "ZG8JiXR39FHC",
        "colab_type": "code",
        "colab": {}
      },
      "source": [
        "# Converted the above 1-dimensional class label arrays to 10-dimensional class matrices\n",
        "# As the test and train labels are not splitted into 10 distinct labels\n",
        "\n",
        "Y_train = np_utils.to_categorical(y_train, 10)\n",
        "Y_test = np_utils.to_categorical(y_test, 10)"
      ],
      "execution_count": 0,
      "outputs": []
    },
    {
      "cell_type": "code",
      "metadata": {
        "id": "fYlFRvKS9HMB",
        "colab_type": "code",
        "outputId": "16e357eb-5447-40d0-e734-71b73c958b78",
        "colab": {
          "base_uri": "https://localhost:8080/",
          "height": 191
        }
      },
      "source": [
        "# Looking at 10-dimensional class matrice\n",
        "# Where the index [ranging from 0-9] of 1 tells the label\n",
        "\n",
        "Y_train[:10]\n"
      ],
      "execution_count": 9,
      "outputs": [
        {
          "output_type": "execute_result",
          "data": {
            "text/plain": [
              "array([[0., 0., 0., 0., 0., 1., 0., 0., 0., 0.],\n",
              "       [1., 0., 0., 0., 0., 0., 0., 0., 0., 0.],\n",
              "       [0., 0., 0., 0., 1., 0., 0., 0., 0., 0.],\n",
              "       [0., 1., 0., 0., 0., 0., 0., 0., 0., 0.],\n",
              "       [0., 0., 0., 0., 0., 0., 0., 0., 0., 1.],\n",
              "       [0., 0., 1., 0., 0., 0., 0., 0., 0., 0.],\n",
              "       [0., 1., 0., 0., 0., 0., 0., 0., 0., 0.],\n",
              "       [0., 0., 0., 1., 0., 0., 0., 0., 0., 0.],\n",
              "       [0., 1., 0., 0., 0., 0., 0., 0., 0., 0.],\n",
              "       [0., 0., 0., 0., 1., 0., 0., 0., 0., 0.]], dtype=float32)"
            ]
          },
          "metadata": {
            "tags": []
          },
          "execution_count": 9
        }
      ]
    },
    {
      "cell_type": "code",
      "metadata": {
        "id": "osKqT73Q9JJB",
        "colab_type": "code",
        "outputId": "23704a9a-811c-4925-abf0-e080bdd1d266",
        "colab": {
          "base_uri": "https://localhost:8080/",
          "height": 141
        }
      },
      "source": [
        "# Declaring a sequential model and its layers \n",
        "# Using Relu activation and 2D convolution with 3x3 kernel\n",
        "# We flatten the last layer output to get 10 activations respective to 10 class labels we want to predict\n",
        "# Using softmax to get a probability like value , so that we cant have a disticnt difference btw predictions\n",
        "# Calling summary to see rendered model info\n",
        "\n",
        "model = Sequential() \n",
        "\n",
        "model.add(Conv2D(10,(3, 3), activation='relu', input_shape=(28,28,1)))\n",
        "model.add(Dropout(0.1))         #IMPV\n",
        "# Input Channel Dim = (28x28x1)\n",
        "# RF = 3\n",
        "\n",
        "model.add(BatchNormalization()) \n",
        "model.add(Conv2D(16,(3, 3), activation='relu'))\n",
        "model.add(Dropout(0.1))         #IMPV\n",
        "# Input Channel Dim = (26x26x10)\n",
        "# RF = 5\n",
        "\n",
        "model.add(BatchNormalization()) \n",
        "model.add(Conv2D(24,(3, 3), activation='relu')) \n",
        "model.add(Dropout(0.1))         #IMPV\n",
        "# Input Channel Dim = (24x24x16)\n",
        "# RF = 7\n",
        "\n",
        "model.add(BatchNormalization()) \n",
        "model.add(MaxPooling2D(pool_size=(2, 2))) \n",
        "# Input Channel Dim = (22x22x24)\n",
        "# RF = 14\n",
        "\n",
        "model.add(Conv2D(10,(1, 1), activation='relu')) \n",
        "# Input Channel Dim = (11x11x24)\n",
        "# RF = 14\n",
        "\n",
        "model.add(BatchNormalization()) \n",
        "model.add(Conv2D(10,(3, 3), activation='relu')) \n",
        "model.add(Dropout(0.1))         #IMPV\n",
        "# Input Channel Dim = (11x11x10)\n",
        "# RF = 16\n",
        "\n",
        "model.add(BatchNormalization())\n",
        "model.add(Conv2D(16,(3, 3), activation='relu')) \n",
        "model.add(Dropout(0.1))         #IMPV\n",
        "# Input Channel Dim = (9x9x10)\n",
        "# RF = 18\n",
        "\n",
        "model.add(BatchNormalization())\n",
        "model.add(Conv2D(16,(3, 3), activation='relu')) \n",
        "model.add(Dropout(0.1))         #IMPV\n",
        "# Input Channel Dim = (7x7x16)\n",
        "# RF = 20\n",
        "\n",
        "model.add(Conv2D(10,(5, 5)))\n",
        "# Input Channel Dim = (5x5x16)\n",
        "# RF = 24\n",
        "\n",
        "model.add(Flatten())\n",
        "# Input Channel Dim = (1x1x10)\n",
        "\n",
        "model.add(Activation('softmax'))\n",
        "# Input Channel Dim = (,10)\n"
      ],
      "execution_count": 10,
      "outputs": [
        {
          "output_type": "stream",
          "text": [
            "WARNING:tensorflow:From /usr/local/lib/python3.6/dist-packages/tensorflow/python/framework/op_def_library.py:263: colocate_with (from tensorflow.python.framework.ops) is deprecated and will be removed in a future version.\n",
            "Instructions for updating:\n",
            "Colocations handled automatically by placer.\n",
            "WARNING:tensorflow:From /usr/local/lib/python3.6/dist-packages/keras/backend/tensorflow_backend.py:3445: calling dropout (from tensorflow.python.ops.nn_ops) with keep_prob is deprecated and will be removed in a future version.\n",
            "Instructions for updating:\n",
            "Please use `rate` instead of `keep_prob`. Rate should be set to `rate = 1 - keep_prob`.\n"
          ],
          "name": "stdout"
        }
      ]
    },
    {
      "cell_type": "code",
      "metadata": {
        "id": "TzdAYg1k9K7Z",
        "colab_type": "code",
        "outputId": "e6cda148-1ba8-45b6-ea39-3d108d4da45e",
        "colab": {
          "base_uri": "https://localhost:8080/",
          "height": 937
        }
      },
      "source": [
        "model.summary()"
      ],
      "execution_count": 11,
      "outputs": [
        {
          "output_type": "stream",
          "text": [
            "_________________________________________________________________\n",
            "Layer (type)                 Output Shape              Param #   \n",
            "=================================================================\n",
            "conv2d_1 (Conv2D)            (None, 26, 26, 10)        100       \n",
            "_________________________________________________________________\n",
            "dropout_1 (Dropout)          (None, 26, 26, 10)        0         \n",
            "_________________________________________________________________\n",
            "batch_normalization_1 (Batch (None, 26, 26, 10)        40        \n",
            "_________________________________________________________________\n",
            "conv2d_2 (Conv2D)            (None, 24, 24, 16)        1456      \n",
            "_________________________________________________________________\n",
            "dropout_2 (Dropout)          (None, 24, 24, 16)        0         \n",
            "_________________________________________________________________\n",
            "batch_normalization_2 (Batch (None, 24, 24, 16)        64        \n",
            "_________________________________________________________________\n",
            "conv2d_3 (Conv2D)            (None, 22, 22, 24)        3480      \n",
            "_________________________________________________________________\n",
            "dropout_3 (Dropout)          (None, 22, 22, 24)        0         \n",
            "_________________________________________________________________\n",
            "batch_normalization_3 (Batch (None, 22, 22, 24)        96        \n",
            "_________________________________________________________________\n",
            "max_pooling2d_1 (MaxPooling2 (None, 11, 11, 24)        0         \n",
            "_________________________________________________________________\n",
            "conv2d_4 (Conv2D)            (None, 11, 11, 10)        250       \n",
            "_________________________________________________________________\n",
            "batch_normalization_4 (Batch (None, 11, 11, 10)        40        \n",
            "_________________________________________________________________\n",
            "conv2d_5 (Conv2D)            (None, 9, 9, 10)          910       \n",
            "_________________________________________________________________\n",
            "dropout_4 (Dropout)          (None, 9, 9, 10)          0         \n",
            "_________________________________________________________________\n",
            "batch_normalization_5 (Batch (None, 9, 9, 10)          40        \n",
            "_________________________________________________________________\n",
            "conv2d_6 (Conv2D)            (None, 7, 7, 16)          1456      \n",
            "_________________________________________________________________\n",
            "dropout_5 (Dropout)          (None, 7, 7, 16)          0         \n",
            "_________________________________________________________________\n",
            "batch_normalization_6 (Batch (None, 7, 7, 16)          64        \n",
            "_________________________________________________________________\n",
            "conv2d_7 (Conv2D)            (None, 5, 5, 16)          2320      \n",
            "_________________________________________________________________\n",
            "dropout_6 (Dropout)          (None, 5, 5, 16)          0         \n",
            "_________________________________________________________________\n",
            "conv2d_8 (Conv2D)            (None, 1, 1, 10)          4010      \n",
            "_________________________________________________________________\n",
            "flatten_1 (Flatten)          (None, 10)                0         \n",
            "_________________________________________________________________\n",
            "activation_1 (Activation)    (None, 10)                0         \n",
            "=================================================================\n",
            "Total params: 14,326\n",
            "Trainable params: 14,154\n",
            "Non-trainable params: 172\n",
            "_________________________________________________________________\n"
          ],
          "name": "stdout"
        }
      ]
    },
    {
      "cell_type": "code",
      "metadata": {
        "id": "Zp6SuGrL9M3h",
        "colab_type": "code",
        "colab": {}
      },
      "source": [
        "# Compiling the model with particular loss function, optimiser\n",
        "\n",
        "model.compile(loss='categorical_crossentropy',\n",
        "              optimizer=Adam(lr=0.01),\n",
        "              metrics=['accuracy'])\n",
        "\n",
        "# Changing Learning rate based on monitored quantity\n",
        "reduce_lr = ReduceLROnPlateau(monitor='val_acc', factor=0.001, patience=3, verbose=1, \n",
        "             mode='max', min_delta=0.0001, min_lr=0.0001)"
      ],
      "execution_count": 0,
      "outputs": []
    },
    {
      "cell_type": "code",
      "metadata": {
        "id": "4xWoKhPY9Of5",
        "colab_type": "code",
        "outputId": "effd5818-7ed2-48b2-a85f-f217e8bd9db7",
        "colab": {
          "base_uri": "https://localhost:8080/",
          "height": 1201
        }
      },
      "source": [
        "# Train the model with a batch size and epoch number on train data\n",
        "\n",
        "model.fit(X_train, Y_train, batch_size=128, epochs = 30, verbose=1, validation_data=(X_test, Y_test), callbacks = [reduce_lr])\n"
      ],
      "execution_count": 13,
      "outputs": [
        {
          "output_type": "stream",
          "text": [
            "WARNING:tensorflow:From /usr/local/lib/python3.6/dist-packages/tensorflow/python/ops/math_ops.py:3066: to_int32 (from tensorflow.python.ops.math_ops) is deprecated and will be removed in a future version.\n",
            "Instructions for updating:\n",
            "Use tf.cast instead.\n",
            "Train on 60000 samples, validate on 10000 samples\n",
            "Epoch 1/30\n",
            "60000/60000 [==============================] - 11s 186us/step - loss: 0.1604 - acc: 0.9503 - val_loss: 0.0589 - val_acc: 0.9815\n",
            "Epoch 2/30\n",
            "60000/60000 [==============================] - 7s 118us/step - loss: 0.0693 - acc: 0.9785 - val_loss: 0.0497 - val_acc: 0.9850\n",
            "Epoch 3/30\n",
            "60000/60000 [==============================] - 7s 117us/step - loss: 0.0570 - acc: 0.9827 - val_loss: 0.0604 - val_acc: 0.9819\n",
            "Epoch 4/30\n",
            "60000/60000 [==============================] - 7s 117us/step - loss: 0.0524 - acc: 0.9837 - val_loss: 0.0430 - val_acc: 0.9871\n",
            "Epoch 5/30\n",
            "60000/60000 [==============================] - 7s 117us/step - loss: 0.0488 - acc: 0.9846 - val_loss: 0.0397 - val_acc: 0.9875\n",
            "Epoch 6/30\n",
            "60000/60000 [==============================] - 7s 124us/step - loss: 0.0480 - acc: 0.9856 - val_loss: 0.0449 - val_acc: 0.9881\n",
            "Epoch 7/30\n",
            "60000/60000 [==============================] - 7s 125us/step - loss: 0.0477 - acc: 0.9859 - val_loss: 0.0418 - val_acc: 0.9874\n",
            "Epoch 8/30\n",
            "60000/60000 [==============================] - 7s 117us/step - loss: 0.0423 - acc: 0.9873 - val_loss: 0.0356 - val_acc: 0.9892\n",
            "Epoch 9/30\n",
            "60000/60000 [==============================] - 7s 117us/step - loss: 0.0448 - acc: 0.9864 - val_loss: 0.0435 - val_acc: 0.9876\n",
            "Epoch 10/30\n",
            "60000/60000 [==============================] - 7s 119us/step - loss: 0.0451 - acc: 0.9864 - val_loss: 0.0519 - val_acc: 0.9872\n",
            "Epoch 11/30\n",
            "60000/60000 [==============================] - 7s 124us/step - loss: 0.0453 - acc: 0.9868 - val_loss: 0.0345 - val_acc: 0.9901\n",
            "Epoch 12/30\n",
            "60000/60000 [==============================] - 7s 118us/step - loss: 0.0435 - acc: 0.9870 - val_loss: 0.0320 - val_acc: 0.9894\n",
            "Epoch 13/30\n",
            "60000/60000 [==============================] - 7s 117us/step - loss: 0.0415 - acc: 0.9876 - val_loss: 0.0501 - val_acc: 0.9865\n",
            "Epoch 14/30\n",
            "60000/60000 [==============================] - 7s 117us/step - loss: 0.0420 - acc: 0.9880 - val_loss: 0.0357 - val_acc: 0.9887\n",
            "\n",
            "Epoch 00014: ReduceLROnPlateau reducing learning rate to 0.0001.\n",
            "Epoch 15/30\n",
            "60000/60000 [==============================] - 7s 117us/step - loss: 0.0298 - acc: 0.9906 - val_loss: 0.0276 - val_acc: 0.9911\n",
            "Epoch 16/30\n",
            "60000/60000 [==============================] - 7s 118us/step - loss: 0.0250 - acc: 0.9920 - val_loss: 0.0261 - val_acc: 0.9926\n",
            "Epoch 17/30\n",
            "60000/60000 [==============================] - 7s 118us/step - loss: 0.0231 - acc: 0.9926 - val_loss: 0.0245 - val_acc: 0.9932\n",
            "Epoch 18/30\n",
            "60000/60000 [==============================] - 7s 117us/step - loss: 0.0216 - acc: 0.9932 - val_loss: 0.0237 - val_acc: 0.9938\n",
            "Epoch 19/30\n",
            "60000/60000 [==============================] - 7s 118us/step - loss: 0.0200 - acc: 0.9937 - val_loss: 0.0230 - val_acc: 0.9938\n",
            "Epoch 20/30\n",
            "60000/60000 [==============================] - 7s 117us/step - loss: 0.0194 - acc: 0.9937 - val_loss: 0.0226 - val_acc: 0.9939\n",
            "Epoch 21/30\n",
            "60000/60000 [==============================] - 7s 116us/step - loss: 0.0188 - acc: 0.9939 - val_loss: 0.0221 - val_acc: 0.9940\n",
            "Epoch 22/30\n",
            "60000/60000 [==============================] - 7s 123us/step - loss: 0.0180 - acc: 0.9941 - val_loss: 0.0218 - val_acc: 0.9943\n",
            "Epoch 23/30\n",
            "60000/60000 [==============================] - 7s 120us/step - loss: 0.0194 - acc: 0.9938 - val_loss: 0.0214 - val_acc: 0.9944\n",
            "Epoch 24/30\n",
            "60000/60000 [==============================] - 7s 116us/step - loss: 0.0176 - acc: 0.9944 - val_loss: 0.0212 - val_acc: 0.9942\n",
            "Epoch 25/30\n",
            "60000/60000 [==============================] - 7s 117us/step - loss: 0.0178 - acc: 0.9944 - val_loss: 0.0212 - val_acc: 0.9943\n",
            "Epoch 26/30\n",
            "60000/60000 [==============================] - 7s 117us/step - loss: 0.0182 - acc: 0.9941 - val_loss: 0.0208 - val_acc: 0.9944\n",
            "Epoch 27/30\n",
            "60000/60000 [==============================] - 7s 116us/step - loss: 0.0164 - acc: 0.9950 - val_loss: 0.0209 - val_acc: 0.9945\n",
            "Epoch 28/30\n",
            "60000/60000 [==============================] - 7s 117us/step - loss: 0.0159 - acc: 0.9948 - val_loss: 0.0206 - val_acc: 0.9944\n",
            "Epoch 29/30\n",
            "60000/60000 [==============================] - 7s 117us/step - loss: 0.0164 - acc: 0.9950 - val_loss: 0.0206 - val_acc: 0.9943\n",
            "Epoch 30/30\n",
            "60000/60000 [==============================] - 7s 117us/step - loss: 0.0161 - acc: 0.9947 - val_loss: 0.0208 - val_acc: 0.9945\n"
          ],
          "name": "stdout"
        },
        {
          "output_type": "execute_result",
          "data": {
            "text/plain": [
              "<keras.callbacks.History at 0x7f2067af13c8>"
            ]
          },
          "metadata": {
            "tags": []
          },
          "execution_count": 13
        }
      ]
    },
    {
      "cell_type": "code",
      "metadata": {
        "id": "AtsH-lLk-eLb",
        "colab_type": "code",
        "colab": {}
      },
      "source": [
        "# Evaluating the same model on test data to see how well it performs\n",
        "\n",
        "score = model.evaluate(X_test, Y_test, verbose=0)"
      ],
      "execution_count": 0,
      "outputs": []
    },
    {
      "cell_type": "code",
      "metadata": {
        "id": "mkX8JMv79q9r",
        "colab_type": "code",
        "outputId": "fa8d346a-c334-4387-b464-08cef548277e",
        "colab": {
          "base_uri": "https://localhost:8080/",
          "height": 34
        }
      },
      "source": [
        "print(score)"
      ],
      "execution_count": 15,
      "outputs": [
        {
          "output_type": "stream",
          "text": [
            "[0.020810531074975734, 0.9945]\n"
          ],
          "name": "stdout"
        }
      ]
    },
    {
      "cell_type": "code",
      "metadata": {
        "id": "OCWoJkwE9suh",
        "colab_type": "code",
        "colab": {}
      },
      "source": [
        "# Calculating the 10-dimensional class matrix for lables wrt. test data\n",
        "\n",
        "y_pred = model.predict(X_test)"
      ],
      "execution_count": 0,
      "outputs": []
    },
    {
      "cell_type": "code",
      "metadata": {
        "id": "Ym7iCFBm9uBs",
        "colab_type": "code",
        "outputId": "2a998307-636b-4bbf-f94d-1eb8e3d960c3",
        "colab": {
          "base_uri": "https://localhost:8080/",
          "height": 367
        }
      },
      "source": [
        "# Showing the Predicted labels and the Expected labels\n",
        "\n",
        "print(y_pred[:9])\n",
        "print(y_test[:9])"
      ],
      "execution_count": 17,
      "outputs": [
        {
          "output_type": "stream",
          "text": [
            "[[4.0513005e-12 3.3553276e-13 3.8275987e-11 4.7313237e-11 3.2239751e-17\n",
            "  2.4112957e-13 2.6471848e-20 1.0000000e+00 2.9930745e-13 7.2991497e-09]\n",
            " [1.8360896e-10 3.5712869e-08 1.0000000e+00 5.9224151e-14 5.2483755e-12\n",
            "  9.7843710e-19 1.6640275e-08 1.8234077e-13 3.8058714e-13 5.5439034e-17]\n",
            " [1.7727799e-13 1.0000000e+00 7.6026030e-10 4.9510817e-14 1.9409789e-08\n",
            "  3.3154294e-08 1.6538340e-10 1.1790064e-09 3.7626066e-10 7.0730602e-11]\n",
            " [9.9999642e-01 1.8688085e-16 7.1106288e-10 2.4308226e-11 3.1674104e-11\n",
            "  3.4361022e-10 3.6114664e-06 2.2303791e-12 9.9309458e-09 2.4313595e-08]\n",
            " [2.1923031e-17 4.4727399e-14 5.7252515e-14 1.2954184e-16 9.9999952e-01\n",
            "  8.8806907e-15 4.8493518e-12 1.7471223e-14 5.7800438e-11 4.6320463e-07]\n",
            " [5.3263877e-13 1.0000000e+00 4.6751880e-10 5.0675241e-15 1.3462834e-08\n",
            "  4.6699142e-09 4.9077083e-11 1.3372666e-09 4.9790755e-10 4.3722720e-11]\n",
            " [5.3006438e-20 1.4453053e-10 4.8769239e-10 5.7592328e-15 9.9999940e-01\n",
            "  2.7531596e-13 9.4142100e-17 4.4689326e-08 5.2380494e-07 6.6764805e-08]\n",
            " [4.1257271e-12 1.5942339e-11 8.8589752e-12 8.1633610e-11 3.1546399e-05\n",
            "  1.7438886e-10 1.0232282e-09 2.2058289e-09 1.5881037e-07 9.9996829e-01]\n",
            " [1.9145935e-07 1.2017666e-11 2.3107348e-10 4.2811674e-08 6.5315781e-11\n",
            "  9.8663425e-01 1.3044590e-02 4.6390730e-10 3.1767887e-04 3.3313004e-06]]\n",
            "[7 2 1 0 4 1 4 9 5]\n"
          ],
          "name": "stdout"
        }
      ]
    },
    {
      "cell_type": "code",
      "metadata": {
        "id": "CT--y98_dr2T",
        "colab_type": "code",
        "colab": {}
      },
      "source": [
        "layer_dict = dict([(layer.name, layer) for layer in model.layers])"
      ],
      "execution_count": 0,
      "outputs": []
    },
    {
      "cell_type": "code",
      "metadata": {
        "id": "2GY4Upv4dsUR",
        "colab_type": "code",
        "outputId": "c7fd1116-57fd-4048-9d7d-e52b324cdda9",
        "colab": {
          "base_uri": "https://localhost:8080/",
          "height": 761
        }
      },
      "source": [
        "# Visualising kernel at a convolutional layer\n",
        "\n",
        "import numpy as np\n",
        "from matplotlib import pyplot as plt\n",
        "from keras import backend as K\n",
        "%matplotlib inline\n",
        "# util function to convert a tensor into a valid image\n",
        "def deprocess_image(x):\n",
        "    # normalize tensor: center on 0., ensure std is 0.1\n",
        "    x -= x.mean()\n",
        "    x /= (x.std() + 1e-5)\n",
        "    x *= 0.1\n",
        "\n",
        "    # clip to [0, 1]\n",
        "    x += 0.5\n",
        "    x = np.clip(x, 0, 1)\n",
        "\n",
        "    # convert to RGB array\n",
        "    x *= 255\n",
        "    #x = x.transpose((1, 2, 0))\n",
        "    x = np.clip(x, 0, 255).astype('uint8')\n",
        "    return x\n",
        "\n",
        "def vis_img_in_filter(img = np.array(X_train[2]).reshape((1, 28, 28, 1)).astype(np.float64), \n",
        "                      layer_name = 'conv2d_2'):\n",
        "    layer_output = layer_dict[layer_name].output\n",
        "    img_ascs = list()\n",
        "    for filter_index in range(layer_output.shape[3]):\n",
        "        # build a loss function that maximizes the activation\n",
        "        # of the nth filter of the layer considered\n",
        "        loss = K.mean(layer_output[:, :, :, filter_index])\n",
        "\n",
        "        # compute the gradient of the input picture wrt this loss\n",
        "        grads = K.gradients(loss, model.input)[0]\n",
        "\n",
        "        # normalization trick: we normalize the gradient\n",
        "        grads /= (K.sqrt(K.mean(K.square(grads))) + 1e-5)\n",
        "\n",
        "        # this function returns the loss and grads given the input picture\n",
        "        iterate = K.function([model.input], [loss, grads])\n",
        "\n",
        "        # step size for gradient ascent\n",
        "        step = 5.\n",
        "\n",
        "        img_asc = np.array(img)\n",
        "        # run gradient ascent for 20 steps\n",
        "        for i in range(20):\n",
        "            loss_value, grads_value = iterate([img_asc])\n",
        "            img_asc += grads_value * step\n",
        "\n",
        "        img_asc = img_asc[0]\n",
        "        img_ascs.append(deprocess_image(img_asc).reshape((28, 28)))\n",
        "        \n",
        "    if layer_output.shape[3] >= 35:\n",
        "        plot_x, plot_y = 6, 6\n",
        "    elif layer_output.shape[3] >= 23:\n",
        "        plot_x, plot_y = 4, 6\n",
        "    elif layer_output.shape[3] >= 11:\n",
        "        plot_x, plot_y = 2, 6\n",
        "    else:\n",
        "        plot_x, plot_y = 1, 2\n",
        "    fig, ax = plt.subplots(plot_x, plot_y, figsize = (12, 12))\n",
        "    ax[0, 0].imshow(img.reshape((28, 28)), cmap = 'gray')\n",
        "    ax[0, 0].set_title('Input image')\n",
        "    fig.suptitle('Input image and %s filters' % (layer_name,))\n",
        "    fig.tight_layout(pad = 0.3, rect = [0, 0, 0.9, 0.9])\n",
        "    for (x, y) in [(i, j) for i in range(plot_x) for j in range(plot_y)]:\n",
        "        if x == 0 and y == 0:\n",
        "            continue\n",
        "        ax[x, y].imshow(img_ascs[x * plot_y + y - 1], cmap = 'gray')\n",
        "        ax[x, y].set_title('filter %d' % (x * plot_y + y - 1))\n",
        "\n",
        "vis_img_in_filter()"
      ],
      "execution_count": 19,
      "outputs": [
        {
          "output_type": "display_data",
          "data": {
            "image/png": "[encoded data removed]",
            "text/plain": [
              "<Figure size 864x864 with 12 Axes>"
            ]
          },
          "metadata": {
            "tags": []
          }
        }
      ]
    },
    {
      "cell_type": "markdown",
      "metadata": {
        "id": "7GzkdvLG2eKE",
        "colab_type": "text"
      },
      "source": [
        "## Observation:\n",
        "\n",
        "To conclude this networks:\n",
        "- With batch size of 128 in epochs 30, we have achieved 99.45 percent validation accuracy, which is also the maximum among all 30.\n",
        "- Dropout helped us in reducing the overfitting gap.\n",
        "- The Learning rate defined is not proper but still with lr = 0.0001 has helped us.  \n",
        "- Using different techniques learned we have achieved our target.\n",
        "- Looking at the difference between the training acc. and the validation acc. we can definitely say that the model is  not overfitting now."
      ]
    }
  ]
}