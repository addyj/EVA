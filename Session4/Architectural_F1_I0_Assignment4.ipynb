{
  "nbformat": 4,
  "nbformat_minor": 0,
  "metadata": {
    "colab": {
      "name": "Architectural_F1_I0_Assignment4.ipynb",
      "version": "0.3.2",
      "provenance": [],
      "collapsed_sections": []
    },
    "kernelspec": {
      "name": "python3",
      "display_name": "Python 3"
    },
    "accelerator": "GPU"
  },
  "cells": [
    {
      "cell_type": "markdown",
      "metadata": {
        "id": "h9pJ9DRbddAt",
        "colab_type": "text"
      },
      "source": [
        "## Aditya Jindal\n",
        "## Batch M6\n",
        "## Assignment 4\n",
        "## Vanilla Network\n",
        "## Architectural Basics 1\n",
        "---\n",
        "### Note: The rescpective code is to get a hang of how to build a basic neural network and the train on it.\n",
        "### In this particular network we will make use of \n",
        "- 3x3 Conv2D Layers \n",
        "- Activation Layers\n",
        "- Max Pooling2D Layers\n",
        "- 1x1 Conv2D Layers\n",
        "- SoftMax Layer\n",
        "\n"
      ]
    },
    {
      "cell_type": "markdown",
      "metadata": {
        "id": "aNyZv-Ec52ot",
        "colab_type": "text"
      },
      "source": [
        "# **Import Libraries and modules**"
      ]
    },
    {
      "cell_type": "code",
      "metadata": {
        "id": "3m3w1Cw49Zkt",
        "colab_type": "code",
        "outputId": "d6f66a91-6e68-4182-fdd9-b11b58b96ce4",
        "colab": {
          "base_uri": "https://localhost:8080/",
          "height": 34
        }
      },
      "source": [
        "#Importing Keras to colab file\n",
        "# https://keras.io/\n",
        "!pip install -q keras\n",
        "import keras"
      ],
      "execution_count": 1,
      "outputs": [
        {
          "output_type": "stream",
          "text": [
            "Using TensorFlow backend.\n"
          ],
          "name": "stderr"
        }
      ]
    },
    {
      "cell_type": "code",
      "metadata": {
        "id": "Eso6UHE080D4",
        "colab_type": "code",
        "colab": {}
      },
      "source": [
        "# Importing all the required libraries from the modules\n",
        "\n",
        "import numpy as np\n",
        "import math\n",
        "from keras.models import Sequential\n",
        "from keras.layers import Activation, Flatten, Input\n",
        "from keras.layers import Conv2D, MaxPooling2D \n",
        "from keras.utils import np_utils\n",
        "from keras.optimizers import Adam\n",
        "from keras.datasets import mnist\n",
        "from keras.callbacks import *"
      ],
      "execution_count": 0,
      "outputs": []
    },
    {
      "cell_type": "markdown",
      "metadata": {
        "id": "zByEi95J86RD",
        "colab_type": "text"
      },
      "source": [
        "### Load pre-shuffled MNIST data into train and test sets"
      ]
    },
    {
      "cell_type": "code",
      "metadata": {
        "id": "7eRM0QWN83PV",
        "colab_type": "code",
        "outputId": "656b64ad-fd74-4320-894c-178b95e5023c",
        "colab": {
          "base_uri": "https://localhost:8080/",
          "height": 52
        }
      },
      "source": [
        "# Loading a database of handwritten digits\n",
        "# we get X_train and X_test as array of the grey scale images of the digits with shape\n",
        "# and y_train and y_test as array of the digits labels (i.e. 0-9) with sample number\n",
        "\n",
        "(X_train, y_train), (X_test, y_test) = mnist.load_data()"
      ],
      "execution_count": 3,
      "outputs": [
        {
          "output_type": "stream",
          "text": [
            "Downloading data from https://s3.amazonaws.com/img-datasets/mnist.npz\n",
            "11493376/11490434 [==============================] - 0s 0us/step\n"
          ],
          "name": "stdout"
        }
      ]
    },
    {
      "cell_type": "code",
      "metadata": {
        "id": "4a4Be72j8-ZC",
        "colab_type": "code",
        "outputId": "c072dcae-4a6c-461f-8347-91218e217214",
        "colab": {
          "base_uri": "https://localhost:8080/",
          "height": 304
        }
      },
      "source": [
        "# We print the shape of our dataset array\n",
        "# Also print the first handwritten digit image\n",
        "\n",
        "print (X_train.shape)\n",
        "from matplotlib import pyplot as plt\n",
        "%matplotlib inline\n",
        "plt.imshow(X_train[0])"
      ],
      "execution_count": 4,
      "outputs": [
        {
          "output_type": "stream",
          "text": [
            "(60000, 28, 28)\n"
          ],
          "name": "stdout"
        },
        {
          "output_type": "execute_result",
          "data": {
            "text/plain": [
              "<matplotlib.image.AxesImage at 0x7ff2e966d080>"
            ]
          },
          "metadata": {
            "tags": []
          },
          "execution_count": 4
        },
        {
          "output_type": "display_data",
          "data": {
            "image/png": "[encoded data removed]",
            "text/plain": [
              "<Figure size 432x288 with 1 Axes>"
            ]
          },
          "metadata": {
            "tags": []
          }
        }
      ]
    },
    {
      "cell_type": "code",
      "metadata": {
        "id": "dkmprriw9AnZ",
        "colab_type": "code",
        "colab": {}
      },
      "source": [
        "# Reshaping the dataset to have one channel for each image present\n",
        "# As images are on greyscale we will have 1 channel instead of 3\n",
        "# For both test and train\n",
        "\n",
        "X_train = X_train.reshape(X_train.shape[0], 28, 28,1)\n",
        "X_test = X_test.reshape(X_test.shape[0], 28, 28,1)"
      ],
      "execution_count": 0,
      "outputs": []
    },
    {
      "cell_type": "code",
      "metadata": {
        "id": "X2m4YS4E9CRh",
        "colab_type": "code",
        "colab": {}
      },
      "source": [
        "# Set/Convert all the pixel values to float data type \n",
        "# Normalizing all pixel values by dividing with 255 so that every value lies btw 0-1\n",
        "\n",
        "X_train = X_train.astype('float32')\n",
        "X_test = X_test.astype('float32')\n",
        "X_train /= 255\n",
        "X_test /= 255"
      ],
      "execution_count": 0,
      "outputs": []
    },
    {
      "cell_type": "code",
      "metadata": {
        "id": "0Mn0vAYD9DvB",
        "colab_type": "code",
        "outputId": "21de1cc7-c2d1-433b-ec73-784bb8cc1687",
        "colab": {
          "base_uri": "https://localhost:8080/",
          "height": 34
        }
      },
      "source": [
        "# This shows first 10 train sample labels\n",
        "\n",
        "y_train[:10]"
      ],
      "execution_count": 7,
      "outputs": [
        {
          "output_type": "execute_result",
          "data": {
            "text/plain": [
              "array([5, 0, 4, 1, 9, 2, 1, 3, 1, 4], dtype=uint8)"
            ]
          },
          "metadata": {
            "tags": []
          },
          "execution_count": 7
        }
      ]
    },
    {
      "cell_type": "code",
      "metadata": {
        "id": "ZG8JiXR39FHC",
        "colab_type": "code",
        "colab": {}
      },
      "source": [
        "# Converted the above 1-dimensional class label arrays to 10-dimensional class matrices\n",
        "# As the test and train labels are not splitted into 10 distinct labels\n",
        "\n",
        "Y_train = np_utils.to_categorical(y_train, 10)\n",
        "Y_test = np_utils.to_categorical(y_test, 10)"
      ],
      "execution_count": 0,
      "outputs": []
    },
    {
      "cell_type": "code",
      "metadata": {
        "id": "fYlFRvKS9HMB",
        "colab_type": "code",
        "outputId": "3619d095-78a2-4df3-ebf0-16ec30118df9",
        "colab": {
          "base_uri": "https://localhost:8080/",
          "height": 191
        }
      },
      "source": [
        "# Looking at 10-dimensional class matrice\n",
        "# Where the index [ranging from 0-9] of 1 tells the label\n",
        "\n",
        "Y_train[:10]\n"
      ],
      "execution_count": 9,
      "outputs": [
        {
          "output_type": "execute_result",
          "data": {
            "text/plain": [
              "array([[0., 0., 0., 0., 0., 1., 0., 0., 0., 0.],\n",
              "       [1., 0., 0., 0., 0., 0., 0., 0., 0., 0.],\n",
              "       [0., 0., 0., 0., 1., 0., 0., 0., 0., 0.],\n",
              "       [0., 1., 0., 0., 0., 0., 0., 0., 0., 0.],\n",
              "       [0., 0., 0., 0., 0., 0., 0., 0., 0., 1.],\n",
              "       [0., 0., 1., 0., 0., 0., 0., 0., 0., 0.],\n",
              "       [0., 1., 0., 0., 0., 0., 0., 0., 0., 0.],\n",
              "       [0., 0., 0., 1., 0., 0., 0., 0., 0., 0.],\n",
              "       [0., 1., 0., 0., 0., 0., 0., 0., 0., 0.],\n",
              "       [0., 0., 0., 0., 1., 0., 0., 0., 0., 0.]], dtype=float32)"
            ]
          },
          "metadata": {
            "tags": []
          },
          "execution_count": 9
        }
      ]
    },
    {
      "cell_type": "code",
      "metadata": {
        "id": "osKqT73Q9JJB",
        "colab_type": "code",
        "outputId": "d900770d-f710-448a-8b96-ee370405b483",
        "colab": {
          "base_uri": "https://localhost:8080/",
          "height": 89
        }
      },
      "source": [
        "# Declaring a sequential model and its layers \n",
        "# Using Relu activation and 2D convolution with 3x3 kernel\n",
        "# We flatten the last layer output to get 10 activations respective to 10 class labels we want to predict\n",
        "# Using softmax to get a probability like value , so that we cant have a disticnt difference btw predictions\n",
        "# Calling summary to see rendered model info\n",
        "\n",
        "model = Sequential() \n",
        "model.add(Conv2D(16,(3, 3), activation='relu', input_shape=(28,28,1)))\n",
        "# Input Channel Dim = (28x28x1)\n",
        "# RF = 3\n",
        "\n",
        "model.add(Conv2D(32,(3, 3), activation='relu')) \n",
        "# Input Channel Dim = (26x26x16)\n",
        "# RF = 5\n",
        "\n",
        "model.add(Conv2D(64,(3, 3), activation='relu')) \n",
        "# Input Channel Dim = (24x24x32)\n",
        "# RF = 7\n",
        "\n",
        "model.add(MaxPooling2D(pool_size=(2, 2))) \n",
        "# Input Channel Dim = (22x22x64)\n",
        "# RF = 14\n",
        "\n",
        "model.add(Conv2D(16,(1, 1), activation='relu')) \n",
        "# Input Channel Dim = (11x11x64)\n",
        "# RF = 14\n",
        "\n",
        "model.add(Conv2D(16,(3, 3), activation='relu')) \n",
        "# Input Channel Dim = (11x11x16)\n",
        "# RF = 16\n",
        "\n",
        "model.add(Conv2D(32,(3, 3), activation='relu')) \n",
        "# Input Channel Dim = (9x9x16)\n",
        "# RF = 18\n",
        "\n",
        "model.add(Conv2D(16,(1, 1), activation='relu')) \n",
        "# Input Channel Dim = (7x7x32)\n",
        "# RF = 18\n",
        "\n",
        "model.add(Conv2D(32,(3, 3), activation='relu')) \n",
        "# Input Channel Dim = (7x7x16)\n",
        "# RF = 20\n",
        "\n",
        "model.add(Conv2D(10,(5, 5)))\n",
        "# Input Channel Dim = (5x5x32)\n",
        "# RF = 24\n",
        "\n",
        "model.add(Flatten())\n",
        "# Input Channel Dim = (1x1x10)\n",
        "\n",
        "model.add(Activation('softmax'))\n",
        "# Input Channel Dim = (,10)\n"
      ],
      "execution_count": 10,
      "outputs": [
        {
          "output_type": "stream",
          "text": [
            "WARNING:tensorflow:From /usr/local/lib/python3.6/dist-packages/tensorflow/python/framework/op_def_library.py:263: colocate_with (from tensorflow.python.framework.ops) is deprecated and will be removed in a future version.\n",
            "Instructions for updating:\n",
            "Colocations handled automatically by placer.\n"
          ],
          "name": "stdout"
        }
      ]
    },
    {
      "cell_type": "code",
      "metadata": {
        "id": "TzdAYg1k9K7Z",
        "colab_type": "code",
        "outputId": "87abe377-b049-4b2b-c900-9e6d38075f0e",
        "colab": {
          "base_uri": "https://localhost:8080/",
          "height": 555
        }
      },
      "source": [
        "model.summary()"
      ],
      "execution_count": 11,
      "outputs": [
        {
          "output_type": "stream",
          "text": [
            "_________________________________________________________________\n",
            "Layer (type)                 Output Shape              Param #   \n",
            "=================================================================\n",
            "conv2d_1 (Conv2D)            (None, 26, 26, 16)        160       \n",
            "_________________________________________________________________\n",
            "conv2d_2 (Conv2D)            (None, 24, 24, 32)        4640      \n",
            "_________________________________________________________________\n",
            "conv2d_3 (Conv2D)            (None, 22, 22, 64)        18496     \n",
            "_________________________________________________________________\n",
            "max_pooling2d_1 (MaxPooling2 (None, 11, 11, 64)        0         \n",
            "_________________________________________________________________\n",
            "conv2d_4 (Conv2D)            (None, 11, 11, 16)        1040      \n",
            "_________________________________________________________________\n",
            "conv2d_5 (Conv2D)            (None, 9, 9, 16)          2320      \n",
            "_________________________________________________________________\n",
            "conv2d_6 (Conv2D)            (None, 7, 7, 32)          4640      \n",
            "_________________________________________________________________\n",
            "conv2d_7 (Conv2D)            (None, 7, 7, 16)          528       \n",
            "_________________________________________________________________\n",
            "conv2d_8 (Conv2D)            (None, 5, 5, 32)          4640      \n",
            "_________________________________________________________________\n",
            "conv2d_9 (Conv2D)            (None, 1, 1, 10)          8010      \n",
            "_________________________________________________________________\n",
            "flatten_1 (Flatten)          (None, 10)                0         \n",
            "_________________________________________________________________\n",
            "activation_1 (Activation)    (None, 10)                0         \n",
            "=================================================================\n",
            "Total params: 44,474\n",
            "Trainable params: 44,474\n",
            "Non-trainable params: 0\n",
            "_________________________________________________________________\n"
          ],
          "name": "stdout"
        }
      ]
    },
    {
      "cell_type": "code",
      "metadata": {
        "id": "Zp6SuGrL9M3h",
        "colab_type": "code",
        "colab": {}
      },
      "source": [
        "# Compiling the model with particular loss function, optimiser\n",
        "\n",
        "model.compile(loss='categorical_crossentropy',\n",
        "              optimizer='adam',\n",
        "              metrics=['accuracy'])\n",
        "\n",
        "# Early Stopping callback which help us terminate the training once we reach\n",
        "# our mark based on conditionsof trai\n",
        "early_stop_train = EarlyStopping(monitor='val_acc', patience=10, verbose=1, mode='max', restore_best_weights=True)"
      ],
      "execution_count": 0,
      "outputs": []
    },
    {
      "cell_type": "code",
      "metadata": {
        "id": "4xWoKhPY9Of5",
        "colab_type": "code",
        "outputId": "367e52ac-dbea-4e0e-df67-1b5c0c42187b",
        "colab": {
          "base_uri": "https://localhost:8080/",
          "height": 471
        }
      },
      "source": [
        "# Train the model with a batch size and epoch number on train data\n",
        "\n",
        "model.fit(X_train, Y_train, batch_size=32, epochs = 10, verbose=1, validation_data=(X_test, Y_test), callbacks = [early_stop_train])\n"
      ],
      "execution_count": 13,
      "outputs": [
        {
          "output_type": "stream",
          "text": [
            "WARNING:tensorflow:From /usr/local/lib/python3.6/dist-packages/tensorflow/python/ops/math_ops.py:3066: to_int32 (from tensorflow.python.ops.math_ops) is deprecated and will be removed in a future version.\n",
            "Instructions for updating:\n",
            "Use tf.cast instead.\n",
            "Train on 60000 samples, validate on 10000 samples\n",
            "Epoch 1/10\n",
            "60000/60000 [==============================] - 18s 305us/step - loss: 0.1892 - acc: 0.9414 - val_loss: 0.0696 - val_acc: 0.9796\n",
            "Epoch 2/10\n",
            "60000/60000 [==============================] - 14s 241us/step - loss: 0.0589 - acc: 0.9821 - val_loss: 0.0458 - val_acc: 0.9849\n",
            "Epoch 3/10\n",
            "60000/60000 [==============================] - 13s 217us/step - loss: 0.0444 - acc: 0.9860 - val_loss: 0.0442 - val_acc: 0.9854\n",
            "Epoch 4/10\n",
            "60000/60000 [==============================] - 13s 217us/step - loss: 0.0362 - acc: 0.9885 - val_loss: 0.0352 - val_acc: 0.9893\n",
            "Epoch 5/10\n",
            "60000/60000 [==============================] - 14s 228us/step - loss: 0.0299 - acc: 0.9904 - val_loss: 0.0379 - val_acc: 0.9889\n",
            "Epoch 6/10\n",
            "60000/60000 [==============================] - 13s 220us/step - loss: 0.0263 - acc: 0.9918 - val_loss: 0.0279 - val_acc: 0.9916\n",
            "Epoch 7/10\n",
            "60000/60000 [==============================] - 13s 215us/step - loss: 0.0224 - acc: 0.9926 - val_loss: 0.0253 - val_acc: 0.9914\n",
            "Epoch 8/10\n",
            "60000/60000 [==============================] - 13s 214us/step - loss: 0.0198 - acc: 0.9933 - val_loss: 0.0343 - val_acc: 0.9896\n",
            "Epoch 9/10\n",
            "60000/60000 [==============================] - 13s 216us/step - loss: 0.0184 - acc: 0.9935 - val_loss: 0.0285 - val_acc: 0.9902\n",
            "Epoch 10/10\n",
            "60000/60000 [==============================] - 13s 214us/step - loss: 0.0163 - acc: 0.9949 - val_loss: 0.0307 - val_acc: 0.9913\n"
          ],
          "name": "stdout"
        },
        {
          "output_type": "execute_result",
          "data": {
            "text/plain": [
              "<keras.callbacks.History at 0x7ff2e6e4b470>"
            ]
          },
          "metadata": {
            "tags": []
          },
          "execution_count": 13
        }
      ]
    },
    {
      "cell_type": "code",
      "metadata": {
        "id": "AtsH-lLk-eLb",
        "colab_type": "code",
        "colab": {}
      },
      "source": [
        "# Evaluating the same model on test data to see how well it performs\n",
        "\n",
        "score = model.evaluate(X_test, Y_test, verbose=0)"
      ],
      "execution_count": 0,
      "outputs": []
    },
    {
      "cell_type": "code",
      "metadata": {
        "id": "mkX8JMv79q9r",
        "colab_type": "code",
        "outputId": "5779676d-a291-4e19-ca41-40eb0a8e50cb",
        "colab": {
          "base_uri": "https://localhost:8080/",
          "height": 34
        }
      },
      "source": [
        "print(score)"
      ],
      "execution_count": 15,
      "outputs": [
        {
          "output_type": "stream",
          "text": [
            "[0.0306815360056411, 0.9913]\n"
          ],
          "name": "stdout"
        }
      ]
    },
    {
      "cell_type": "code",
      "metadata": {
        "id": "OCWoJkwE9suh",
        "colab_type": "code",
        "colab": {}
      },
      "source": [
        "# Calculating the 10-dimensional class matrix for lables wrt. test data\n",
        "\n",
        "y_pred = model.predict(X_test)"
      ],
      "execution_count": 0,
      "outputs": []
    },
    {
      "cell_type": "code",
      "metadata": {
        "id": "Ym7iCFBm9uBs",
        "colab_type": "code",
        "outputId": "045a45df-5e0b-4b24-e314-a83ca9bb411a",
        "colab": {
          "base_uri": "https://localhost:8080/",
          "height": 503
        }
      },
      "source": [
        "# Showing the Predicted labels and the Expected labels\n",
        "\n",
        "print(y_pred[:9])\n",
        "print(y_test[:9])"
      ],
      "execution_count": 17,
      "outputs": [
        {
          "output_type": "stream",
          "text": [
            "[[6.03550997e-15 9.63278693e-11 4.25020772e-07 3.77958393e-08\n",
            "  1.41617226e-14 8.39168823e-09 2.65577218e-19 9.99999523e-01\n",
            "  3.18021942e-10 1.43772849e-09]\n",
            " [1.53601135e-07 4.37614638e-08 9.99972463e-01 2.17501794e-09\n",
            "  4.25617197e-13 4.99020235e-11 2.72080142e-05 1.20560083e-12\n",
            "  1.18862317e-07 5.37313419e-14]\n",
            " [1.91920924e-10 9.99935031e-01 1.12276930e-05 1.42340129e-09\n",
            "  8.14135637e-06 2.76357332e-05 1.67496228e-06 7.72478302e-07\n",
            "  1.54710033e-05 7.39429851e-08]\n",
            " [9.99988317e-01 1.66055277e-11 5.54896076e-07 5.80964888e-06\n",
            "  3.57590579e-09 1.46760058e-07 4.13203225e-06 4.00187901e-08\n",
            "  9.49682487e-07 1.02318921e-07]\n",
            " [2.59077308e-12 3.99831418e-11 8.83827127e-15 1.08925033e-12\n",
            "  9.99964595e-01 2.13995974e-11 2.45677867e-10 3.97484693e-12\n",
            "  2.30651276e-10 3.53914038e-05]\n",
            " [4.76056174e-11 9.99956012e-01 1.52855573e-05 4.84456746e-11\n",
            "  1.86867219e-05 2.21137284e-07 3.97320832e-07 1.70710553e-06\n",
            "  7.76222805e-06 3.38218564e-09]\n",
            " [1.09487145e-20 1.10829301e-09 4.63893750e-11 3.78315462e-13\n",
            "  9.99857306e-01 5.66579908e-11 2.51924456e-17 3.40491924e-09\n",
            "  1.41182783e-04 1.53851067e-06]\n",
            " [4.25359143e-14 3.22998538e-11 1.67684699e-09 3.29070382e-10\n",
            "  2.23312847e-04 1.17560708e-08 7.47253988e-17 2.78051431e-08\n",
            "  1.32694629e-08 9.99776661e-01]\n",
            " [1.45799985e-08 2.50446560e-12 6.84676635e-08 4.19099408e-11\n",
            "  3.72553903e-13 9.65401351e-01 3.29821953e-03 2.11274303e-13\n",
            "  3.13003547e-02 1.25906441e-09]]\n",
            "[7 2 1 0 4 1 4 9 5]\n"
          ],
          "name": "stdout"
        }
      ]
    },
    {
      "cell_type": "code",
      "metadata": {
        "id": "CT--y98_dr2T",
        "colab_type": "code",
        "colab": {}
      },
      "source": [
        "layer_dict = dict([(layer.name, layer) for layer in model.layers])"
      ],
      "execution_count": 0,
      "outputs": []
    },
    {
      "cell_type": "code",
      "metadata": {
        "id": "2GY4Upv4dsUR",
        "colab_type": "code",
        "outputId": "4345c94b-df7b-4b51-93a9-06a2e3af0ab2",
        "colab": {
          "base_uri": "https://localhost:8080/",
          "height": 857
        }
      },
      "source": [
        "# Visualising kernel at a convolutional layer\n",
        "\n",
        "import numpy as np\n",
        "from matplotlib import pyplot as plt\n",
        "from keras import backend as K\n",
        "%matplotlib inline\n",
        "# util function to convert a tensor into a valid image\n",
        "def deprocess_image(x):\n",
        "    # normalize tensor: center on 0., ensure std is 0.1\n",
        "    x -= x.mean()\n",
        "    x /= (x.std() + 1e-5)\n",
        "    x *= 0.1\n",
        "\n",
        "    # clip to [0, 1]\n",
        "    x += 0.5\n",
        "    x = np.clip(x, 0, 1)\n",
        "\n",
        "    # convert to RGB array\n",
        "    x *= 255\n",
        "    #x = x.transpose((1, 2, 0))\n",
        "    x = np.clip(x, 0, 255).astype('uint8')\n",
        "    return x\n",
        "\n",
        "def vis_img_in_filter(img = np.array(X_train[2]).reshape((1, 28, 28, 1)).astype(np.float64), \n",
        "                      layer_name = 'conv2d_2'):\n",
        "    layer_output = layer_dict[layer_name].output\n",
        "    img_ascs = list()\n",
        "    for filter_index in range(layer_output.shape[3]):\n",
        "        # build a loss function that maximizes the activation\n",
        "        # of the nth filter of the layer considered\n",
        "        loss = K.mean(layer_output[:, :, :, filter_index])\n",
        "\n",
        "        # compute the gradient of the input picture wrt this loss\n",
        "        grads = K.gradients(loss, model.input)[0]\n",
        "\n",
        "        # normalization trick: we normalize the gradient\n",
        "        grads /= (K.sqrt(K.mean(K.square(grads))) + 1e-5)\n",
        "\n",
        "        # this function returns the loss and grads given the input picture\n",
        "        iterate = K.function([model.input], [loss, grads])\n",
        "\n",
        "        # step size for gradient ascent\n",
        "        step = 5.\n",
        "\n",
        "        img_asc = np.array(img)\n",
        "        # run gradient ascent for 20 steps\n",
        "        for i in range(20):\n",
        "            loss_value, grads_value = iterate([img_asc])\n",
        "            img_asc += grads_value * step\n",
        "\n",
        "        img_asc = img_asc[0]\n",
        "        img_ascs.append(deprocess_image(img_asc).reshape((28, 28)))\n",
        "        \n",
        "    if layer_output.shape[3] >= 35:\n",
        "        plot_x, plot_y = 6, 6\n",
        "    elif layer_output.shape[3] >= 23:\n",
        "        plot_x, plot_y = 4, 6\n",
        "    elif layer_output.shape[3] >= 11:\n",
        "        plot_x, plot_y = 2, 6\n",
        "    else:\n",
        "        plot_x, plot_y = 1, 2\n",
        "    fig, ax = plt.subplots(plot_x, plot_y, figsize = (12, 12))\n",
        "    ax[0, 0].imshow(img.reshape((28, 28)), cmap = 'gray')\n",
        "    ax[0, 0].set_title('Input image')\n",
        "    fig.suptitle('Input image and %s filters' % (layer_name,))\n",
        "    fig.tight_layout(pad = 0.3, rect = [0, 0, 0.9, 0.9])\n",
        "    for (x, y) in [(i, j) for i in range(plot_x) for j in range(plot_y)]:\n",
        "        if x == 0 and y == 0:\n",
        "            continue\n",
        "        ax[x, y].imshow(img_ascs[x * plot_y + y - 1], cmap = 'gray')\n",
        "        ax[x, y].set_title('filter %d' % (x * plot_y + y - 1))\n",
        "\n",
        "vis_img_in_filter()"
      ],
      "execution_count": 19,
      "outputs": [
        {
          "output_type": "display_data",
          "data": {
            "image/png": "[encoded data removed]",
            "text/plain": [
              "<Figure size 864x864 with 24 Axes>"
            ]
          },
          "metadata": {
            "tags": []
          }
        }
      ]
    },
    {
      "cell_type": "markdown",
      "metadata": {
        "id": "7GzkdvLG2eKE",
        "colab_type": "text"
      },
      "source": [
        "## Observation:\n",
        "\n",
        "To conclude this networks:\n",
        "- With batch size of 32 in epochs 10, we haveachieved 99.13 percent validation accuracy.\n",
        "- The maximum validation accuracy achieved is on 6th epoch with 99.16 percent.\n",
        "- In the last epochs the model has a tiny bit overfitting. \n",
        "- With improvements we can do better. "
      ]
    }
  ]
}