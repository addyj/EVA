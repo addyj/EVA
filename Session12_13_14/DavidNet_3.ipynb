{
 "cells": [
  {
   "cell_type": "code",
   "execution_count": 2,
   "metadata": {
    "colab": {
     "base_uri": "https://localhost:8080/",
     "height": 68
    },
    "colab_type": "code",
    "id": "PA-t79aYxI_g",
    "outputId": "67199c2b-54ea-4d03-fa4b-65a835295ae8"
   },
   "outputs": [
    {
     "name": "stdout",
     "output_type": "stream",
     "text": [
      "1.17.0\n",
      "0.15.0\n",
      "1.14.0\n"
     ]
    }
   ],
   "source": [
    "import numpy as np\n",
    "import skimage\n",
    "print(np.__version__)\n",
    "print(skimage.__version__)\n",
    "\n",
    "import time, math\n",
    "from tqdm import tqdm_notebook as tqdm\n",
    "\n",
    "import tensorflow as tf\n",
    "import tensorflow.contrib.eager as tfe\n",
    "import gc\n",
    "print(tf.__version__)\n",
    "\n",
    "import matplotlib.pyplot as plt\n",
    "#% matplotlib inline\n",
    "#%config InlineBackend.figure_format='retina'\n",
    "\n",
    "from IPython.core.interactiveshell import InteractiveShell\n",
    "InteractiveShell.ast_node_interactivity = \"all\"\n",
    "\n",
    "# import imgaug.augmenters as iaa\n",
    "\n",
    "from PIL import Image\n",
    "import random"
   ]
  },
  {
   "cell_type": "code",
   "execution_count": 3,
   "metadata": {
    "colab": {
     "base_uri": "https://localhost:8080/",
     "height": 34
    },
    "colab_type": "code",
    "id": "LH28j-9VxI_q",
    "outputId": "75e72619-2301-4b9b-b6ba-a85b7758331e"
   },
   "outputs": [],
   "source": [
    "import tensorflow as tf"
   ]
  },
  {
   "cell_type": "code",
   "execution_count": 14,
   "metadata": {
    "colab": {},
    "colab_type": "code",
    "id": "UkLcASU8xI_x"
   },
   "outputs": [],
   "source": [
    "from albumentations import (\n",
    "    Compose, HorizontalFlip, Rotate,GaussNoise ,RandomCrop,\n",
    "    RandomBrightness, RandomContrast,OneOf,\n",
    "    ToFloat, ShiftScaleRotate,PadIfNeeded\n",
    ")\n",
    "import cv2"
   ]
  },
  {
   "cell_type": "code",
   "execution_count": 0,
   "metadata": {
    "colab": {},
    "colab_type": "code",
    "id": "WYEkrV_bxI_2"
   },
   "outputs": [],
   "source": [
    "from albumentations import (HorizontalFlip, IAAPerspective, ShiftScaleRotate, CLAHE, RandomRotate90,\n",
    "                            Transpose, ShiftScaleRotate, Blur, OpticalDistortion, GridDistortion, HueSaturationValue,\n",
    "                            IAAAdditiveGaussianNoise, GaussNoise, MotionBlur, MedianBlur, IAAPiecewiseAffine,\n",
    "                            IAASharpen, IAAEmboss, Flip, OneOf, Compose, ChannelShuffle,RandomContrast, RandomCrop)"
   ]
  },
  {
   "cell_type": "code",
   "execution_count": 4,
   "metadata": {
    "colab": {},
    "colab_type": "code",
    "id": "huMhsR5XxJAH"
   },
   "outputs": [],
   "source": [
    "tf.enable_eager_execution()"
   ]
  },
  {
   "cell_type": "code",
   "execution_count": 8,
   "metadata": {
    "colab": {},
    "colab_type": "code",
    "id": "quZpBu6TxJAN"
   },
   "outputs": [],
   "source": [
    "BATCH_SIZE = 512 \n",
    "MOMENTUM = 0.9\n",
    "LEARNING_RATE = 0.6\n",
    "WEIGHT_DECAY = 0.125\n",
    "EPOCHS = 24\n",
    "cutout_proba = 0.2\n",
    "ssr_proba = 0.15\n",
    "strong_aug_proba = 0.05\n",
    "\n",
    "start_reg_ssr = 5\n",
    "end_reg_ssr = 24\n",
    "\n",
    "start_strong_aug = 3\n",
    "end_strong_aug = 12\n",
    "\n",
    "mixed_precision = False\n",
    "xla_enabled = False"
   ]
  },
  {
   "cell_type": "code",
   "execution_count": 9,
   "metadata": {
    "colab": {},
    "colab_type": "code",
    "id": "JuJWmn3kxJAT"
   },
   "outputs": [],
   "source": [
    "if xla_enabled:\n",
    "    config = tf.ConfigProto()\n",
    "    jit_level = tf.OptimizerOptions.ON_1\n",
    "    config.graph_options.optimizer_options.global_jit_level = jit_level\n",
    "\n",
    "    sess = tf.Session(config=config)\n",
    "    tf.keras.backend.set_session(sess)\n"
   ]
  },
  {
   "cell_type": "code",
   "execution_count": 10,
   "metadata": {
    "colab": {},
    "colab_type": "code",
    "id": "o3rTPrW3xJAY"
   },
   "outputs": [],
   "source": [
    "def init_pytorch(shape, dtype=tf.float32, partition_info=None):\n",
    "    fan = np.prod(shape[:-1])\n",
    "    bound = 1 / (math.sqrt(fan))\n",
    "    return tf.random_uniform(shape, minval=-bound, maxval=bound, dtype=dtype)\n",
    "\n",
    "class ConvBN(tf.keras.Model):\n",
    "    def __init__(self, c_out, BN=True, kernel_size=3, strides=1):\n",
    "        super().__init__()\n",
    "        self.conv = tf.keras.layers.Conv2D(filters=c_out, kernel_size=kernel_size, strides=strides, padding=\"SAME\", kernel_initializer=init_pytorch, use_bias=False)\n",
    "        self.bn = tf.keras.layers.BatchNormalization(momentum=0.9, epsilon=1e-5)\n",
    "        self.BN = BN\n",
    "    def call(self, inputs):\n",
    "        if self.BN:\n",
    "            return tf.nn.relu(self.bn(self.conv(inputs)))\n",
    "        else:\n",
    "            return tf.nn.relu(self.conv(inputs))\n",
    "    \n",
    "    \n",
    "class ResBlk(tf.keras.Model):\n",
    "    def __init__(self, c_out, pool, res = False, pooling=False, BN=True):\n",
    "        super().__init__()\n",
    "        self.pool = pool\n",
    "        self.res = res\n",
    "        self.pooling = pooling\n",
    "        self.BN = BN\n",
    "        self.conv_bn = ConvBN(c_out, BN=True)\n",
    "        if self.res:\n",
    "            self.res1 = ConvBN(c_out, BN=True)\n",
    "            self.res2 = ConvBN(c_out, BN=True)\n",
    "\n",
    "    def call(self, inputs):\n",
    "        if self.pooling:\n",
    "            h = self.pool(self.conv_bn(inputs))\n",
    "        else:\n",
    "            h = self.conv_bn(inputs)\n",
    "        \n",
    "        if self.res:\n",
    "            residual = self.res2(self.res1(h))\n",
    "            h = h + residual\n",
    "        return h\n",
    "    \n",
    "class ResBlk_3(tf.keras.Model):\n",
    "    def __init__(self, c_out, pool, res = False, pooling=False, BN=True):\n",
    "        super().__init__()\n",
    "        self.pool = pool\n",
    "        self.res = res\n",
    "        self.pooling = pooling\n",
    "        self.BN = BN\n",
    "        self.conv_bn = ConvBN(c_out, BN=True)\n",
    "        if self.res:\n",
    "            self.res1 = ConvBN(c_out, BN=True)\n",
    "            self.res2 = ConvBN(c_out, BN=True)\n",
    "\n",
    "    def call(self, inputs):\n",
    "        if self.pooling:\n",
    "            h = self.pool(self.conv_bn(inputs))\n",
    "        else:\n",
    "            h = self.conv_bn(inputs)\n",
    "        \n",
    "        if self.res:\n",
    "            residual = self.res2(self.res1(h))\n",
    "            h = h + residual\n",
    "        return h\n",
    "    \n",
    "    \n",
    "class DavidNet(tf.keras.Model):\n",
    "    def __init__(self, c=64, weight=0.125):\n",
    "        super().__init__()\n",
    "        pool = tf.keras.layers.MaxPooling2D()\n",
    "        self.init_conv_bn = ConvBN(c,  BN = False)\n",
    "        self.skip = ConvBN(c, kernel_size=1, strides=2, BN = False)\n",
    "        self.blk1 = ResBlk(c*2, pool, res = True, pooling = True, BN = False)\n",
    "        self.blk2 = ResBlk(c*4, pool, pooling = True, BN = False)\n",
    "        self.blk3 = ResBlk(c*8, pool, res = True, pooling = True,  BN = False)\n",
    "        self.pool = tf.keras.layers.GlobalMaxPool2D()\n",
    "        self.linear = tf.keras.layers.Dense(10, kernel_initializer=init_pytorch, use_bias=False)\n",
    "        self.weight = weight\n",
    "        self.bn1 = tf.keras.layers.BatchNormalization(momentum=0.9, epsilon=1e-4)\n",
    "        self.bn2 = tf.keras.layers.BatchNormalization(momentum=0.9, epsilon=1e-4)\n",
    "        self.bn3 = tf.keras.layers.BatchNormalization(momentum=0.9, epsilon=1e-4)\n",
    "        self.bn4 = tf.keras.layers.BatchNormalization(momentum=0.9, epsilon=1e-4)\n",
    "\n",
    "    def call(self, x, y):\n",
    "        h = self.pool(self.blk3(self.blk2(self.blk1(self.init_conv_bn(x)))))\n",
    "        \n",
    "        h = self.linear(h) * self.weight\n",
    "        ce = tf.nn.sparse_softmax_cross_entropy_with_logits(logits=h, labels=y)\n",
    "        loss = tf.reduce_sum(ce)\n",
    "        correct = tf.reduce_sum(tf.cast(tf.math.equal(tf.argmax(h, axis = 1), y), tf.float32))\n",
    "        return loss, correct\n"
   ]
  },
  {
   "cell_type": "code",
   "execution_count": 11,
   "metadata": {
    "colab": {
     "base_uri": "https://localhost:8080/",
     "height": 51
    },
    "colab_type": "code",
    "id": "3hc4bNN4xJAe",
    "outputId": "3f56e064-ff50-422d-d095-aeeed145aa57"
   },
   "outputs": [],
   "source": [
    "(x_train, y_train), (x_test, y_test) = tf.keras.datasets.cifar10.load_data()\n",
    "classes = ['airplane','automobile','bird','cat','deer','dog','frog','horse','ship','truck']\n",
    "len_train, len_test = len(x_train), len(x_test)\n",
    "y_train = y_train.astype('int64').reshape(len_train)\n",
    "y_test = y_test.astype('int64').reshape(len_test)\n",
    "\n",
    "train_mean = np.mean(x_train, axis=(0,1,2))\n",
    "train_std = np.std(x_train, axis=(0,1,2))\n",
    "\n",
    "normalize = lambda x: ((x - train_mean) / train_std).astype('float32') # todo: check here\n",
    "pad4 = lambda x: np.pad(x, [(0, 0), (4, 4), (4, 4), (0, 0)], mode='reflect')\n",
    "\n",
    "x_train = normalize(pad4(x_train))\n",
    "x_test = normalize(x_test)"
   ]
  },
  {
   "cell_type": "code",
   "execution_count": 15,
   "metadata": {
    "colab": {
     "base_uri": "https://localhost:8080/",
     "height": 34
    },
    "colab_type": "code",
    "id": "5BkBPQXrxJAl",
    "outputId": "7d01e0c5-c02e-4bc2-8d78-fec9c753980e"
   },
   "outputs": [
    {
     "name": "stdout",
     "output_type": "stream",
     "text": [
      "13\n"
     ]
    }
   ],
   "source": [
    "print(gc.collect())\n",
    "\n",
    "model = DavidNet(weight=0.125)\n",
    "batches_per_epoch = len_train//BATCH_SIZE + 1\n",
    "\n",
    "\n",
    "\n",
    "global_step = tf.train.get_or_create_global_step()\n",
    "lr_func = lambda: lr_schedule(global_step/batches_per_epoch)/BATCH_SIZE\n",
    "opt = tf.train.MomentumOptimizer(lr_func, momentum=MOMENTUM, use_nesterov=True)\n",
    "\n",
    "if mixed_precision:\n",
    "    opt = tf.train.experimental.enable_mixed_precision_graph_rewrite(opt)\n",
    "\n",
    "\n",
    "# Cutout implimentation it's return eraser crop images With thir mean values\n",
    "def get_cutout_eraser(p=0.4, s_l=0.05, s_h=0.3, r_1=0.3, r_2=1/0.3, \n",
    "                      v_l=-1,v_h=1,\n",
    "                      max_erasures_per_image=1, pixel_level=False):\n",
    "    assert max_erasures_per_image >= 1\n",
    "\n",
    "    def eraser(input_img):\n",
    "        img_h, img_w, img_c = input_img.shape\n",
    "        shape = input_img.shape\n",
    "        p_1 = np.random.rand()\n",
    "\n",
    "        if p_1 > p:\n",
    "            return input_img\n",
    "        mx = np.random.randint(1, max_erasures_per_image + 1)\n",
    "        for i in range(mx):\n",
    "            while True:\n",
    "                s = np.random.uniform(s_l, s_h) * img_h * img_w\n",
    "                r = np.random.uniform(r_1, r_2)\n",
    "                w = int(np.sqrt(s / r))\n",
    "                h = int(np.sqrt(s * r))\n",
    "                left = np.random.randint(0, img_w)\n",
    "                top = np.random.randint(0, img_h)\n",
    "\n",
    "                if left + w <= img_w and top + h <= img_h:\n",
    "                    break\n",
    "\n",
    "            if pixel_level:\n",
    "                c = np.random.uniform(v_l, v_h, (h, w, img_c))\n",
    "            else:\n",
    "                c = np.mean(input_img, axis=(0,1))\n",
    "\n",
    "            input_img[top:top + h, left:left + w, :] = c\n",
    "        return input_img\n",
    "\n",
    "    return eraser\n",
    "\n",
    "\n",
    "def multiple_aug(x, y):\n",
    "    x = tf.image.random_flip_left_right(tf.random_crop(x, [32, 32, 3]))\n",
    "    return (x, y)\n",
    "\n",
    "data_aug = lambda x, y: multiple_aug(x, y)\n",
    "\n",
    "\n",
    "cutout_fn = get_cutout_eraser(p=0.5, pixel_level=False)\n",
    "\n",
    "def batch_cut(imgs, epoch):\n",
    "    if epoch>=24 or epoch<=1:\n",
    "        return imgs\n",
    "    for i,im in enumerate(imgs):\n",
    "        p_1 = np.random.rand()\n",
    "        if p_1 > cutout_proba:\n",
    "            continue\n",
    "        else:\n",
    "            imgs[i] = cutout_fn(im)\n",
    "    return imgs\n",
    "\n",
    "\n",
    "ssr = ShiftScaleRotate(p=ssr_proba)\n",
    "rotate_one = lambda x: ssr(image=x)['image']\n",
    "\n",
    "def rotate(imgs,epoch):\n",
    "    if epoch>=end_reg_ssr or epoch<=start_reg_ssr:\n",
    "        return imgs\n",
    "    for i,im in enumerate(imgs):\n",
    "        imgs[i] = rotate_one(im)\n",
    "    return imgs\n",
    "\n",
    "\n",
    "AUGMENTATIONS_FOR_TRAIN = Compose([GaussNoise(p=0.25),\n",
    "                      RandomContrast(limit=0.2, p=0.5),\n",
    "                      HorizontalFlip(p=0.5),\n",
    "                      RandomCrop(40,40,p=1.0),\n",
    "                      PadIfNeeded(40,40),\n",
    "                      RandomBrightness(limit=0.2, p=0.5),\n",
    "                      ShiftScaleRotate(shift_limit=0.052, scale_limit=0.1, \n",
    "                                       rotate_limit=0, border_mode=cv2.BORDER_REFLECT_101, p=0.8)],\n",
    "                     p=strong_aug_proba)\n",
    "\n",
    "\n",
    "mix_aug = lambda x: AUGMENTATIONS_FOR_TRAIN(image=x)['image']\n",
    "def other_augs(imgs,epoch):\n",
    "    if epoch>=24 or epoch<=15:\n",
    "        return imgs\n",
    "    for i,im in enumerate(imgs):\n",
    "        imgs[i] = mix_aug(im)\n",
    "    return imgs\n",
    "\n",
    "#Apply AUG epoch wise\n",
    "def combined_aug(imgs,epoch):\n",
    "    imgs = np.copy(imgs)\n",
    "    imgs = rotate(imgs,epoch)\n",
    "    imgs = batch_cut(imgs,epoch)\n",
    "    imgs = other_augs(imgs,epoch)\n",
    "    return imgs\n",
    "\n"
   ]
  },
  {
   "cell_type": "code",
   "execution_count": 10,
   "metadata": {
    "colab": {
     "base_uri": "https://localhost:8080/",
     "height": 34
    },
    "colab_type": "code",
    "id": "8tBFs9WjtZN8",
    "outputId": "4ada7922-1088-4162-8363-4b42341f4d1b"
   },
   "outputs": [
    {
     "name": "stdout",
     "output_type": "stream",
     "text": [
      "28\n"
     ]
    }
   ],
   "source": [
    "print(gc.collect())\n",
    "\n",
    "model = DavidNet(weight=0.125)\n",
    "batches_per_epoch = len_train//BATCH_SIZE + 1\n",
    "\n",
    "\n",
    "\n",
    "global_step = tf.train.get_or_create_global_step()\n",
    "lr_func = lambda: lr_schedule(global_step/batches_per_epoch)/BATCH_SIZE\n",
    "opt = tf.train.MomentumOptimizer(lr_func, momentum=MOMENTUM, use_nesterov=True)\n",
    "\n",
    "if mixed_precision:\n",
    "    opt = tf.train.experimental.enable_mixed_precision_graph_rewrite(opt)\n"
   ]
  },
  {
   "cell_type": "code",
   "execution_count": 14,
   "metadata": {
    "colab": {
     "base_uri": "https://localhost:8080/",
     "height": 251
    },
    "colab_type": "code",
    "id": "3emtpvDUob-D",
    "outputId": "93258e96-11fb-424f-8312-b3b7b555b8f6"
   },
   "outputs": [
    {
     "ename": "NameError",
     "evalue": "ignored",
     "output_type": "error",
     "traceback": [
      "\u001b[0;31m---------------------------------------------------------------------------\u001b[0m",
      "\u001b[0;31mNameError\u001b[0m                                 Traceback (most recent call last)",
      "\u001b[0;32m<ipython-input-14-5d2db4e580dd>\u001b[0m in \u001b[0;36m<module>\u001b[0;34m()\u001b[0m\n\u001b[1;32m      3\u001b[0m \u001b[0mtrain_data\u001b[0m \u001b[0;34m=\u001b[0m \u001b[0;34m{\u001b[0m\u001b[0;34m}\u001b[0m\u001b[0;34m\u001b[0m\u001b[0;34m\u001b[0m\u001b[0m\n\u001b[1;32m      4\u001b[0m \u001b[0;32mfor\u001b[0m \u001b[0mepoch\u001b[0m \u001b[0;32min\u001b[0m \u001b[0mrange\u001b[0m\u001b[0;34m(\u001b[0m\u001b[0mEPOCHS\u001b[0m\u001b[0;34m)\u001b[0m\u001b[0;34m:\u001b[0m\u001b[0;34m\u001b[0m\u001b[0;34m\u001b[0m\u001b[0m\n\u001b[0;32m----> 5\u001b[0;31m     \u001b[0mxt\u001b[0m \u001b[0;34m=\u001b[0m \u001b[0mcombined_aug\u001b[0m\u001b[0;34m(\u001b[0m\u001b[0mx_train\u001b[0m\u001b[0;34m,\u001b[0m \u001b[0mepoch\u001b[0m\u001b[0;34m)\u001b[0m\u001b[0;34m\u001b[0m\u001b[0;34m\u001b[0m\u001b[0m\n\u001b[0m\u001b[1;32m      6\u001b[0m \u001b[0;31m#     print(type(xt))\u001b[0m\u001b[0;34m\u001b[0m\u001b[0;34m\u001b[0m\u001b[0;34m\u001b[0m\u001b[0m\n\u001b[1;32m      7\u001b[0m     \u001b[0mtrain_set\u001b[0m \u001b[0;34m=\u001b[0m \u001b[0mtf\u001b[0m\u001b[0;34m.\u001b[0m\u001b[0mdata\u001b[0m\u001b[0;34m.\u001b[0m\u001b[0mDataset\u001b[0m\u001b[0;34m.\u001b[0m\u001b[0mfrom_tensor_slices\u001b[0m\u001b[0;34m(\u001b[0m\u001b[0;34m(\u001b[0m\u001b[0mxt\u001b[0m\u001b[0;34m,\u001b[0m \u001b[0my_train\u001b[0m\u001b[0;34m)\u001b[0m\u001b[0;34m)\u001b[0m\u001b[0;34m.\u001b[0m\u001b[0mmap\u001b[0m\u001b[0;34m(\u001b[0m\u001b[0mdata_aug\u001b[0m\u001b[0;34m,\u001b[0m \u001b[0mnum_parallel_calls\u001b[0m\u001b[0;34m=\u001b[0m\u001b[0mtf\u001b[0m\u001b[0;34m.\u001b[0m\u001b[0mdata\u001b[0m\u001b[0;34m.\u001b[0m\u001b[0mexperimental\u001b[0m\u001b[0;34m.\u001b[0m\u001b[0mAUTOTUNE\u001b[0m\u001b[0;34m)\u001b[0m\u001b[0;34m.\u001b[0m\u001b[0mshuffle\u001b[0m\u001b[0;34m(\u001b[0m\u001b[0mlen_train\u001b[0m\u001b[0;34m)\u001b[0m\u001b[0;34m.\u001b[0m\u001b[0mbatch\u001b[0m\u001b[0;34m(\u001b[0m\u001b[0mlen_train\u001b[0m\u001b[0;34m)\u001b[0m\u001b[0;34m.\u001b[0m\u001b[0mprefetch\u001b[0m\u001b[0;34m(\u001b[0m\u001b[0mlen_train\u001b[0m\u001b[0;34m)\u001b[0m\u001b[0;34m\u001b[0m\u001b[0;34m\u001b[0m\u001b[0m\n",
      "\u001b[0;31mNameError\u001b[0m: name 'combined_aug' is not defined"
     ]
    }
   ],
   "source": [
    "import dill as pickle\n",
    "t1 = time.time()\n",
    "train_data = {}\n",
    "for epoch in range(EPOCHS):\n",
    "    xt = combined_aug(x_train, epoch)\n",
    "#     print(type(xt))\n",
    "    train_set = tf.data.Dataset.from_tensor_slices((xt, y_train)).map(data_aug, num_parallel_calls=tf.data.experimental.AUTOTUNE).shuffle(len_train).batch(len_train).prefetch(len_train)\n",
    "#     train_set = tf.data.Dataset.from_tensor_slices((xt, y_train)).map(data_aug, num_parallel_calls=tf.data.experimental.AUTOTUNE).shuffle(len_train).batch(BATCH_SIZE).prefetch(len_train)\n",
    "    for x,y in train_set:\n",
    "        assert x.numpy().shape[0]==len_train\n",
    "        train_set = (x.numpy(),y.numpy())\n",
    "    with open('train_data_'+str(epoch)+'.pkl', 'wb') as file:\n",
    "        pickle.dump(train_set, file)\n",
    "t2 = time.time()\n",
    "\"%.1f\" %(t2-t1)"
   ]
  },
  {
   "cell_type": "code",
   "execution_count": 0,
   "metadata": {
    "colab": {},
    "colab_type": "code",
    "id": "h41KnNyZtrWh"
   },
   "outputs": [],
   "source": [
    "import dill as pickle\n",
    "\n"
   ]
  },
  {
   "cell_type": "code",
   "execution_count": 16,
   "metadata": {
    "colab": {},
    "colab_type": "code",
    "id": "z_OiVe1dxJAq"
   },
   "outputs": [
    {
     "data": {
      "text/plain": [
       "'238.6'"
      ]
     },
     "execution_count": 16,
     "metadata": {},
     "output_type": "execute_result"
    }
   ],
   "source": [
    "\n",
    "t1 = time.time()\n",
    "train_data = {}\n",
    "for epoch in range(EPOCHS):\n",
    "    xt = combined_aug(x_train, epoch)\n",
    "    train_set = tf.data.Dataset.from_tensor_slices((xt, y_train)).map(data_aug, num_parallel_calls=tf.data.experimental.AUTOTUNE).shuffle(len_train).batch(len_train).prefetch(len_train)\n",
    "    for x,y in train_set:\n",
    "        assert x.numpy().shape[0]==len_train\n",
    "        train_set = (x.numpy(),y.numpy())\n",
    "    train_data[epoch] = train_set\n",
    "t2 = time.time()\n",
    "\"%.1f\" %(t2-t1)"
   ]
  },
  {
   "cell_type": "code",
   "execution_count": 17,
   "metadata": {
    "colab": {
     "base_uri": "https://localhost:8080/",
     "height": 284
    },
    "colab_type": "code",
    "id": "04dKZ0PxxJAw",
    "outputId": "05ad0ceb-eff4-4f63-8d95-7cbf3f93adab",
    "scrolled": true
   },
   "outputs": [
    {
     "data": {
      "text/plain": [
       "[<matplotlib.lines.Line2D at 0x7f1c302cfe48>]"
      ]
     },
     "execution_count": 17,
     "metadata": {},
     "output_type": "execute_result"
    },
    {
     "data": {
      "image/png": "[encoded data removed]",
      "text/plain": [
       "<Figure size 432x288 with 1 Axes>"
      ]
     },
     "metadata": {
      "needs_background": "light"
     },
     "output_type": "display_data"
    }
   ],
   "source": [
    "\n",
    "lr_schedule = lambda t: np.interp([t], [0,     5,    6,     12,     16,  19, 22, 24], \n",
    "                                      [0.03,  0.6, 0.55,  0.387,  0.2,  0.1,0.01,0.001])[0] ### ran with weight decay 0.125 93.25 in 23, 93.19 in 24\n",
    "\n",
    "#lr_schedule = lambda t: np.interp([t], [0,     5,    6,     12,     16,  19, 22, 24], \n",
    "#                                         [0.03,  0.6, 0.58,  0.387,  0.2,  0.1,0.01,0.001])[0] ### ran with weight decay 0.125 93.4 \n",
    "lr=[]\n",
    "ep=[]\n",
    "for i in range(25):\n",
    "    lr.append(lr_schedule(i))\n",
    "    ep.append(i)\n",
    "\n",
    "import matplotlib.pyplot as plt \n",
    "plt.plot(ep, lr)"
   ]
  },
  {
   "cell_type": "code",
   "execution_count": 18,
   "metadata": {
    "colab": {
     "base_uri": "https://localhost:8080/",
     "height": 1000
    },
    "colab_type": "code",
    "id": "QNsNWaRUHWqa",
    "outputId": "f5ce607a-5c27-453a-8bbb-c371f03f3432"
   },
   "outputs": [
    {
     "name": "stdout",
     "output_type": "stream",
     "text": [
      "0\n",
      "time for test 0.9994926452636719\n",
      "epoch: 1 lr: 0.1440 | train loss: 1.3743 train acc: 0.5027 val loss: 1.0482 | val acc: 0.6385 epoch time: 18.70 time: 18.70\n",
      "19.367353677749634\n",
      "time for test 0.782437801361084\n",
      "epoch: 2 lr: 0.2580 | train loss: 0.7960 train acc: 0.7211 val loss: 1.0994 | val acc: 0.6601 epoch time: 13.32 time: 13.32\n",
      "33.19805884361267\n",
      "time for test 0.7424001693725586\n",
      "epoch: 3 lr: 0.3720 | train loss: 0.6762 train acc: 0.7653 val loss: 0.9584 | val acc: 0.7227 epoch time: 13.13 time: 13.13\n",
      "46.81713604927063\n",
      "time for test 0.7834203243255615\n",
      "epoch: 4 lr: 0.4860 | train loss: 0.5902 train acc: 0.7983 val loss: 0.5442 | val acc: 0.8162 epoch time: 13.08 time: 13.08\n",
      "60.403240442276\n",
      "time for test 0.7371304035186768\n",
      "epoch: 5 lr: 0.6000 | train loss: 0.5144 train acc: 0.8239 val loss: 0.7494 | val acc: 0.7581 epoch time: 13.07 time: 13.07\n",
      "74.17261672019958\n",
      "time for test 0.7429518699645996\n",
      "epoch: 6 lr: 0.5500 | train loss: 0.4285 train acc: 0.8516 val loss: 0.6470 | val acc: 0.7913 epoch time: 13.28 time: 13.28\n",
      "88.15359544754028\n",
      "time for test 0.7291641235351562\n",
      "epoch: 7 lr: 0.5228 | train loss: 0.4393 train acc: 0.8492 val loss: 0.3995 | val acc: 0.8613 epoch time: 13.11 time: 13.11\n",
      "101.74752902984619\n",
      "time for test 0.7349979877471924\n",
      "epoch: 8 lr: 0.4957 | train loss: 0.3808 train acc: 0.8698 val loss: 0.3934 | val acc: 0.8649 epoch time: 13.08 time: 13.08\n",
      "115.31941437721252\n",
      "time for test 0.7523047924041748\n",
      "epoch: 9 lr: 0.4685 | train loss: 0.3407 train acc: 0.8843 val loss: 0.3872 | val acc: 0.8692 epoch time: 13.18 time: 13.18\n",
      "129.1528308391571\n",
      "time for test 0.7831645011901855\n",
      "epoch: 10 lr: 0.4413 | train loss: 0.3123 train acc: 0.8929 val loss: 0.4108 | val acc: 0.8718 epoch time: 13.40 time: 13.40\n",
      "143.03471684455872\n",
      "time for test 0.8099803924560547\n",
      "epoch: 11 lr: 0.4142 | train loss: 0.2823 train acc: 0.9028 val loss: 0.3259 | val acc: 0.8937 epoch time: 13.97 time: 13.97\n",
      "157.50965666770935\n",
      "time for test 0.7399814128875732\n",
      "epoch: 12 lr: 0.3870 | train loss: 0.2563 train acc: 0.9123 val loss: 0.3766 | val acc: 0.8775 epoch time: 13.49 time: 13.49\n",
      "171.59441661834717\n",
      "time for test 0.7271661758422852\n",
      "epoch: 13 lr: 0.3402 | train loss: 0.2377 train acc: 0.9195 val loss: 0.3081 | val acc: 0.8964 epoch time: 13.21 time: 13.21\n",
      "185.29061818122864\n",
      "time for test 0.7433593273162842\n",
      "epoch: 14 lr: 0.2935 | train loss: 0.2201 train acc: 0.9251 val loss: 0.2790 | val acc: 0.9078 epoch time: 13.14 time: 13.14\n",
      "198.92107915878296\n",
      "time for test 0.7309560775756836\n",
      "epoch: 15 lr: 0.2468 | train loss: 0.1970 train acc: 0.9323 val loss: 0.2598 | val acc: 0.9138 epoch time: 13.04 time: 13.04\n",
      "212.44267058372498\n",
      "time for test 0.7747857570648193\n",
      "epoch: 16 lr: 0.2000 | train loss: 0.1780 train acc: 0.9397 val loss: 0.2511 | val acc: 0.9159 epoch time: 13.06 time: 13.06\n",
      "225.97524881362915\n",
      "time for test 0.7835416793823242\n",
      "epoch: 17 lr: 0.1667 | train loss: 0.2153 train acc: 0.9256 val loss: 0.2631 | val acc: 0.9159 epoch time: 13.30 time: 13.30\n",
      "239.9755516052246\n",
      "time for test 0.7771544456481934\n",
      "epoch: 18 lr: 0.1333 | train loss: 0.2048 train acc: 0.9305 val loss: 0.2551 | val acc: 0.9198 epoch time: 13.16 time: 13.16\n",
      "253.619047164917\n",
      "time for test 0.7359917163848877\n",
      "epoch: 19 lr: 0.1000 | train loss: 0.1814 train acc: 0.9382 val loss: 0.2277 | val acc: 0.9247 epoch time: 13.06 time: 13.06\n",
      "267.28511238098145\n",
      "time for test 0.7285115718841553\n",
      "epoch: 20 lr: 0.0700 | train loss: 0.1769 train acc: 0.9393 val loss: 0.2256 | val acc: 0.9282 epoch time: 13.11 time: 13.11\n",
      "280.8871352672577\n",
      "time for test 0.7365636825561523\n",
      "epoch: 21 lr: 0.0400 | train loss: 0.1689 train acc: 0.9425 val loss: 0.2242 | val acc: 0.9282 epoch time: 13.14 time: 13.14\n",
      "294.51481652259827\n",
      "time for test 0.7330002784729004\n",
      "epoch: 22 lr: 0.0100 | train loss: 0.1605 train acc: 0.9456 val loss: 0.2187 | val acc: 0.9296 epoch time: 13.19 time: 13.19\n",
      "308.1839096546173\n",
      "time for test 0.7795450687408447\n",
      "epoch: 23 lr: 0.0055 | train loss: 0.1546 train acc: 0.9482 val loss: 0.2174 | val acc: 0.9304 epoch time: 13.18 time: 13.18\n",
      "321.85468435287476\n",
      "time for test 0.733858585357666\n",
      "epoch: 24 lr: 0.0010 | train loss: 0.1546 train acc: 0.9475 val loss: 0.2172 | val acc: 0.9302 epoch time: 13.56 time: 13.56\n",
      "336.11587953567505\n"
     ]
    },
    {
     "data": {
      "text/plain": [
       "<Figure size 432x288 with 0 Axes>"
      ]
     },
     "execution_count": 18,
     "metadata": {},
     "output_type": "execute_result"
    },
    {
     "data": {
      "text/plain": [
       "[<matplotlib.lines.Line2D at 0x7f1bf82ebf28>]"
      ]
     },
     "execution_count": 18,
     "metadata": {},
     "output_type": "execute_result"
    },
    {
     "data": {
      "text/plain": [
       "[<matplotlib.lines.Line2D at 0x7f1c3004c390>]"
      ]
     },
     "execution_count": 18,
     "metadata": {},
     "output_type": "execute_result"
    },
    {
     "data": {
      "image/png": "[encoded data removed]",
      "text/plain": [
       "<Figure size 432x288 with 1 Axes>"
      ]
     },
     "metadata": {
      "needs_background": "light"
     },
     "output_type": "display_data"
    }
   ],
   "source": [
    "print(gc.collect())\n",
    "test_set = tf.data.Dataset.from_tensor_slices((x_test, y_test)).batch(BATCH_SIZE).prefetch(1)\n",
    "\n",
    "t_start = time.time()\n",
    "# t_last = time.time()\n",
    "train_accs = []\n",
    "test_accs = []\n",
    "\n",
    "for epoch in range(EPOCHS):\n",
    "    train_loss = test_loss = train_acc = test_acc = 0.0\n",
    "    \n",
    "    train_set = train_data[epoch]\n",
    "    train_set = tf.data.Dataset.from_tensor_slices(train_set).batch(BATCH_SIZE).prefetch(1)\n",
    "    # train_set = dataset.batch(512)\n",
    "    tf.keras.backend.set_learning_phase(1)\n",
    "\n",
    "    t = time.time()\n",
    "    t_last = time.time()\n",
    "    for (x, y) in train_set:\n",
    "        with tf.GradientTape() as tape:\n",
    "            loss, correct = model(x, y)\n",
    "\n",
    "        var = model.trainable_variables\n",
    "        grads = tape.gradient(loss, var)\n",
    "        for g, v in zip(grads, var):\n",
    "            g += v * (WEIGHT_DECAY/(epoch+1)) * BATCH_SIZE\n",
    "        opt.apply_gradients(zip(grads, var), global_step=global_step)\n",
    "\n",
    "        train_loss += loss.numpy()\n",
    "        train_acc += correct.numpy()\n",
    "\n",
    "    tf.keras.backend.set_learning_phase(0)\n",
    "    kk = time.time()\n",
    "    \n",
    "    for (x, y) in test_set:\n",
    "        loss, correct = model(x, y)\n",
    "        test_loss += loss.numpy()\n",
    "        test_acc += correct.numpy()\n",
    "    mm = time.time()\n",
    "    print(\"time for test\",mm-kk)\n",
    "    t2 = time.time()\n",
    "    epoch_time = t2 - t_last\n",
    "    t_last = t2\n",
    "    train_accs.append(train_acc / len_train)\n",
    "    test_accs.append(test_acc / len_test)\n",
    "\n",
    "    \n",
    "    print(\"epoch: %s\"%(epoch+1),'lr: %.4f' % (lr_schedule(epoch+1)), '| train loss: %.4f' %(train_loss / len_train), 'train acc: %.4f' % (train_acc / len_train), 'val loss: %.4f' % (test_loss / len_test), '| val acc: %.4f' %(test_acc / len_test),\"epoch time: %.2f\"%(epoch_time), 'time: %.2f'%(t2 - t))\n",
    "    print(time.time()-t_start)\n",
    "    \n",
    "plt.figure()\n",
    "plt.plot(train_accs[3:])\n",
    "plt.plot(test_accs[3:])\n",
    "plt.show()"
   ]
  },
  {
   "cell_type": "code",
   "execution_count": null,
   "metadata": {},
   "outputs": [],
   "source": []
  }
 ],
 "metadata": {
  "accelerator": "GPU",
  "colab": {
   "name": "DavidNet.ipynb",
   "provenance": [],
   "version": "0.3.2"
  },
  "kernelspec": {
   "display_name": "Python 3",
   "language": "python",
   "name": "python3"
  },
  "language_info": {
   "codemirror_mode": {
    "name": "ipython",
    "version": 3
   },
   "file_extension": ".py",
   "mimetype": "text/x-python",
   "name": "python",
   "nbconvert_exporter": "python",
   "pygments_lexer": "ipython3",
   "version": "3.6.8"
  }
 },
 "nbformat": 4,
 "nbformat_minor": 1
}
